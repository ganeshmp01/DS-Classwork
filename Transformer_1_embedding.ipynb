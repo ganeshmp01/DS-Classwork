{
  "nbformat": 4,
  "nbformat_minor": 0,
  "metadata": {
    "colab": {
      "provenance": [],
      "gpuType": "T4",
      "authorship_tag": "ABX9TyMrzysicJsx3g0FyxPwarO8",
      "include_colab_link": true
    },
    "kernelspec": {
      "name": "python3",
      "display_name": "Python 3"
    },
    "language_info": {
      "name": "python"
    },
    "accelerator": "GPU"
  },
  "cells": [
    {
      "cell_type": "markdown",
      "metadata": {
        "id": "view-in-github",
        "colab_type": "text"
      },
      "source": [
        "<a href=\"https://colab.research.google.com/github/ganeshmp01/DS-Classwork/blob/main/Transformer_1_embedding.ipynb\" target=\"_parent\"><img src=\"https://colab.research.google.com/assets/colab-badge.svg\" alt=\"Open In Colab\"/></a>"
      ]
    },
    {
      "cell_type": "code",
      "execution_count": 1,
      "metadata": {
        "colab": {
          "base_uri": "https://localhost:8080/"
        },
        "collapsed": true,
        "id": "WhrW5tGxmTfj",
        "outputId": "641ad583-af76-48c1-86a5-775746253e22"
      },
      "outputs": [
        {
          "output_type": "stream",
          "name": "stdout",
          "text": [
            "Collecting contractions\n",
            "  Downloading contractions-0.1.73-py2.py3-none-any.whl.metadata (1.2 kB)\n",
            "Collecting textsearch>=0.0.21 (from contractions)\n",
            "  Downloading textsearch-0.0.24-py2.py3-none-any.whl.metadata (1.2 kB)\n",
            "Collecting anyascii (from textsearch>=0.0.21->contractions)\n",
            "  Downloading anyascii-0.3.2-py3-none-any.whl.metadata (1.5 kB)\n",
            "Collecting pyahocorasick (from textsearch>=0.0.21->contractions)\n",
            "  Downloading pyahocorasick-2.1.0-cp310-cp310-manylinux_2_5_x86_64.manylinux1_x86_64.manylinux_2_12_x86_64.manylinux2010_x86_64.whl.metadata (13 kB)\n",
            "Downloading contractions-0.1.73-py2.py3-none-any.whl (8.7 kB)\n",
            "Downloading textsearch-0.0.24-py2.py3-none-any.whl (7.6 kB)\n",
            "Downloading anyascii-0.3.2-py3-none-any.whl (289 kB)\n",
            "\u001b[2K   \u001b[90m━━━━━━━━━━━━━━━━━━━━━━━━━━━━━━━━━━━━━━━━\u001b[0m \u001b[32m289.9/289.9 kB\u001b[0m \u001b[31m7.2 MB/s\u001b[0m eta \u001b[36m0:00:00\u001b[0m\n",
            "\u001b[?25hDownloading pyahocorasick-2.1.0-cp310-cp310-manylinux_2_5_x86_64.manylinux1_x86_64.manylinux_2_12_x86_64.manylinux2010_x86_64.whl (110 kB)\n",
            "\u001b[2K   \u001b[90m━━━━━━━━━━━━━━━━━━━━━━━━━━━━━━━━━━━━━━━━\u001b[0m \u001b[32m110.7/110.7 kB\u001b[0m \u001b[31m6.2 MB/s\u001b[0m eta \u001b[36m0:00:00\u001b[0m\n",
            "\u001b[?25hInstalling collected packages: pyahocorasick, anyascii, textsearch, contractions\n",
            "Successfully installed anyascii-0.3.2 contractions-0.1.73 pyahocorasick-2.1.0 textsearch-0.0.24\n",
            "Requirement already satisfied: textsearch in /usr/local/lib/python3.10/dist-packages (0.0.24)\n",
            "Requirement already satisfied: anyascii in /usr/local/lib/python3.10/dist-packages (from textsearch) (0.3.2)\n",
            "Requirement already satisfied: pyahocorasick in /usr/local/lib/python3.10/dist-packages (from textsearch) (2.1.0)\n",
            "Requirement already satisfied: tqdm in /usr/local/lib/python3.10/dist-packages (4.66.4)\n"
          ]
        },
        {
          "output_type": "stream",
          "name": "stderr",
          "text": [
            "[nltk_data] Downloading package punkt to /root/nltk_data...\n",
            "[nltk_data]   Unzipping tokenizers/punkt.zip.\n"
          ]
        },
        {
          "output_type": "execute_result",
          "data": {
            "text/plain": [
              "True"
            ]
          },
          "metadata": {},
          "execution_count": 1
        }
      ],
      "source": [
        "!pip install contractions\n",
        "!pip install textsearch\n",
        "!pip install tqdm\n",
        "import nltk\n",
        "nltk.download('punkt')"
      ]
    },
    {
      "cell_type": "code",
      "source": [
        "import pandas as pd\n",
        "from bs4 import BeautifulSoup\n",
        "import numpy as np\n",
        "import re\n",
        "import tqdm\n",
        "import unicodedata\n",
        "\n",
        "dataset = pd.read_csv(\"/content/movie_reviews.csv.bz2\")\n",
        "dataset.info()"
      ],
      "metadata": {
        "colab": {
          "base_uri": "https://localhost:8080/"
        },
        "id": "FDStEkGvmn_u",
        "outputId": "2aa8cc1e-b269-4f5a-cbc0-642319b7ac05"
      },
      "execution_count": 4,
      "outputs": [
        {
          "output_type": "stream",
          "name": "stdout",
          "text": [
            "<class 'pandas.core.frame.DataFrame'>\n",
            "RangeIndex: 50000 entries, 0 to 49999\n",
            "Data columns (total 2 columns):\n",
            " #   Column     Non-Null Count  Dtype \n",
            "---  ------     --------------  ----- \n",
            " 0   review     50000 non-null  object\n",
            " 1   sentiment  50000 non-null  object\n",
            "dtypes: object(2)\n",
            "memory usage: 781.4+ KB\n"
          ]
        }
      ]
    },
    {
      "cell_type": "code",
      "source": [
        "dataset.head()"
      ],
      "metadata": {
        "colab": {
          "base_uri": "https://localhost:8080/",
          "height": 206
        },
        "id": "EMelbhXJoCLs",
        "outputId": "3b281caf-7104-48b2-b2c1-608e507788d1"
      },
      "execution_count": 5,
      "outputs": [
        {
          "output_type": "execute_result",
          "data": {
            "text/plain": [
              "                                              review sentiment\n",
              "0  One of the other reviewers has mentioned that ...  positive\n",
              "1  A wonderful little production. <br /><br />The...  positive\n",
              "2  I thought this was a wonderful way to spend ti...  positive\n",
              "3  Basically there's a family where a little boy ...  negative\n",
              "4  Petter Mattei's \"Love in the Time of Money\" is...  positive"
            ],
            "text/html": [
              "\n",
              "  <div id=\"df-b0d15164-8072-4b57-85d7-10fc326c602e\" class=\"colab-df-container\">\n",
              "    <div>\n",
              "<style scoped>\n",
              "    .dataframe tbody tr th:only-of-type {\n",
              "        vertical-align: middle;\n",
              "    }\n",
              "\n",
              "    .dataframe tbody tr th {\n",
              "        vertical-align: top;\n",
              "    }\n",
              "\n",
              "    .dataframe thead th {\n",
              "        text-align: right;\n",
              "    }\n",
              "</style>\n",
              "<table border=\"1\" class=\"dataframe\">\n",
              "  <thead>\n",
              "    <tr style=\"text-align: right;\">\n",
              "      <th></th>\n",
              "      <th>review</th>\n",
              "      <th>sentiment</th>\n",
              "    </tr>\n",
              "  </thead>\n",
              "  <tbody>\n",
              "    <tr>\n",
              "      <th>0</th>\n",
              "      <td>One of the other reviewers has mentioned that ...</td>\n",
              "      <td>positive</td>\n",
              "    </tr>\n",
              "    <tr>\n",
              "      <th>1</th>\n",
              "      <td>A wonderful little production. &lt;br /&gt;&lt;br /&gt;The...</td>\n",
              "      <td>positive</td>\n",
              "    </tr>\n",
              "    <tr>\n",
              "      <th>2</th>\n",
              "      <td>I thought this was a wonderful way to spend ti...</td>\n",
              "      <td>positive</td>\n",
              "    </tr>\n",
              "    <tr>\n",
              "      <th>3</th>\n",
              "      <td>Basically there's a family where a little boy ...</td>\n",
              "      <td>negative</td>\n",
              "    </tr>\n",
              "    <tr>\n",
              "      <th>4</th>\n",
              "      <td>Petter Mattei's \"Love in the Time of Money\" is...</td>\n",
              "      <td>positive</td>\n",
              "    </tr>\n",
              "  </tbody>\n",
              "</table>\n",
              "</div>\n",
              "    <div class=\"colab-df-buttons\">\n",
              "\n",
              "  <div class=\"colab-df-container\">\n",
              "    <button class=\"colab-df-convert\" onclick=\"convertToInteractive('df-b0d15164-8072-4b57-85d7-10fc326c602e')\"\n",
              "            title=\"Convert this dataframe to an interactive table.\"\n",
              "            style=\"display:none;\">\n",
              "\n",
              "  <svg xmlns=\"http://www.w3.org/2000/svg\" height=\"24px\" viewBox=\"0 -960 960 960\">\n",
              "    <path d=\"M120-120v-720h720v720H120Zm60-500h600v-160H180v160Zm220 220h160v-160H400v160Zm0 220h160v-160H400v160ZM180-400h160v-160H180v160Zm440 0h160v-160H620v160ZM180-180h160v-160H180v160Zm440 0h160v-160H620v160Z\"/>\n",
              "  </svg>\n",
              "    </button>\n",
              "\n",
              "  <style>\n",
              "    .colab-df-container {\n",
              "      display:flex;\n",
              "      gap: 12px;\n",
              "    }\n",
              "\n",
              "    .colab-df-convert {\n",
              "      background-color: #E8F0FE;\n",
              "      border: none;\n",
              "      border-radius: 50%;\n",
              "      cursor: pointer;\n",
              "      display: none;\n",
              "      fill: #1967D2;\n",
              "      height: 32px;\n",
              "      padding: 0 0 0 0;\n",
              "      width: 32px;\n",
              "    }\n",
              "\n",
              "    .colab-df-convert:hover {\n",
              "      background-color: #E2EBFA;\n",
              "      box-shadow: 0px 1px 2px rgba(60, 64, 67, 0.3), 0px 1px 3px 1px rgba(60, 64, 67, 0.15);\n",
              "      fill: #174EA6;\n",
              "    }\n",
              "\n",
              "    .colab-df-buttons div {\n",
              "      margin-bottom: 4px;\n",
              "    }\n",
              "\n",
              "    [theme=dark] .colab-df-convert {\n",
              "      background-color: #3B4455;\n",
              "      fill: #D2E3FC;\n",
              "    }\n",
              "\n",
              "    [theme=dark] .colab-df-convert:hover {\n",
              "      background-color: #434B5C;\n",
              "      box-shadow: 0px 1px 3px 1px rgba(0, 0, 0, 0.15);\n",
              "      filter: drop-shadow(0px 1px 2px rgba(0, 0, 0, 0.3));\n",
              "      fill: #FFFFFF;\n",
              "    }\n",
              "  </style>\n",
              "\n",
              "    <script>\n",
              "      const buttonEl =\n",
              "        document.querySelector('#df-b0d15164-8072-4b57-85d7-10fc326c602e button.colab-df-convert');\n",
              "      buttonEl.style.display =\n",
              "        google.colab.kernel.accessAllowed ? 'block' : 'none';\n",
              "\n",
              "      async function convertToInteractive(key) {\n",
              "        const element = document.querySelector('#df-b0d15164-8072-4b57-85d7-10fc326c602e');\n",
              "        const dataTable =\n",
              "          await google.colab.kernel.invokeFunction('convertToInteractive',\n",
              "                                                    [key], {});\n",
              "        if (!dataTable) return;\n",
              "\n",
              "        const docLinkHtml = 'Like what you see? Visit the ' +\n",
              "          '<a target=\"_blank\" href=https://colab.research.google.com/notebooks/data_table.ipynb>data table notebook</a>'\n",
              "          + ' to learn more about interactive tables.';\n",
              "        element.innerHTML = '';\n",
              "        dataTable['output_type'] = 'display_data';\n",
              "        await google.colab.output.renderOutput(dataTable, element);\n",
              "        const docLink = document.createElement('div');\n",
              "        docLink.innerHTML = docLinkHtml;\n",
              "        element.appendChild(docLink);\n",
              "      }\n",
              "    </script>\n",
              "  </div>\n",
              "\n",
              "\n",
              "<div id=\"df-6a3dc616-d419-442f-aaef-5f990a2d6423\">\n",
              "  <button class=\"colab-df-quickchart\" onclick=\"quickchart('df-6a3dc616-d419-442f-aaef-5f990a2d6423')\"\n",
              "            title=\"Suggest charts\"\n",
              "            style=\"display:none;\">\n",
              "\n",
              "<svg xmlns=\"http://www.w3.org/2000/svg\" height=\"24px\"viewBox=\"0 0 24 24\"\n",
              "     width=\"24px\">\n",
              "    <g>\n",
              "        <path d=\"M19 3H5c-1.1 0-2 .9-2 2v14c0 1.1.9 2 2 2h14c1.1 0 2-.9 2-2V5c0-1.1-.9-2-2-2zM9 17H7v-7h2v7zm4 0h-2V7h2v10zm4 0h-2v-4h2v4z\"/>\n",
              "    </g>\n",
              "</svg>\n",
              "  </button>\n",
              "\n",
              "<style>\n",
              "  .colab-df-quickchart {\n",
              "      --bg-color: #E8F0FE;\n",
              "      --fill-color: #1967D2;\n",
              "      --hover-bg-color: #E2EBFA;\n",
              "      --hover-fill-color: #174EA6;\n",
              "      --disabled-fill-color: #AAA;\n",
              "      --disabled-bg-color: #DDD;\n",
              "  }\n",
              "\n",
              "  [theme=dark] .colab-df-quickchart {\n",
              "      --bg-color: #3B4455;\n",
              "      --fill-color: #D2E3FC;\n",
              "      --hover-bg-color: #434B5C;\n",
              "      --hover-fill-color: #FFFFFF;\n",
              "      --disabled-bg-color: #3B4455;\n",
              "      --disabled-fill-color: #666;\n",
              "  }\n",
              "\n",
              "  .colab-df-quickchart {\n",
              "    background-color: var(--bg-color);\n",
              "    border: none;\n",
              "    border-radius: 50%;\n",
              "    cursor: pointer;\n",
              "    display: none;\n",
              "    fill: var(--fill-color);\n",
              "    height: 32px;\n",
              "    padding: 0;\n",
              "    width: 32px;\n",
              "  }\n",
              "\n",
              "  .colab-df-quickchart:hover {\n",
              "    background-color: var(--hover-bg-color);\n",
              "    box-shadow: 0 1px 2px rgba(60, 64, 67, 0.3), 0 1px 3px 1px rgba(60, 64, 67, 0.15);\n",
              "    fill: var(--button-hover-fill-color);\n",
              "  }\n",
              "\n",
              "  .colab-df-quickchart-complete:disabled,\n",
              "  .colab-df-quickchart-complete:disabled:hover {\n",
              "    background-color: var(--disabled-bg-color);\n",
              "    fill: var(--disabled-fill-color);\n",
              "    box-shadow: none;\n",
              "  }\n",
              "\n",
              "  .colab-df-spinner {\n",
              "    border: 2px solid var(--fill-color);\n",
              "    border-color: transparent;\n",
              "    border-bottom-color: var(--fill-color);\n",
              "    animation:\n",
              "      spin 1s steps(1) infinite;\n",
              "  }\n",
              "\n",
              "  @keyframes spin {\n",
              "    0% {\n",
              "      border-color: transparent;\n",
              "      border-bottom-color: var(--fill-color);\n",
              "      border-left-color: var(--fill-color);\n",
              "    }\n",
              "    20% {\n",
              "      border-color: transparent;\n",
              "      border-left-color: var(--fill-color);\n",
              "      border-top-color: var(--fill-color);\n",
              "    }\n",
              "    30% {\n",
              "      border-color: transparent;\n",
              "      border-left-color: var(--fill-color);\n",
              "      border-top-color: var(--fill-color);\n",
              "      border-right-color: var(--fill-color);\n",
              "    }\n",
              "    40% {\n",
              "      border-color: transparent;\n",
              "      border-right-color: var(--fill-color);\n",
              "      border-top-color: var(--fill-color);\n",
              "    }\n",
              "    60% {\n",
              "      border-color: transparent;\n",
              "      border-right-color: var(--fill-color);\n",
              "    }\n",
              "    80% {\n",
              "      border-color: transparent;\n",
              "      border-right-color: var(--fill-color);\n",
              "      border-bottom-color: var(--fill-color);\n",
              "    }\n",
              "    90% {\n",
              "      border-color: transparent;\n",
              "      border-bottom-color: var(--fill-color);\n",
              "    }\n",
              "  }\n",
              "</style>\n",
              "\n",
              "  <script>\n",
              "    async function quickchart(key) {\n",
              "      const quickchartButtonEl =\n",
              "        document.querySelector('#' + key + ' button');\n",
              "      quickchartButtonEl.disabled = true;  // To prevent multiple clicks.\n",
              "      quickchartButtonEl.classList.add('colab-df-spinner');\n",
              "      try {\n",
              "        const charts = await google.colab.kernel.invokeFunction(\n",
              "            'suggestCharts', [key], {});\n",
              "      } catch (error) {\n",
              "        console.error('Error during call to suggestCharts:', error);\n",
              "      }\n",
              "      quickchartButtonEl.classList.remove('colab-df-spinner');\n",
              "      quickchartButtonEl.classList.add('colab-df-quickchart-complete');\n",
              "    }\n",
              "    (() => {\n",
              "      let quickchartButtonEl =\n",
              "        document.querySelector('#df-6a3dc616-d419-442f-aaef-5f990a2d6423 button');\n",
              "      quickchartButtonEl.style.display =\n",
              "        google.colab.kernel.accessAllowed ? 'block' : 'none';\n",
              "    })();\n",
              "  </script>\n",
              "</div>\n",
              "\n",
              "    </div>\n",
              "  </div>\n"
            ],
            "application/vnd.google.colaboratory.intrinsic+json": {
              "type": "dataframe",
              "variable_name": "dataset",
              "summary": "{\n  \"name\": \"dataset\",\n  \"rows\": 50000,\n  \"fields\": [\n    {\n      \"column\": \"review\",\n      \"properties\": {\n        \"dtype\": \"string\",\n        \"num_unique_values\": 49582,\n        \"samples\": [\n          \"\\\"Soul Plane\\\" is a horrible attempt at comedy that only should appeal people with thick skulls, bloodshot eyes and furry pawns. <br /><br />The plot is not only incoherent but also non-existent, acting is mostly sub sub-par with a gang of highly moronic and dreadful characters thrown in for bad measure, jokes are often spotted miles ahead and almost never even a bit amusing. This movie lacks any structure and is full of racial stereotypes that must have seemed old even in the fifties, the only thing it really has going for it is some pretty ladies, but really, if you want that you can rent something from the \\\"Adult\\\" section. OK?<br /><br />I can hardly see anything here to recommend since you'll probably have a lot a better and productive time chasing rats with a sledgehammer or inventing waterproof teabags or whatever.<br /><br />2/10\",\n          \"Guest from the Future tells a fascinating story of time travel, friendship, battle of good and evil -- all with a small budget, child actors, and few special effects. Something for Spielberg and Lucas to learn from. ;) A sixth-grader Kolya \\\"Nick\\\" Gerasimov finds a time machine in the basement of a decrepit building and travels 100 years into the future. He discovers a near-perfect, utopian society where robots play guitars and write poetry, everyone is kind to each other and people enjoy everything technology has to offer. Alice is the daughter of a prominent scientist who invented a device called Mielophone that allows to read minds of humans and animals. The device can be put to both good and bad use, depending on whose hands it falls into. When two evil space pirates from Saturn who want to rule the universe attempt to steal Mielophone, it falls into the hands of 20th century school boy Nick. With the pirates hot on his tracks, he travels back to his time, followed by the pirates, and Alice. Chaos, confusion and funny situations follow as the luckless pirates try to blend in with the earthlings. Alice enrolls in the same school Nick goes to and demonstrates superhuman abilities in PE class. The catch is, Alice doesn't know what Nick looks like, while the pirates do. Also, the pirates are able to change their appearance and turn literally into anyone. (Hmm, I wonder if this is where James Cameron got the idea for Terminator...) Who gets to Nick -- and Mielophone -- first? Excellent plot, non-stop adventures, and great soundtrack. I wish Hollywood made kid movies like this one...\",\n          \"\\\"National Treasure\\\" (2004) is a thoroughly misguided hodge-podge of plot entanglements that borrow from nearly every cloak and dagger government conspiracy clich\\u00e9 that has ever been written. The film stars Nicholas Cage as Benjamin Franklin Gates (how precious is that, I ask you?); a seemingly normal fellow who, for no other reason than being of a lineage of like-minded misguided fortune hunters, decides to steal a 'national treasure' that has been hidden by the United States founding fathers. After a bit of subtext and background that plays laughably (unintentionally) like Indiana Jones meets The Patriot, the film degenerates into one misguided whimsy after another \\u0096 attempting to create a 'Stanley Goodspeed' regurgitation of Nicholas Cage and launch the whole convoluted mess forward with a series of high octane, but disconnected misadventures.<br /><br />The relevancy and logic to having George Washington and his motley crew of patriots burying a king's ransom someplace on native soil, and then, going through the meticulous plan of leaving clues scattered throughout U.S. currency art work, is something that director Jon Turteltaub never quite gets around to explaining. Couldn't Washington found better usage for such wealth during the start up of the country? Hence, we are left with a mystery built on top of an enigma that is already on shaky ground by the time Ben appoints himself the new custodian of this untold wealth. Ben's intentions are noble \\u0096 if confusing. He's set on protecting the treasure. For who and when?\\u0085your guess is as good as mine.<br /><br />But there are a few problems with Ben's crusade. First up, his friend, Ian Holmes (Sean Bean) decides that he can't wait for Ben to make up his mind about stealing the Declaration of Independence from the National Archives (oh, yeah \\u0096 brilliant idea!). Presumably, the back of that famous document holds the secret answer to the ultimate fortune. So Ian tries to kill Ben. The assassination attempt is, of course, unsuccessful, if overly melodramatic. It also affords Ben the opportunity to pick up, and pick on, the very sultry curator of the archives, Abigail Chase (Diane Kruger). She thinks Ben is clearly a nut \\u0096 at least at the beginning. But true to action/romance form, Abby's resolve melts quicker than you can say, \\\"is that the Hope Diamond?\\\" The film moves into full X-File-ish mode, as the FBI, mistakenly believing that Ben is behind the theft, retaliate in various benign ways that lead to a multi-layering of action sequences reminiscent of Mission Impossible meets The Fugitive. Honestly, don't those guys ever get 'intelligence' information that is correct? In the final analysis, \\\"National Treasure\\\" isn't great film making, so much as it's a patchwork rehash of tired old bits from other movies, woven together from scraps, the likes of which would make IL' Betsy Ross blush.<br /><br />The Buena Vista DVD delivers a far more generous treatment than this film is deserving of. The anamorphic widescreen picture exhibits a very smooth and finely detailed image with very rich colors, natural flesh tones, solid blacks and clean whites. The stylized image is also free of blemishes and digital enhancements. The audio is 5.1 and delivers a nice sonic boom to your side and rear speakers with intensity and realism. Extras include a host of promotional junket material that is rather deep and over the top in its explanation of how and why this film was made. If only, as an audience, we had had more clarification as to why Ben and co. were chasing after an illusive treasure, this might have been one good flick. Extras conclude with the theatrical trailer, audio commentary and deleted scenes. Not for the faint-hearted \\u0096 just the thick-headed.\"\n        ],\n        \"semantic_type\": \"\",\n        \"description\": \"\"\n      }\n    },\n    {\n      \"column\": \"sentiment\",\n      \"properties\": {\n        \"dtype\": \"category\",\n        \"num_unique_values\": 2,\n        \"samples\": [\n          \"negative\",\n          \"positive\"\n        ],\n        \"semantic_type\": \"\",\n        \"description\": \"\"\n      }\n    }\n  ]\n}"
            }
          },
          "metadata": {},
          "execution_count": 5
        }
      ]
    },
    {
      "cell_type": "code",
      "source": [
        "dataset['review'][1]"
      ],
      "metadata": {
        "colab": {
          "base_uri": "https://localhost:8080/",
          "height": 122
        },
        "id": "PSs8QYh2oFex",
        "outputId": "43e23797-6042-4c5a-9318-bb4e88514efe"
      },
      "execution_count": 6,
      "outputs": [
        {
          "output_type": "execute_result",
          "data": {
            "text/plain": [
              "'A wonderful little production. <br /><br />The filming technique is very unassuming- very old-time-BBC fashion and gives a comforting, and sometimes discomforting, sense of realism to the entire piece. <br /><br />The actors are extremely well chosen- Michael Sheen not only \"has got all the polari\" but he has all the voices down pat too! You can truly see the seamless editing guided by the references to Williams\\' diary entries, not only is it well worth the watching but it is a terrificly written and performed piece. A masterful production about one of the great master\\'s of comedy and his life. <br /><br />The realism really comes home with the little things: the fantasy of the guard which, rather than use the traditional \\'dream\\' techniques remains solid then disappears. It plays on our knowledge and our senses, particularly with the scenes concerning Orton and Halliwell and the sets (particularly of their flat with Halliwell\\'s murals decorating every surface) are terribly well done.'"
            ],
            "application/vnd.google.colaboratory.intrinsic+json": {
              "type": "string"
            }
          },
          "metadata": {},
          "execution_count": 6
        }
      ]
    },
    {
      "cell_type": "code",
      "source": [
        "def strip_html_tags(text):\n",
        "  soup = BeautifulSoup(text,'html.parser')\n",
        "  stripped_text = soup.get_text()\n",
        "  stripped_text = re.sub(r'[\\r|\\n|\\r\\n]+','\\n',stripped_text)\n",
        "  return stripped_text"
      ],
      "metadata": {
        "id": "NQuapj69oKDc"
      },
      "execution_count": 7,
      "outputs": []
    },
    {
      "cell_type": "code",
      "source": [
        "strip_html_tags(dataset['review'][20])"
      ],
      "metadata": {
        "colab": {
          "base_uri": "https://localhost:8080/",
          "height": 122
        },
        "id": "eMdGS8kwoJ-0",
        "outputId": "e659f634-2086-479b-9204-6f5048f77baa"
      },
      "execution_count": 8,
      "outputs": [
        {
          "output_type": "execute_result",
          "data": {
            "text/plain": [
              "\"After the success of Die Hard and it's sequels it's no surprise really that in the 1990s, a glut of 'Die Hard on a .....' movies cashed in on the wrong guy, wrong place, wrong time concept. That is what they did with Cliffhanger, Die Hard on a mountain just in time to rescue Sly 'Stop or My Mom Will Shoot' Stallone's career.Cliffhanger is one big nit-pickers dream, especially to those who are expert at mountain climbing, base-jumping, aviation, facial expressions, acting skills. All in all it's full of excuses to dismiss the film as one overblown pile of junk. Stallone even managed to get out-acted by a horse! However, if you an forget all the nonsense, it's actually a very lovable and undeniably entertaining romp that delivers as plenty of thrills, and unintentionally, plenty of laughs.You've got to love John Lithgows sneery evilness, his tick every box band of baddies, and best of all, the permanently harassed and hapless 'turncoat' agent, Rex Linn as Travers.He may of been Henry in 'Portrait of a Serial Killer' but Michael Rooker is noteworthy for a cringe-worthy performance as Hal, he insists on constantly shrieking in painful disbelief at his captors 'that man never hurt anybody' And whilst he surely can't be, it really does look like Ralph Waite's Frank character is grinning as the girl plummets to her death.Mention too must go to former 'London's Burning' actor Craig Fairbrass as the Brit bad guy, who comes a cropper whilst using Hal as a Human Football, yes, you can't help enjoy that bit, Hal needed a good kicking.So forget your better judgement, who cares if 'that could never happen', lower your acting expectations, turn up the volume and enjoy! And if you're looking for Qaulen, he's the one wearing the helicopter.\""
            ],
            "application/vnd.google.colaboratory.intrinsic+json": {
              "type": "string"
            }
          },
          "metadata": {},
          "execution_count": 8
        }
      ]
    },
    {
      "cell_type": "code",
      "source": [
        "def remove_accented_characters(text):\n",
        "  text = unicodedata.normalize(\"NFKD\",text).encode(\"ascii\",'ignore').decode('utf-8','ignore')\n",
        "  return text"
      ],
      "metadata": {
        "id": "UUs9egm7oQXl"
      },
      "execution_count": 9,
      "outputs": []
    },
    {
      "cell_type": "code",
      "source": [
        "def pre_process_corpus(texts):\n",
        "  preprocessed_text = []\n",
        "  for doc in tqdm.tqdm(texts):\n",
        "    doc = strip_html_tags(doc)\n",
        "    #doc = doc.translate(doc.maketrans(\"\\n\\t\\r\",'   '))\n",
        "    doc = doc.lower()\n",
        "    doc = remove_accented_characters(doc)\n",
        "    #Do remove contractions as well and check the results\n",
        "    doc = re.sub(r'[^a-zA-Z0-9\\s]','',doc,re.I|re.A)\n",
        "    doc = re.sub(r' +',' ',doc)\n",
        "    doc = doc.strip()\n",
        "    #doc = \"\".join(doc)\n",
        "    preprocessed_text.append(doc)\n",
        "  return preprocessed_text"
      ],
      "metadata": {
        "id": "1fl6N5s2oUkX"
      },
      "execution_count": 10,
      "outputs": []
    },
    {
      "cell_type": "code",
      "source": [
        "reviews  = dataset['review'].values\n",
        "sentiment = dataset['sentiment'].values\n",
        "\n",
        "train_reviews = reviews[:35000]\n",
        "train_sentiment = sentiment[:35000]\n",
        "\n",
        "test_reviews = reviews[35000:]\n",
        "test_sentiment = sentiment[35000:]"
      ],
      "metadata": {
        "id": "hiEGivC3oX6x"
      },
      "execution_count": 11,
      "outputs": []
    },
    {
      "cell_type": "code",
      "source": [
        "pre_process_corpus([dataset['review'][20]])"
      ],
      "metadata": {
        "colab": {
          "base_uri": "https://localhost:8080/"
        },
        "id": "r3cPT4IsobV-",
        "outputId": "0d7be4f3-94b1-4d9e-87d2-fe3ce332feb3"
      },
      "execution_count": 12,
      "outputs": [
        {
          "output_type": "stream",
          "name": "stderr",
          "text": [
            "100%|██████████| 1/1 [00:00<00:00, 752.75it/s]\n"
          ]
        },
        {
          "output_type": "execute_result",
          "data": {
            "text/plain": [
              "['after the success of die hard and its sequels its no surprise really that in the 1990s a glut of die hard on a movies cashed in on the wrong guy wrong place wrong time concept that is what they did with cliffhanger die hard on a mountain just in time to rescue sly stop or my mom will shoot stallones careercliffhanger is one big nitpickers dream especially to those who are expert at mountain climbing basejumping aviation facial expressions acting skills all in all its full of excuses to dismiss the film as one overblown pile of junk stallone even managed to get outacted by a horse however if you an forget all the nonsense its actually a very lovable and undeniably entertaining romp that delivers as plenty of thrills and unintentionally plenty of laughsyouve got to love john lithgows sneery evilness his tick every box band of baddies and best of all the permanently harassed and hapless turncoat agent rex linn as travershe may of been henry in portrait of a serial killer but michael rooker is noteworthy for a cringeworthy performance as hal he insists on constantly shrieking in painful disbelief at his captors that man never hurt anybody and whilst he surely cant be it really does look like ralph waites frank character is grinning as the girl plummets to her deathmention too must go to former londons burning actor craig fairbrass as the brit bad guy who comes a cropper whilst using hal as a human football yes you cant help enjoy that bit hal needed a good kickingso forget your better judgement who cares if that could never happen lower your acting expectations turn up the volume and enjoy and if youre looking for qaulen hes the one wearing the helicopter']"
            ]
          },
          "metadata": {},
          "execution_count": 12
        }
      ]
    },
    {
      "cell_type": "code",
      "source": [
        "%%time\n",
        "norm_train_reviews = pre_process_corpus(train_reviews)\n",
        "norm_test_reviews = pre_process_corpus(test_reviews)"
      ],
      "metadata": {
        "colab": {
          "base_uri": "https://localhost:8080/"
        },
        "id": "q7pCn4Gaoewr",
        "outputId": "83eb791b-275e-4f9f-e2d0-aaddaf8dad81"
      },
      "execution_count": 13,
      "outputs": [
        {
          "output_type": "stream",
          "name": "stderr",
          "text": [
            "  2%|▏         | 725/35000 [00:00<00:09, 3642.80it/s]<ipython-input-7-46650b581e77>:2: MarkupResemblesLocatorWarning: The input looks more like a filename than markup. You may want to open this file and pass the filehandle into Beautiful Soup.\n",
            "  soup = BeautifulSoup(text,'html.parser')\n",
            "100%|██████████| 35000/35000 [00:10<00:00, 3417.77it/s]\n",
            "100%|██████████| 15000/15000 [00:04<00:00, 3516.75it/s]"
          ]
        },
        {
          "output_type": "stream",
          "name": "stdout",
          "text": [
            "CPU times: user 14 s, sys: 123 ms, total: 14.1 s\n",
            "Wall time: 14.5 s\n"
          ]
        },
        {
          "output_type": "stream",
          "name": "stderr",
          "text": [
            "\n"
          ]
        }
      ]
    },
    {
      "cell_type": "code",
      "source": [
        "import tensorflow as tf\n",
        "\n",
        "t = tf.keras.preprocessing.text.Tokenizer(filters='!\"#$%&()*+,-./:;<=>?@[\\\\]^_`{|}~',oov_token = 'UNK')"
      ],
      "metadata": {
        "id": "V4sEEtl0ok_N"
      },
      "execution_count": 14,
      "outputs": []
    },
    {
      "cell_type": "code",
      "source": [
        "t.fit_on_texts(norm_train_reviews)"
      ],
      "metadata": {
        "id": "cjcUatxbopOC"
      },
      "execution_count": 15,
      "outputs": []
    },
    {
      "cell_type": "code",
      "source": [
        "t.word_index['UNK'] = 0"
      ],
      "metadata": {
        "id": "kmRwOdrKopKU"
      },
      "execution_count": 16,
      "outputs": []
    },
    {
      "cell_type": "code",
      "source": [
        "train_sequences = t.texts_to_sequences(norm_train_reviews)\n",
        "test_sequences = t.texts_to_sequences(norm_test_reviews)"
      ],
      "metadata": {
        "id": "QQsLgDD1ovQt"
      },
      "execution_count": 17,
      "outputs": []
    },
    {
      "cell_type": "code",
      "source": [
        "train_sequences[0]"
      ],
      "metadata": {
        "colab": {
          "base_uri": "https://localhost:8080/"
        },
        "id": "3DEV-n16ozyk",
        "outputId": "886a6bf7-e356-42a6-f2d3-96d4cec69e0e"
      },
      "execution_count": 18,
      "outputs": [
        {
          "output_type": "execute_result",
          "data": {
            "text/plain": [
              "[28,\n",
              " 5,\n",
              " 2,\n",
              " 78,\n",
              " 1898,\n",
              " 43,\n",
              " 1048,\n",
              " 12,\n",
              " 101,\n",
              " 145,\n",
              " 40,\n",
              " 521,\n",
              " 3151,\n",
              " 409,\n",
              " 441,\n",
              " 26,\n",
              " 3210,\n",
              " 34,\n",
              " 23,\n",
              " 204,\n",
              " 14,\n",
              " 10,\n",
              " 7,\n",
              " 576,\n",
              " 47,\n",
              " 592,\n",
              " 15,\n",
              " 7117,\n",
              " 87,\n",
              " 146,\n",
              " 12,\n",
              " 3221,\n",
              " 69,\n",
              " 42,\n",
              " 3151,\n",
              " 13,\n",
              " 29,\n",
              " 5505,\n",
              " 3,\n",
              " 15732,\n",
              " 132,\n",
              " 5,\n",
              " 577,\n",
              " 60,\n",
              " 286,\n",
              " 8,\n",
              " 204,\n",
              " 36,\n",
              " 2,\n",
              " 665,\n",
              " 138,\n",
              " 1730,\n",
              " 69,\n",
              " 10,\n",
              " 7,\n",
              " 21,\n",
              " 4,\n",
              " 118,\n",
              " 16,\n",
              " 2,\n",
              " 8205,\n",
              " 5259,\n",
              " 39,\n",
              " 11876,\n",
              " 10,\n",
              " 118,\n",
              " 2383,\n",
              " 55,\n",
              " 5646,\n",
              " 15,\n",
              " 5347,\n",
              " 6,\n",
              " 1419,\n",
              " 384,\n",
              " 39,\n",
              " 577,\n",
              " 29,\n",
              " 7,\n",
              " 3375,\n",
              " 8,\n",
              " 2,\n",
              " 356,\n",
              " 337,\n",
              " 5,\n",
              " 2,\n",
              " 68956,\n",
              " 7,\n",
              " 466,\n",
              " 3151,\n",
              " 14,\n",
              " 12,\n",
              " 7,\n",
              " 2,\n",
              " 11388,\n",
              " 340,\n",
              " 6,\n",
              " 2,\n",
              " 14030,\n",
              " 6160,\n",
              " 2528,\n",
              " 1066,\n",
              " 51153,\n",
              " 9,\n",
              " 2612,\n",
              " 1386,\n",
              " 20,\n",
              " 22197,\n",
              " 525,\n",
              " 33,\n",
              " 4855,\n",
              " 2568,\n",
              " 5,\n",
              " 2,\n",
              " 1159,\n",
              " 115,\n",
              " 31,\n",
              " 2,\n",
              " 7044,\n",
              " 25,\n",
              " 2869,\n",
              " 11877,\n",
              " 3,\n",
              " 405,\n",
              " 51154,\n",
              " 38,\n",
              " 17279,\n",
              " 7,\n",
              " 21,\n",
              " 320,\n",
              " 20,\n",
              " 2,\n",
              " 5060,\n",
              " 3482,\n",
              " 525,\n",
              " 7,\n",
              " 345,\n",
              " 6,\n",
              " 68957,\n",
              " 7645,\n",
              " 37120,\n",
              " 13025,\n",
              " 4606,\n",
              " 7904,\n",
              " 2448,\n",
              " 3,\n",
              " 15285,\n",
              " 51155,\n",
              " 325,\n",
              " 9221,\n",
              " 6727,\n",
              " 11878,\n",
              " 3,\n",
              " 8666,\n",
              " 33347,\n",
              " 23,\n",
              " 108,\n",
              " 234,\n",
              " 19393,\n",
              " 56,\n",
              " 130,\n",
              " 2,\n",
              " 269,\n",
              " 1255,\n",
              " 5,\n",
              " 2,\n",
              " 118,\n",
              " 7,\n",
              " 663,\n",
              " 6,\n",
              " 2,\n",
              " 186,\n",
              " 12,\n",
              " 9,\n",
              " 262,\n",
              " 115,\n",
              " 78,\n",
              " 258,\n",
              " 553,\n",
              " 2944,\n",
              " 798,\n",
              " 176,\n",
              " 1313,\n",
              " 4388,\n",
              " 16,\n",
              " 2389,\n",
              " 1072,\n",
              " 798,\n",
              " 1374,\n",
              " 798,\n",
              " 68958,\n",
              " 149,\n",
              " 992,\n",
              " 184,\n",
              " 2,\n",
              " 87,\n",
              " 409,\n",
              " 11,\n",
              " 119,\n",
              " 203,\n",
              " 3221,\n",
              " 69,\n",
              " 14,\n",
              " 38,\n",
              " 1548,\n",
              " 9,\n",
              " 13,\n",
              " 2230,\n",
              " 11,\n",
              " 397,\n",
              " 130,\n",
              " 11,\n",
              " 13,\n",
              " 1555,\n",
              " 16,\n",
              " 9,\n",
              " 18,\n",
              " 14,\n",
              " 11,\n",
              " 280,\n",
              " 50,\n",
              " 11,\n",
              " 1467,\n",
              " 4,\n",
              " 1274,\n",
              " 16,\n",
              " 3151,\n",
              " 3,\n",
              " 185,\n",
              " 9841,\n",
              " 6,\n",
              " 2,\n",
              " 320,\n",
              " 2145,\n",
              " 5,\n",
              " 2126,\n",
              " 577,\n",
              " 21,\n",
              " 40,\n",
              " 577,\n",
              " 18,\n",
              " 7905,\n",
              " 6891,\n",
              " 4856,\n",
              " 14031,\n",
              " 26,\n",
              " 2799,\n",
              " 44,\n",
              " 16,\n",
              " 4,\n",
              " 30415,\n",
              " 6659,\n",
              " 14031,\n",
              " 493,\n",
              " 20,\n",
              " 610,\n",
              " 3,\n",
              " 74,\n",
              " 239,\n",
              " 15,\n",
              " 9,\n",
              " 73,\n",
              " 9374,\n",
              " 747,\n",
              " 794,\n",
              " 6659,\n",
              " 105,\n",
              " 643,\n",
              " 77,\n",
              " 1159,\n",
              " 17901,\n",
              " 663,\n",
              " 6,\n",
              " 63,\n",
              " 541,\n",
              " 5,\n",
              " 908,\n",
              " 2084,\n",
              " 39,\n",
              " 1159,\n",
              " 552,\n",
              " 145,\n",
              " 3151,\n",
              " 22,\n",
              " 195,\n",
              " 411,\n",
              " 3559,\n",
              " 15,\n",
              " 47,\n",
              " 7,\n",
              " 3321,\n",
              " 68959,\n",
              " 45,\n",
              " 22,\n",
              " 67,\n",
              " 74,\n",
              " 8,\n",
              " 1149,\n",
              " 15,\n",
              " 122,\n",
              " 4214,\n",
              " 501]"
            ]
          },
          "metadata": {},
          "execution_count": 18
        }
      ]
    },
    {
      "cell_type": "code",
      "source": [
        "len(t.word_index)"
      ],
      "metadata": {
        "colab": {
          "base_uri": "https://localhost:8080/"
        },
        "id": "f8uO1PbVo6ga",
        "outputId": "3019e487-2199-4cc0-adb6-8e336e16edc6"
      },
      "execution_count": 19,
      "outputs": [
        {
          "output_type": "execute_result",
          "data": {
            "text/plain": [
              "176890"
            ]
          },
          "metadata": {},
          "execution_count": 19
        }
      ]
    },
    {
      "cell_type": "code",
      "source": [
        "t.document_count"
      ],
      "metadata": {
        "colab": {
          "base_uri": "https://localhost:8080/"
        },
        "id": "7slGeNMipAYy",
        "outputId": "7066d5c6-fe4b-41ba-931f-536211d58e38"
      },
      "execution_count": 20,
      "outputs": [
        {
          "output_type": "execute_result",
          "data": {
            "text/plain": [
              "35000"
            ]
          },
          "metadata": {},
          "execution_count": 20
        }
      ]
    },
    {
      "cell_type": "code",
      "source": [
        "MAX_SEQUENCE_LENGTH = 1000"
      ],
      "metadata": {
        "id": "Xgx3pJlPpHE_"
      },
      "execution_count": 21,
      "outputs": []
    },
    {
      "cell_type": "code",
      "source": [
        "X_train = tf.keras.preprocessing.sequence.pad_sequences(train_sequences,maxlen = MAX_SEQUENCE_LENGTH)\n",
        "X_test = tf.keras.preprocessing.sequence.pad_sequences(test_sequences,maxlen = MAX_SEQUENCE_LENGTH)"
      ],
      "metadata": {
        "id": "4kJADyb6pS0H"
      },
      "execution_count": 22,
      "outputs": []
    },
    {
      "cell_type": "code",
      "source": [
        "from sklearn.preprocessing import LabelEncoder\n",
        "le = LabelEncoder()\n",
        "num_classes = 2"
      ],
      "metadata": {
        "id": "3MwLgV0wtPN5"
      },
      "execution_count": 23,
      "outputs": []
    },
    {
      "cell_type": "code",
      "source": [
        "y_train = le.fit_transform(train_sentiment)\n",
        "y_test = le.transform(test_sentiment)"
      ],
      "metadata": {
        "id": "oGfRwFEqtRsn"
      },
      "execution_count": 24,
      "outputs": []
    },
    {
      "cell_type": "code",
      "source": [
        "VOCAB_SIZE = len(t.word_index)"
      ],
      "metadata": {
        "id": "q2Z9efkdtUk9"
      },
      "execution_count": 25,
      "outputs": []
    },
    {
      "cell_type": "code",
      "source": [
        "EMBEDDING_DIM = 300"
      ],
      "metadata": {
        "id": "KBOFGCdwtw66"
      },
      "execution_count": 26,
      "outputs": []
    },
    {
      "cell_type": "code",
      "source": [
        "model = tf.keras.models.Sequential()\n",
        "model.add(tf.keras.layers.Embedding(input_dim = VOCAB_SIZE,output_dim = EMBEDDING_DIM,input_length = MAX_SEQUENCE_LENGTH))\n",
        "model.add(tf.keras.layers.GRU(128,return_sequences=False))\n",
        "model.add(tf.keras.layers.Dense(256,activation = 'relu'))\n",
        "model.add(tf.keras.layers.Dense(1,activation='sigmoid'))\n",
        "\n",
        "model.compile(loss = 'binary_crossentropy',optimizer = 'adam', metrics = ['accuracy'])"
      ],
      "metadata": {
        "colab": {
          "base_uri": "https://localhost:8080/"
        },
        "id": "yFq5t34Rt1oZ",
        "outputId": "794fbc2a-d652-441e-a1c1-5d48eebde091"
      },
      "execution_count": 27,
      "outputs": [
        {
          "output_type": "stream",
          "name": "stderr",
          "text": [
            "/usr/local/lib/python3.10/dist-packages/keras/src/layers/core/embedding.py:90: UserWarning: Argument `input_length` is deprecated. Just remove it.\n",
            "  warnings.warn(\n"
          ]
        }
      ]
    },
    {
      "cell_type": "code",
      "source": [
        "model.summary()"
      ],
      "metadata": {
        "colab": {
          "base_uri": "https://localhost:8080/",
          "height": 272
        },
        "id": "wk3uw6a2t-7G",
        "outputId": "c117f591-ef39-4a72-c8bd-eef9da1e317e"
      },
      "execution_count": 28,
      "outputs": [
        {
          "output_type": "display_data",
          "data": {
            "text/plain": [
              "\u001b[1mModel: \"sequential\"\u001b[0m\n"
            ],
            "text/html": [
              "<pre style=\"white-space:pre;overflow-x:auto;line-height:normal;font-family:Menlo,'DejaVu Sans Mono',consolas,'Courier New',monospace\"><span style=\"font-weight: bold\">Model: \"sequential\"</span>\n",
              "</pre>\n"
            ]
          },
          "metadata": {}
        },
        {
          "output_type": "display_data",
          "data": {
            "text/plain": [
              "┏━━━━━━━━━━━━━━━━━━━━━━━━━━━━━━━━━━━━━━┳━━━━━━━━━━━━━━━━━━━━━━━━━━━━━┳━━━━━━━━━━━━━━━━━┓\n",
              "┃\u001b[1m \u001b[0m\u001b[1mLayer (type)                        \u001b[0m\u001b[1m \u001b[0m┃\u001b[1m \u001b[0m\u001b[1mOutput Shape               \u001b[0m\u001b[1m \u001b[0m┃\u001b[1m \u001b[0m\u001b[1m        Param #\u001b[0m\u001b[1m \u001b[0m┃\n",
              "┡━━━━━━━━━━━━━━━━━━━━━━━━━━━━━━━━━━━━━━╇━━━━━━━━━━━━━━━━━━━━━━━━━━━━━╇━━━━━━━━━━━━━━━━━┩\n",
              "│ embedding (\u001b[38;5;33mEmbedding\u001b[0m)                │ ?                           │     \u001b[38;5;34m0\u001b[0m (unbuilt) │\n",
              "├──────────────────────────────────────┼─────────────────────────────┼─────────────────┤\n",
              "│ gru (\u001b[38;5;33mGRU\u001b[0m)                            │ ?                           │     \u001b[38;5;34m0\u001b[0m (unbuilt) │\n",
              "├──────────────────────────────────────┼─────────────────────────────┼─────────────────┤\n",
              "│ dense (\u001b[38;5;33mDense\u001b[0m)                        │ ?                           │     \u001b[38;5;34m0\u001b[0m (unbuilt) │\n",
              "├──────────────────────────────────────┼─────────────────────────────┼─────────────────┤\n",
              "│ dense_1 (\u001b[38;5;33mDense\u001b[0m)                      │ ?                           │     \u001b[38;5;34m0\u001b[0m (unbuilt) │\n",
              "└──────────────────────────────────────┴─────────────────────────────┴─────────────────┘\n"
            ],
            "text/html": [
              "<pre style=\"white-space:pre;overflow-x:auto;line-height:normal;font-family:Menlo,'DejaVu Sans Mono',consolas,'Courier New',monospace\">┏━━━━━━━━━━━━━━━━━━━━━━━━━━━━━━━━━━━━━━┳━━━━━━━━━━━━━━━━━━━━━━━━━━━━━┳━━━━━━━━━━━━━━━━━┓\n",
              "┃<span style=\"font-weight: bold\"> Layer (type)                         </span>┃<span style=\"font-weight: bold\"> Output Shape                </span>┃<span style=\"font-weight: bold\">         Param # </span>┃\n",
              "┡━━━━━━━━━━━━━━━━━━━━━━━━━━━━━━━━━━━━━━╇━━━━━━━━━━━━━━━━━━━━━━━━━━━━━╇━━━━━━━━━━━━━━━━━┩\n",
              "│ embedding (<span style=\"color: #0087ff; text-decoration-color: #0087ff\">Embedding</span>)                │ ?                           │     <span style=\"color: #00af00; text-decoration-color: #00af00\">0</span> (unbuilt) │\n",
              "├──────────────────────────────────────┼─────────────────────────────┼─────────────────┤\n",
              "│ gru (<span style=\"color: #0087ff; text-decoration-color: #0087ff\">GRU</span>)                            │ ?                           │     <span style=\"color: #00af00; text-decoration-color: #00af00\">0</span> (unbuilt) │\n",
              "├──────────────────────────────────────┼─────────────────────────────┼─────────────────┤\n",
              "│ dense (<span style=\"color: #0087ff; text-decoration-color: #0087ff\">Dense</span>)                        │ ?                           │     <span style=\"color: #00af00; text-decoration-color: #00af00\">0</span> (unbuilt) │\n",
              "├──────────────────────────────────────┼─────────────────────────────┼─────────────────┤\n",
              "│ dense_1 (<span style=\"color: #0087ff; text-decoration-color: #0087ff\">Dense</span>)                      │ ?                           │     <span style=\"color: #00af00; text-decoration-color: #00af00\">0</span> (unbuilt) │\n",
              "└──────────────────────────────────────┴─────────────────────────────┴─────────────────┘\n",
              "</pre>\n"
            ]
          },
          "metadata": {}
        },
        {
          "output_type": "display_data",
          "data": {
            "text/plain": [
              "\u001b[1m Total params: \u001b[0m\u001b[38;5;34m0\u001b[0m (0.00 B)\n"
            ],
            "text/html": [
              "<pre style=\"white-space:pre;overflow-x:auto;line-height:normal;font-family:Menlo,'DejaVu Sans Mono',consolas,'Courier New',monospace\"><span style=\"font-weight: bold\"> Total params: </span><span style=\"color: #00af00; text-decoration-color: #00af00\">0</span> (0.00 B)\n",
              "</pre>\n"
            ]
          },
          "metadata": {}
        },
        {
          "output_type": "display_data",
          "data": {
            "text/plain": [
              "\u001b[1m Trainable params: \u001b[0m\u001b[38;5;34m0\u001b[0m (0.00 B)\n"
            ],
            "text/html": [
              "<pre style=\"white-space:pre;overflow-x:auto;line-height:normal;font-family:Menlo,'DejaVu Sans Mono',consolas,'Courier New',monospace\"><span style=\"font-weight: bold\"> Trainable params: </span><span style=\"color: #00af00; text-decoration-color: #00af00\">0</span> (0.00 B)\n",
              "</pre>\n"
            ]
          },
          "metadata": {}
        },
        {
          "output_type": "display_data",
          "data": {
            "text/plain": [
              "\u001b[1m Non-trainable params: \u001b[0m\u001b[38;5;34m0\u001b[0m (0.00 B)\n"
            ],
            "text/html": [
              "<pre style=\"white-space:pre;overflow-x:auto;line-height:normal;font-family:Menlo,'DejaVu Sans Mono',consolas,'Courier New',monospace\"><span style=\"font-weight: bold\"> Non-trainable params: </span><span style=\"color: #00af00; text-decoration-color: #00af00\">0</span> (0.00 B)\n",
              "</pre>\n"
            ]
          },
          "metadata": {}
        }
      ]
    },
    {
      "cell_type": "code",
      "source": [
        "model.fit(X_train,y_train,epochs =2,batch_size = 100,shuffle = True,validation_data=(X_test,y_test))"
      ],
      "metadata": {
        "colab": {
          "base_uri": "https://localhost:8080/"
        },
        "id": "YVt_hMjTuDJK",
        "outputId": "460af1d0-9ac2-49e5-fe61-68fbfa56ffdb"
      },
      "execution_count": 29,
      "outputs": [
        {
          "output_type": "stream",
          "name": "stdout",
          "text": [
            "Epoch 1/2\n",
            "\u001b[1m350/350\u001b[0m \u001b[32m━━━━━━━━━━━━━━━━━━━━\u001b[0m\u001b[37m\u001b[0m \u001b[1m45s\u001b[0m 107ms/step - accuracy: 0.6971 - loss: 0.5501 - val_accuracy: 0.7817 - val_loss: 0.5387\n",
            "Epoch 2/2\n",
            "\u001b[1m350/350\u001b[0m \u001b[32m━━━━━━━━━━━━━━━━━━━━\u001b[0m\u001b[37m\u001b[0m \u001b[1m38s\u001b[0m 108ms/step - accuracy: 0.9331 - loss: 0.1782 - val_accuracy: 0.8291 - val_loss: 0.4702\n"
          ]
        },
        {
          "output_type": "execute_result",
          "data": {
            "text/plain": [
              "<keras.src.callbacks.history.History at 0x790b298befe0>"
            ]
          },
          "metadata": {},
          "execution_count": 29
        }
      ]
    },
    {
      "cell_type": "code",
      "source": [
        "score = model.evaluate(X_test,y_test)\n",
        "print(\"Accuracy: \",score[1]*100)"
      ],
      "metadata": {
        "colab": {
          "base_uri": "https://localhost:8080/"
        },
        "id": "gK-bMmShuJNH",
        "outputId": "7b93c676-3223-4246-cc28-68e56b031efd"
      },
      "execution_count": 30,
      "outputs": [
        {
          "output_type": "stream",
          "name": "stdout",
          "text": [
            "\u001b[1m469/469\u001b[0m \u001b[32m━━━━━━━━━━━━━━━━━━━━\u001b[0m\u001b[37m\u001b[0m \u001b[1m8s\u001b[0m 16ms/step - accuracy: 0.8308 - loss: 0.4675\n",
            "Accuracy:  82.90666937828064\n"
          ]
        }
      ]
    },
    {
      "cell_type": "code",
      "source": [
        "embedding_layer = model.get_layer('embedding')"
      ],
      "metadata": {
        "id": "ch1tG0PKuq9H"
      },
      "execution_count": 32,
      "outputs": []
    },
    {
      "cell_type": "code",
      "source": [
        "embedding_weights = embedding_layer.get_weights()[0]\n",
        "\n",
        "word_index = t.word_index\n",
        "word_embeddings = {}\n",
        "\n",
        "for word, idx in word_index.items():\n",
        "  if idx <VOCAB_SIZE:\n",
        "    word_embeddings[word] = embedding_weights[idx]\n",
        "\n",
        "for word, embedding in list(word_embeddings.items())[10:15]:\n",
        "  print(f'Word: {word}, Embedding: {embedding}')"
      ],
      "metadata": {
        "colab": {
          "base_uri": "https://localhost:8080/"
        },
        "id": "fGmSJXUruucJ",
        "outputId": "af455423-524e-4a1f-cb96-6298323b6961"
      },
      "execution_count": 33,
      "outputs": [
        {
          "output_type": "stream",
          "name": "stdout",
          "text": [
            "Word: i, Embedding: [-8.17499775e-03 -3.83341014e-02  1.28292963e-02  1.13458615e-02\n",
            " -1.94527041e-02 -5.92644028e-02  1.14658838e-02 -9.80358105e-03\n",
            "  4.80897762e-02 -9.57615615e-04  5.22432998e-02  7.58719305e-03\n",
            " -1.40462909e-02  9.82443895e-03 -3.89755219e-02 -4.60628681e-02\n",
            "  3.36208045e-02 -2.47021276e-03 -1.40996854e-04  3.60901505e-02\n",
            "  3.87570448e-03  4.55788374e-02 -9.39479098e-03  1.39320293e-03\n",
            " -5.83516732e-02 -6.28049001e-02  2.62052752e-02  1.72788948e-02\n",
            "  3.10680451e-04  4.03640829e-02  8.65538605e-03 -7.08986968e-02\n",
            "  2.41142418e-02  4.08895984e-02  5.87493703e-02 -3.20889913e-02\n",
            " -3.74916643e-02 -2.28655469e-02 -3.05113867e-02  4.79947543e-04\n",
            "  1.66650116e-02 -4.96121421e-02  3.51254977e-02  3.61123867e-02\n",
            "  2.46633135e-04  1.66024994e-02  3.58334519e-02  2.76589836e-03\n",
            " -2.17476636e-02 -8.23515188e-03  8.80961679e-03 -2.94150189e-02\n",
            " -2.93761380e-02  3.92874442e-02 -7.23479316e-02  3.54735255e-02\n",
            "  3.52111682e-02 -5.62608801e-02  7.85708614e-03 -2.16294173e-02\n",
            "  1.10971928e-02 -2.46906355e-02  2.74922177e-02  2.88860742e-02\n",
            "  3.87267210e-02 -2.64159702e-02  9.78811528e-04 -5.96989095e-02\n",
            " -4.61461507e-02  3.74097601e-02 -9.50750243e-03  3.03800907e-02\n",
            " -1.29434802e-02  3.26638408e-02  4.18809503e-02  2.91245040e-02\n",
            "  2.68113110e-02  1.36891678e-02  2.96921581e-02  4.04420458e-02\n",
            "  2.19804444e-03 -2.61788792e-03 -5.85904391e-03 -6.00621738e-02\n",
            "  3.69634107e-02  1.75193138e-02  3.75174098e-02  7.77237862e-02\n",
            "  2.81527103e-03 -4.29266207e-02  1.12073813e-02  3.51157598e-02\n",
            " -3.61592248e-02  3.15835848e-02 -6.63930923e-02 -5.84439263e-02\n",
            " -4.42422479e-02  2.79396083e-02 -2.70924345e-02  2.45624240e-02\n",
            " -2.43016295e-02  6.58217119e-03 -1.20508531e-02 -4.26165247e-03\n",
            "  1.35060670e-02 -2.15778612e-02 -5.33588566e-02 -2.52590682e-02\n",
            "  2.34734975e-02  1.39058614e-02 -1.61151085e-02  7.10799964e-03\n",
            " -5.00929505e-02 -3.12937722e-02 -4.19729855e-03  8.86329729e-03\n",
            " -9.16673522e-03  1.47093600e-02  4.46128845e-02 -4.42828648e-02\n",
            " -4.57666777e-02 -4.48293868e-05  4.12777029e-02 -1.47656752e-02\n",
            "  2.99904030e-02  1.71292908e-02 -5.06928749e-03 -5.11598736e-02\n",
            "  2.84327846e-02 -1.60869695e-02 -4.83656637e-02 -9.48689599e-03\n",
            " -3.26441899e-02 -5.45250475e-02 -1.34226854e-03 -3.27178612e-02\n",
            " -8.94784927e-03  6.90307915e-02  2.35489774e-02 -1.42420158e-02\n",
            "  7.96231721e-03 -1.82331055e-02 -3.88774350e-02 -4.91707847e-02\n",
            "  2.24600956e-02  4.98095192e-02 -2.05405205e-02  1.25881899e-02\n",
            " -8.63515772e-03 -1.11057684e-02 -4.51365374e-02  6.32220730e-02\n",
            "  2.09226720e-02  7.02813594e-03 -1.70160849e-02 -4.83516827e-02\n",
            "  1.74450204e-02 -2.81902719e-02 -4.00247760e-02  2.49727219e-02\n",
            " -8.81227776e-02 -9.97831346e-04  3.08343563e-02  1.22992406e-02\n",
            " -4.70049605e-02  3.74688916e-02  8.20801482e-02  1.40304482e-02\n",
            "  2.21843272e-02 -9.42376442e-03  3.16058844e-02  1.63733792e-02\n",
            "  2.80048270e-02  9.95613914e-03  5.85767720e-03 -4.44715619e-02\n",
            "  2.84970575e-03  6.63998798e-02  5.93961403e-02  2.00174171e-02\n",
            " -9.12399776e-03 -1.77043118e-02  7.06906840e-02  9.59892757e-03\n",
            " -3.61319147e-02 -5.33438027e-02 -3.37420963e-02  4.69648503e-02\n",
            "  4.83238660e-02 -3.46296057e-02 -2.87395734e-02 -1.47745246e-02\n",
            " -8.35899357e-03 -3.25781740e-02  7.01701343e-02  3.96100692e-02\n",
            " -5.96931353e-02 -1.43355206e-02 -2.20030453e-02  2.84021590e-02\n",
            " -1.50395464e-02  3.54026593e-02 -3.40507329e-02  3.57820317e-02\n",
            " -8.82678386e-03 -6.80537373e-02  2.51659798e-03 -1.17652621e-02\n",
            "  7.09042605e-03 -3.05702742e-02  3.99408713e-02 -1.63531229e-02\n",
            "  2.82001663e-02 -1.73593927e-02  4.04450931e-02 -8.09378922e-04\n",
            "  1.19629614e-02 -9.09023453e-04 -1.24738067e-02  8.82471632e-03\n",
            " -1.72080342e-02 -5.66713139e-02  4.05052826e-02  1.45246247e-02\n",
            " -9.77984965e-02  2.10139230e-02 -3.91757954e-03 -8.31440371e-03\n",
            " -2.54332032e-02  9.25095100e-03 -2.27391738e-02  1.13926530e-02\n",
            " -7.95054343e-03  1.82001125e-02  1.84480567e-02  1.80434692e-03\n",
            " -4.16395329e-02  1.30404392e-02  5.70984744e-03 -8.75747576e-03\n",
            "  1.03330547e-02  6.99974969e-02  2.64848862e-02  6.22875877e-02\n",
            " -1.73565634e-02  7.58867152e-03  1.60325710e-02 -5.90152815e-02\n",
            "  2.58207526e-02 -5.13418950e-02  3.25407237e-02  3.42743807e-02\n",
            " -1.68590695e-02  5.09189293e-02  1.87395257e-03 -2.47848239e-02\n",
            " -4.25630286e-02 -1.13807688e-03  2.79962607e-02  1.47784464e-02\n",
            " -1.79057810e-02  4.28053997e-02  4.63974997e-02  4.14765514e-02\n",
            " -7.29766767e-03  4.63041812e-02  2.25669295e-02  1.81689225e-02\n",
            "  7.39691127e-03  6.44700788e-03  6.84430078e-03 -2.74261199e-02\n",
            " -6.79343427e-03  2.02400517e-03 -2.46345624e-02  1.59153286e-02\n",
            "  1.18179852e-02 -1.01326667e-02 -2.65851952e-02  1.50672365e-02\n",
            " -1.17664048e-02 -5.54543994e-02 -2.11731326e-02 -5.15143424e-02\n",
            " -2.49629430e-02  2.10332591e-03  2.25321855e-02  3.06256935e-02\n",
            "  3.21015716e-02 -1.69104822e-02  2.13232711e-02  2.52339169e-02\n",
            "  2.75449809e-02 -1.28258029e-02 -2.90451925e-02  1.59281660e-02\n",
            " -2.53354721e-02  4.53686677e-02 -3.79076190e-02 -5.41586196e-04]\n",
            "Word: that, Embedding: [ 0.00083971 -0.00677385  0.00394414  0.02171996  0.00289086 -0.02007717\n",
            "  0.00014521 -0.00709481 -0.01563031 -0.02514319  0.01074918  0.02670316\n",
            " -0.0102075  -0.00679564 -0.03605249 -0.03256324 -0.00695093 -0.01211284\n",
            " -0.02690216 -0.01571863 -0.00739097 -0.03331182 -0.05188359  0.06002456\n",
            " -0.01803078 -0.00870329 -0.00124709  0.03792813 -0.00446931 -0.05548517\n",
            " -0.03594314 -0.01979372  0.03509812  0.03495102 -0.02398043 -0.01328937\n",
            "  0.02209102 -0.01513932  0.02363583 -0.04019699  0.0041105   0.00297687\n",
            "  0.01121761  0.04422711  0.00531489  0.01069857 -0.02718356  0.03269789\n",
            " -0.03888049  0.03526226  0.00234621 -0.00229302  0.02441371 -0.02228187\n",
            "  0.00930434 -0.00211387 -0.03689318  0.01448673 -0.00882788  0.01673121\n",
            "  0.02450021  0.03885324  0.05088931  0.02260263  0.00491739 -0.04856379\n",
            "  0.01393752  0.01670331 -0.03268084  0.0040883   0.03910599  0.04159081\n",
            "  0.0075958   0.01777875 -0.02185817  0.01767194  0.00379513 -0.02348631\n",
            "  0.01542899  0.00454104  0.03104983  0.00361816  0.00082028 -0.01030824\n",
            "  0.00418279  0.00790135 -0.0502326  -0.00841384 -0.03077265  0.02017212\n",
            "  0.04002462 -0.02971672  0.01043364  0.03139981 -0.09296676  0.0225432\n",
            "  0.00812441  0.03251458  0.0192808   0.01432761 -0.03375865  0.02986726\n",
            "  0.0338152   0.03726831  0.00018796  0.00526755  0.04131509 -0.00975419\n",
            " -0.04462822 -0.01422148  0.04381649  0.05302407 -0.00644202  0.05755845\n",
            "  0.01202075 -0.00943947  0.01196617  0.01958287  0.02614783 -0.05436416\n",
            "  0.08243256  0.04421057 -0.00164012 -0.00699186 -0.00433945 -0.01066595\n",
            "  0.01849489  0.01659726 -0.02227489 -0.00246186 -0.00619987 -0.01398759\n",
            "  0.00143927 -0.01491341  0.0193316  -0.0285628  -0.00739227 -0.01132155\n",
            "  0.03263083 -0.02901089  0.03609974 -0.00310228  0.01486162  0.05410203\n",
            " -0.01616341 -0.04963756  0.05230682 -0.00343515 -0.01941866 -0.02007894\n",
            " -0.01861682  0.02990874 -0.00483845 -0.02073928  0.01391163  0.01030932\n",
            "  0.0252496  -0.04221933  0.00441394  0.0006793   0.03388591  0.04942522\n",
            "  0.05762115 -0.01952226  0.02876783  0.03979785 -0.02963465  0.03019003\n",
            " -0.01050863  0.04011275  0.00823209 -0.0403306  -0.02436885 -0.00913855\n",
            " -0.01388144  0.03925669 -0.00677099  0.04649979 -0.06266358 -0.05311849\n",
            "  0.01764975 -0.03319268 -0.00024296  0.00862229  0.04422897 -0.02578426\n",
            "  0.04600301 -0.00807914 -0.01269702  0.00348759  0.04442448 -0.0049533\n",
            "  0.00444671 -0.02385232 -0.04559121 -0.05336538  0.01881572 -0.01478367\n",
            " -0.05658866  0.0013682   0.02473257 -0.03427346  0.02060596  0.04322407\n",
            " -0.04530385  0.06621229  0.02024795  0.00813016  0.02039822  0.0324216\n",
            "  0.01842415  0.02500642  0.02162625 -0.01438609 -0.02485166 -0.05582287\n",
            "  0.02719455  0.00549089 -0.0411082   0.07035882 -0.0341366   0.00795836\n",
            " -0.05441481  0.02719752  0.04468712  0.00782569  0.0493622   0.0108342\n",
            "  0.03045374  0.02816683 -0.04366067 -0.01584764  0.03173621  0.0075856\n",
            "  0.03703407  0.03782799  0.00031946  0.02344193 -0.05141798 -0.00960369\n",
            "  0.04788928 -0.06635686 -0.0173799  -0.03475735  0.00234699 -0.00030656\n",
            "  0.04040854  0.01820915  0.00296756 -0.00459966 -0.05856776  0.03150339\n",
            " -0.0257045  -0.07672777 -0.00780346 -0.04104917 -0.05208123  0.00676716\n",
            "  0.03149992  0.04399986 -0.04858926  0.03673411  0.00173241 -0.05723472\n",
            " -0.01306199  0.00626794  0.03062563  0.01573175  0.01280826 -0.00997923\n",
            "  0.0018821   0.03678648  0.00654824  0.00907809 -0.0350248   0.01058186\n",
            "  0.01883559 -0.02573015  0.06384516 -0.02848196 -0.01965008  0.00092023\n",
            "  0.06975864 -0.0054336  -0.02886824  0.02862017 -0.01361104 -0.01490257\n",
            "  0.02849952 -0.03906525 -0.00934245  0.03125322 -0.03589853 -0.00957584\n",
            "  0.0027346  -0.00375305  0.02594583 -0.01564596 -0.04496801 -0.00919593]\n",
            "Word: was, Embedding: [-2.47718301e-02  3.45859602e-02  7.23522902e-02 -1.05985277e-03\n",
            " -2.15239339e-02 -2.21014314e-04 -6.59292855e-05  3.23753245e-02\n",
            "  1.02947680e-02  4.72062603e-02 -1.65109057e-02  1.89090485e-03\n",
            " -1.77997518e-02 -2.10566558e-02 -3.50109637e-02  9.87069532e-02\n",
            "  3.21537144e-02  4.80605438e-02 -2.56778635e-02  6.64702523e-03\n",
            " -7.50679448e-02 -2.34706085e-02  1.15226489e-02 -8.62519741e-02\n",
            "  1.21787433e-02 -2.84762513e-02 -2.49845162e-02 -5.16179428e-02\n",
            " -6.34812564e-02  3.04635894e-02 -1.91181470e-02 -3.51549760e-02\n",
            "  1.16597703e-02 -5.44906519e-02  3.89333405e-02  3.60648260e-02\n",
            "  3.50677259e-02  2.09231544e-02 -1.24541735e-02 -3.14039353e-04\n",
            "  8.93755537e-03 -1.95821822e-02 -6.87344074e-02 -1.01836538e-02\n",
            " -2.21636333e-02 -3.20115648e-02  7.81087717e-03  4.24133688e-02\n",
            " -8.07063375e-03  2.28782706e-02  1.90035021e-03 -2.01481432e-02\n",
            " -4.96770442e-02  2.80808634e-03 -6.15398176e-02 -4.83665504e-02\n",
            " -3.87776718e-02 -4.66626324e-02  3.31876576e-02  1.59116555e-02\n",
            "  4.75580879e-02 -1.43176662e-02  1.43166343e-02  9.72102489e-03\n",
            " -4.59795892e-02 -3.23295966e-02  4.65288833e-02 -3.73198800e-02\n",
            " -3.48081626e-02  7.10958429e-03 -1.11586181e-02 -1.17904022e-02\n",
            "  8.40051398e-02 -4.96330264e-04 -1.44618726e-03  3.44512379e-03\n",
            "  3.26160487e-04  2.56604515e-02 -5.18160649e-02 -7.26921484e-03\n",
            " -5.43762408e-02 -3.59026305e-02  2.62593552e-02 -5.32772243e-02\n",
            " -2.83243340e-02 -4.42727059e-02 -4.52790298e-02  6.57012239e-02\n",
            " -1.90551598e-02  1.56932343e-02  3.14589068e-02 -1.25569683e-02\n",
            " -1.98101997e-02 -1.87336318e-02  3.04929167e-02  4.25692163e-02\n",
            " -2.19873823e-02 -4.23258878e-02  2.95521715e-03 -1.56425778e-02\n",
            "  6.90408796e-03 -4.57219519e-02  2.39782985e-02  1.09087378e-02\n",
            "  3.25666834e-03 -4.74882349e-02 -2.39759143e-02  3.46326479e-03\n",
            " -1.36274407e-02 -2.13157795e-02 -4.12015468e-02  1.15718748e-02\n",
            "  2.53094323e-02 -6.32371604e-02 -1.88172963e-02  2.24649603e-03\n",
            " -3.83539610e-02 -2.70754956e-02  2.91098133e-02 -1.33656198e-03\n",
            " -6.03275076e-02 -1.05601633e-02 -2.04103943e-02 -3.86241917e-03\n",
            " -8.58787727e-03  4.19177040e-02 -2.31718309e-02  5.68994833e-03\n",
            " -2.69919727e-02  3.80811095e-02  3.76443602e-02  6.21543750e-02\n",
            " -1.74709056e-02 -2.82617230e-02  6.74853334e-03  2.64482833e-02\n",
            "  3.41362655e-02  2.13598087e-02  4.25298139e-02 -1.53080886e-02\n",
            "  3.55147310e-02  6.31110277e-03 -4.72827069e-02  1.71421785e-02\n",
            "  2.98665147e-02  1.09206224e-02 -3.33937071e-03 -3.82065363e-02\n",
            "  1.15261590e-02  5.57792932e-02 -3.88450250e-02 -2.30290685e-02\n",
            " -4.22020778e-02 -9.15546808e-03  2.90736295e-02  7.04598334e-03\n",
            " -5.09967282e-02  2.30728202e-02  1.49152745e-02  1.77064128e-02\n",
            " -9.81245339e-02 -6.09208196e-02 -5.06124161e-02 -4.57847975e-02\n",
            "  2.02163346e-02 -4.24448214e-02 -3.82975712e-02 -9.62537434e-03\n",
            "  5.71820466e-03 -6.69628680e-02  1.15430066e-02  3.11234854e-02\n",
            "  2.65531279e-02  1.23684378e-02  3.70128043e-02 -5.48687913e-02\n",
            "  4.99418154e-02 -4.24947999e-02  1.22194812e-02 -1.26593765e-02\n",
            " -2.50990223e-02 -8.51433575e-02 -3.69135663e-02  2.16828398e-02\n",
            " -1.91131048e-02 -2.64495853e-02  2.04023439e-03  1.40364300e-02\n",
            "  2.32884120e-02  5.81946177e-03 -2.48463103e-03  6.58834726e-03\n",
            "  1.56568661e-02  3.08233928e-02  7.16860965e-03 -1.13110468e-02\n",
            " -2.56473515e-02 -3.82428877e-02 -7.95969591e-02 -3.55004109e-02\n",
            " -2.49223914e-02 -4.07012552e-02 -2.31088400e-02 -1.16216671e-02\n",
            "  2.45148949e-02 -4.33906689e-02  4.50439053e-03 -7.21871201e-03\n",
            " -2.78447904e-02  5.42037450e-02 -3.38444635e-02 -1.28367003e-02\n",
            " -2.12529805e-02 -3.24017368e-02  2.72987150e-02  2.38841632e-03\n",
            "  2.51682010e-02  2.16954201e-02 -2.91885156e-02 -1.76126580e-03\n",
            " -1.11087319e-02 -3.28731127e-02  5.62069640e-02 -3.76869142e-02\n",
            " -1.03278682e-01  3.25685441e-02  2.89875865e-02 -9.96447876e-02\n",
            "  4.78577055e-02  2.97091193e-02  1.14184720e-02 -4.29650731e-02\n",
            "  4.27700393e-02  3.06555778e-02 -1.85703654e-02 -2.06420023e-04\n",
            "  1.69291906e-02 -8.13734834e-04  7.37614790e-03  6.98718205e-02\n",
            " -6.77202269e-02  7.34348074e-02 -1.93291549e-02  6.08577915e-02\n",
            " -2.05348581e-02 -2.65269652e-02 -6.89170361e-02  2.24071648e-02\n",
            " -8.18722099e-02  2.93038432e-02  3.19878198e-02  1.56320035e-02\n",
            "  4.27538306e-02  6.20319396e-02  3.31229828e-02  3.17725837e-02\n",
            "  4.13701311e-02 -2.49133091e-02 -9.30556748e-03  2.05210075e-02\n",
            " -1.62013639e-02 -3.96463126e-02 -4.21678908e-02 -4.55074981e-02\n",
            " -4.49951813e-02 -1.64139755e-02  6.34092372e-03  1.98922381e-02\n",
            " -2.17173323e-02 -5.31798191e-02 -6.98571876e-02  3.39320786e-02\n",
            "  2.90173143e-02 -4.59841229e-02 -8.99908599e-03  1.25285797e-02\n",
            " -4.55177762e-03  3.02031599e-02 -3.41193639e-02  6.45867884e-02\n",
            "  4.14144360e-02 -7.13195698e-03 -6.20037913e-02  3.51495370e-02\n",
            "  7.56033277e-03 -3.83159667e-02  3.39530818e-02  3.66716534e-02\n",
            "  2.30844598e-02 -8.61870032e-03  1.25486022e-02  6.21289425e-02\n",
            "  7.94400927e-03 -2.79068537e-02 -4.41402085e-02 -1.12387286e-02\n",
            "  2.82641351e-02  1.44113163e-02 -1.49693089e-02 -3.13256942e-02]\n",
            "Word: as, Embedding: [-0.03267737 -0.00230942  0.00451811 -0.0153508  -0.04039291  0.0376442\n",
            "  0.0327641  -0.03577495 -0.00612821 -0.01972874 -0.04055963  0.03348389\n",
            "  0.07421456 -0.02167293 -0.00715242 -0.05331301 -0.04453862  0.0352193\n",
            "  0.02928017  0.02938525  0.09217978 -0.01622457 -0.05940097  0.09991141\n",
            "  0.04755539 -0.01291011  0.0430587  -0.01194407  0.03971474 -0.01128605\n",
            "  0.05512893  0.02650224 -0.00229895  0.06166082  0.00920543  0.0137427\n",
            " -0.01188466 -0.02295573  0.00923756  0.00357769 -0.01811158  0.03101591\n",
            " -0.0973425   0.08841374 -0.01234225 -0.04240694 -0.00527344 -0.08287374\n",
            "  0.02604092 -0.01956744  0.01231862  0.03417014 -0.04939625  0.01052295\n",
            "  0.04519109  0.00565124 -0.02331175 -0.01506126 -0.01215018  0.02841876\n",
            " -0.00275795 -0.03397346 -0.00020442 -0.0276523   0.01346877  0.00451824\n",
            "  0.02137018 -0.01160031 -0.05052634  0.00259091 -0.02021752 -0.00877434\n",
            " -0.03114363 -0.01042025  0.04748247 -0.01370877  0.02364931 -0.05219026\n",
            " -0.02236784 -0.05345124 -0.02844409  0.0017349   0.0100608  -0.02932685\n",
            "  0.05317875  0.02423561  0.02253354 -0.01715556  0.01828205 -0.02538749\n",
            "  0.0217716  -0.03151538  0.03172619  0.00992522 -0.11143654  0.00334058\n",
            "  0.05818228 -0.01909638  0.05193328 -0.00425248 -0.05939653 -0.04582547\n",
            "  0.01204535 -0.01146661  0.04035235  0.01888039 -0.01253876  0.01605583\n",
            " -0.01269286 -0.04773631  0.00224851  0.01578211 -0.0419355   0.02888034\n",
            "  0.00161566  0.03816508  0.0148083  -0.03418121  0.00288191 -0.06159158\n",
            "  0.09523019  0.05411719 -0.04909554  0.03269061  0.00634685  0.01838196\n",
            " -0.00641174  0.03520928 -0.04244907  0.01835797 -0.0610485   0.00751958\n",
            " -0.02057093 -0.02638706  0.001176    0.05030171 -0.03061977  0.01416958\n",
            "  0.0060388   0.02845927  0.00188994  0.01528451 -0.02837265 -0.03307775\n",
            "  0.03583669 -0.0237532   0.0380083   0.03148749 -0.00969396 -0.03551087\n",
            " -0.01855754  0.00386011  0.03302409  0.02090533 -0.01590704  0.03070269\n",
            "  0.08439185 -0.06360453  0.00449261  0.01127456  0.04677993 -0.00636815\n",
            "  0.02388176 -0.04071248 -0.0146814  -0.03389891  0.01746234 -0.05889394\n",
            " -0.01707378  0.11787363  0.01899364 -0.0353624  -0.03293016 -0.0299501\n",
            " -0.12317951  0.0328967   0.03793295  0.04688979 -0.07835075  0.03427187\n",
            " -0.01776968 -0.0122446   0.01920873 -0.01112978 -0.02625783  0.01107518\n",
            " -0.01184651 -0.02437846 -0.01393131  0.03083062 -0.04737693 -0.00122788\n",
            "  0.06456719  0.01973419  0.00324927 -0.04518662  0.06105005  0.00129084\n",
            "  0.06794972  0.03343649 -0.02792272 -0.02500639  0.08998588 -0.00766965\n",
            "  0.05089172  0.03923677  0.04125223  0.00539881 -0.01974055  0.00935351\n",
            "  0.04401781 -0.03050129  0.00558792  0.02938088 -0.0795355  -0.05128769\n",
            "  0.05076843  0.00226518 -0.02480181  0.06420971 -0.03054774  0.0026087\n",
            " -0.02410925 -0.042627    0.18947266 -0.00162608  0.00427212  0.03710904\n",
            " -0.04513864 -0.01033671 -0.0848203   0.0298224  -0.00052734 -0.06827617\n",
            "  0.03139424  0.02757941 -0.04007814 -0.01899449 -0.09041213 -0.06086637\n",
            "  0.03024946 -0.00624415 -0.01048936  0.00889057 -0.04035649 -0.01995105\n",
            "  0.07623603  0.05176049  0.01696295 -0.02361771 -0.03880721  0.04896043\n",
            " -0.00203199 -0.039744   -0.06527132  0.02716488  0.01807808  0.00644469\n",
            "  0.05479747  0.03258689 -0.01986111  0.00382604  0.03946374 -0.01768974\n",
            "  0.0494432   0.04293576  0.00082804 -0.02254686 -0.01913597  0.01043593\n",
            "  0.06755994 -0.01375443  0.02023178  0.02499975 -0.02917783 -0.02475455\n",
            " -0.04125025 -0.0828027   0.04862797 -0.04690018 -0.037956   -0.01394594\n",
            "  0.09034523  0.03192087  0.02165599  0.04203311  0.01533382 -0.00430643\n",
            "  0.00922365  0.01349589 -0.0470464  -0.00822239 -0.012814    0.01299037\n",
            " -0.037965   -0.03196267  0.04845469 -0.02416704  0.0255814  -0.01257022]\n",
            "Word: with, Embedding: [-3.92749943e-02  1.32219354e-02 -2.88687795e-02 -3.11455410e-02\n",
            "  3.24250460e-02 -1.70818949e-03  6.07771426e-02 -3.03058773e-02\n",
            "  1.77438781e-02 -5.15780561e-02 -4.55312319e-02 -4.70620580e-03\n",
            "  2.15075747e-03 -1.78547166e-02  1.84281301e-02  3.83609557e-03\n",
            "  2.56880594e-06 -6.47620261e-02  1.60267465e-02  2.41528507e-02\n",
            "  2.25715321e-02 -3.24026868e-02 -5.78112081e-02  1.56965703e-02\n",
            "  2.43428033e-02  2.26406790e-02  2.68267957e-03  5.12267388e-02\n",
            "  7.69253895e-02  2.81711146e-02 -1.12304662e-03  3.94036062e-02\n",
            "  4.53503318e-02  4.61792871e-02  8.92603421e-05 -3.23728248e-02\n",
            " -9.55399498e-03 -2.76536718e-02  3.46723273e-02  3.38092260e-02\n",
            " -7.30734989e-02 -3.10225785e-02 -1.95629857e-02 -1.97974406e-02\n",
            "  1.93212572e-02 -5.77036962e-02 -3.61701511e-02 -5.31173218e-03\n",
            " -1.53088551e-02  1.06603680e-02  6.74456060e-02 -7.37556210e-03\n",
            " -2.50584446e-02  7.47439079e-03  5.96926827e-03 -9.93720628e-03\n",
            "  1.07610719e-02 -2.16482487e-02  1.94190536e-02  2.26669591e-02\n",
            "  3.69736156e-03 -3.60461660e-02 -1.19141014e-02 -4.43141349e-02\n",
            " -9.69976187e-03 -1.09593812e-02  3.95166278e-02 -4.70119640e-02\n",
            " -4.22808044e-02 -2.36379486e-02 -2.72665191e-02  1.93199757e-02\n",
            " -4.27326858e-02 -1.41089447e-02  1.57749765e-02  1.05700269e-02\n",
            " -2.99494378e-02 -6.31887838e-02 -4.86301668e-02 -5.96632324e-02\n",
            " -3.04483287e-02  1.70447007e-02  1.17721390e-02 -1.43119060e-02\n",
            "  2.56433673e-02 -1.08995233e-02  3.57989036e-02 -1.57190058e-02\n",
            " -1.02056703e-02 -9.31661390e-03  5.85890338e-02 -7.49387871e-03\n",
            " -4.69865277e-02 -1.83207113e-02 -1.01747708e-02 -2.37961877e-02\n",
            "  2.09438633e-02 -1.32564763e-02 -1.70430057e-02  1.64347384e-02\n",
            " -5.00998944e-02 -3.86241414e-02 -2.92571038e-02 -3.60246152e-02\n",
            "  3.95612605e-02 -2.41811126e-02  2.81787594e-03 -2.47177854e-02\n",
            "  9.07544792e-03 -3.20036262e-02  2.38044225e-02  5.31874523e-02\n",
            " -4.23236145e-03 -4.20099916e-03  2.31909286e-02  3.48000824e-02\n",
            "  1.67269912e-02 -1.53158298e-02 -3.54270488e-02 -6.96267327e-03\n",
            "  2.33036652e-02  2.49006432e-02  6.33722579e-04 -2.65110619e-02\n",
            "  2.48198211e-02 -5.29922582e-02 -2.64709946e-02  2.01866422e-02\n",
            " -4.98151593e-02 -3.60786729e-02  3.33662741e-02 -4.75033931e-02\n",
            " -9.03688651e-03  8.35282914e-03  1.29440045e-02  5.48056280e-03\n",
            "  2.96876542e-02 -5.31049147e-02 -3.65717262e-02  1.55163407e-02\n",
            " -1.53703047e-02 -1.79242659e-02  3.45822275e-02 -4.25588861e-02\n",
            " -2.98842378e-02 -3.41742076e-02  9.14066192e-03  9.26544145e-03\n",
            "  2.87055075e-02 -5.22106737e-02  4.34230408e-03  2.37824302e-02\n",
            "  6.49361387e-02 -2.01225337e-02 -2.93964017e-02 -4.63383570e-02\n",
            "  5.48542738e-02 -1.89486016e-02 -3.14636678e-02 -3.30191292e-02\n",
            "  2.32755132e-02  2.39448226e-03 -2.14006547e-02  7.53658405e-03\n",
            "  4.43868302e-02  7.22751720e-03  1.38383834e-02 -3.95421907e-02\n",
            "  1.94251854e-02  5.49097061e-02 -4.76189237e-03 -3.43741924e-02\n",
            " -6.88716695e-02 -3.89685743e-02 -7.08023459e-02  1.08391074e-02\n",
            " -3.57243344e-02 -3.10374349e-02  2.82452069e-02  1.13922721e-02\n",
            " -1.44096185e-02 -2.62808036e-02  1.10853799e-02 -8.76242854e-03\n",
            "  4.77569029e-02  2.05849148e-02  5.20392433e-02  7.40014482e-03\n",
            " -4.85101417e-02 -3.43166590e-02 -7.58919446e-03  5.25839701e-02\n",
            "  4.59164008e-02 -1.27869910e-02 -2.86987405e-02 -3.20770331e-02\n",
            "  3.76750976e-02  6.38783872e-02  6.76369444e-02  1.37249455e-02\n",
            "  2.75768861e-02  3.73119265e-02  5.51852696e-02 -6.50705723e-03\n",
            " -4.29698303e-02  4.22457382e-02  2.69413050e-02  8.74500722e-03\n",
            "  1.36421137e-02  7.95996562e-03  2.98262108e-02 -1.62040349e-02\n",
            " -8.38046707e-03 -4.38640378e-02 -5.78331873e-02 -5.08234240e-02\n",
            "  2.87669012e-03 -4.79390025e-02 -1.16517451e-02 -1.44079234e-02\n",
            " -2.20246557e-02  4.16488573e-02 -2.69280411e-02 -2.25438029e-02\n",
            "  4.60161678e-02  3.99256051e-02  4.54629809e-02  5.48348092e-02\n",
            " -9.04833339e-03 -4.06985767e-02 -7.06327260e-02  3.27230319e-02\n",
            "  4.15385105e-02 -4.39722538e-02  3.28383744e-02 -4.63014469e-02\n",
            "  1.47950491e-02  4.63663265e-02 -4.40665297e-02 -3.81019339e-02\n",
            "  5.97739443e-02 -5.43777794e-02 -1.56505872e-02  4.65291971e-03\n",
            "  5.32987015e-03 -2.99028680e-02  5.25467545e-02 -3.58107612e-02\n",
            "  7.21389651e-02  4.10218872e-02 -2.23512929e-02 -2.06136908e-02\n",
            "  2.56018732e-02  1.58629904e-03 -1.36512872e-02 -9.98081174e-03\n",
            " -4.87652496e-02  5.31282416e-03  2.30370052e-02 -2.21021771e-02\n",
            " -1.32620167e-02 -9.46236774e-04  2.64527556e-03  3.47744115e-02\n",
            "  5.65340966e-02  1.56940222e-02 -5.70796523e-03  4.83754948e-02\n",
            "  3.51116061e-03  2.50771102e-02  1.08077955e-02  4.40240949e-02\n",
            " -4.29263040e-02  1.96710099e-02 -4.36300747e-02 -2.21521575e-02\n",
            "  4.32653241e-02 -1.05673529e-01  7.48613104e-02 -1.69427134e-02\n",
            "  1.87964570e-02  1.37677900e-02  1.27180263e-01 -5.38770594e-02\n",
            "  4.04245593e-02  4.84576710e-02 -3.62810045e-02 -5.85966595e-02\n",
            "  4.74585146e-02 -4.17176671e-02 -3.33802402e-02 -4.76570353e-02\n",
            " -7.79475085e-03  4.36437018e-02 -1.68002136e-02 -5.45611279e-03\n",
            "  2.65891794e-02 -4.49675657e-02  7.58370338e-03 -3.87722701e-02]\n"
          ]
        }
      ]
    },
    {
      "cell_type": "code",
      "source": [
        "model = tf.keras.models.Sequential()\n",
        "model.add(tf.keras.layers.Embedding(input_dim = VOCAB_SIZE,output_dim = EMBEDDING_DIM,input_length = MAX_SEQUENCE_LENGTH))\n",
        "model.add(tf.keras.layers.Bidirectional(tf.keras.layers.LSTM(128,return_sequences=False)))\n",
        "model.add(tf.keras.layers.Dense(256,activation = 'relu'))\n",
        "model.add(tf.keras.layers.Dense(1,activation='sigmoid'))\n",
        "\n",
        "model.compile(loss = 'binary_crossentropy',optimizer = 'adam', metrics = ['accuracy'])"
      ],
      "metadata": {
        "id": "yOGf2pCLySEk"
      },
      "execution_count": 34,
      "outputs": []
    },
    {
      "cell_type": "code",
      "source": [
        "model.summary()"
      ],
      "metadata": {
        "colab": {
          "base_uri": "https://localhost:8080/",
          "height": 272
        },
        "id": "9m1BRPVGyc-P",
        "outputId": "b44efdba-2fd2-4555-f1d4-1273106bdeef"
      },
      "execution_count": 35,
      "outputs": [
        {
          "output_type": "display_data",
          "data": {
            "text/plain": [
              "\u001b[1mModel: \"sequential_1\"\u001b[0m\n"
            ],
            "text/html": [
              "<pre style=\"white-space:pre;overflow-x:auto;line-height:normal;font-family:Menlo,'DejaVu Sans Mono',consolas,'Courier New',monospace\"><span style=\"font-weight: bold\">Model: \"sequential_1\"</span>\n",
              "</pre>\n"
            ]
          },
          "metadata": {}
        },
        {
          "output_type": "display_data",
          "data": {
            "text/plain": [
              "┏━━━━━━━━━━━━━━━━━━━━━━━━━━━━━━━━━━━━━━┳━━━━━━━━━━━━━━━━━━━━━━━━━━━━━┳━━━━━━━━━━━━━━━━━┓\n",
              "┃\u001b[1m \u001b[0m\u001b[1mLayer (type)                        \u001b[0m\u001b[1m \u001b[0m┃\u001b[1m \u001b[0m\u001b[1mOutput Shape               \u001b[0m\u001b[1m \u001b[0m┃\u001b[1m \u001b[0m\u001b[1m        Param #\u001b[0m\u001b[1m \u001b[0m┃\n",
              "┡━━━━━━━━━━━━━━━━━━━━━━━━━━━━━━━━━━━━━━╇━━━━━━━━━━━━━━━━━━━━━━━━━━━━━╇━━━━━━━━━━━━━━━━━┩\n",
              "│ embedding_1 (\u001b[38;5;33mEmbedding\u001b[0m)              │ ?                           │     \u001b[38;5;34m0\u001b[0m (unbuilt) │\n",
              "├──────────────────────────────────────┼─────────────────────────────┼─────────────────┤\n",
              "│ bidirectional (\u001b[38;5;33mBidirectional\u001b[0m)        │ ?                           │     \u001b[38;5;34m0\u001b[0m (unbuilt) │\n",
              "├──────────────────────────────────────┼─────────────────────────────┼─────────────────┤\n",
              "│ dense_2 (\u001b[38;5;33mDense\u001b[0m)                      │ ?                           │     \u001b[38;5;34m0\u001b[0m (unbuilt) │\n",
              "├──────────────────────────────────────┼─────────────────────────────┼─────────────────┤\n",
              "│ dense_3 (\u001b[38;5;33mDense\u001b[0m)                      │ ?                           │     \u001b[38;5;34m0\u001b[0m (unbuilt) │\n",
              "└──────────────────────────────────────┴─────────────────────────────┴─────────────────┘\n"
            ],
            "text/html": [
              "<pre style=\"white-space:pre;overflow-x:auto;line-height:normal;font-family:Menlo,'DejaVu Sans Mono',consolas,'Courier New',monospace\">┏━━━━━━━━━━━━━━━━━━━━━━━━━━━━━━━━━━━━━━┳━━━━━━━━━━━━━━━━━━━━━━━━━━━━━┳━━━━━━━━━━━━━━━━━┓\n",
              "┃<span style=\"font-weight: bold\"> Layer (type)                         </span>┃<span style=\"font-weight: bold\"> Output Shape                </span>┃<span style=\"font-weight: bold\">         Param # </span>┃\n",
              "┡━━━━━━━━━━━━━━━━━━━━━━━━━━━━━━━━━━━━━━╇━━━━━━━━━━━━━━━━━━━━━━━━━━━━━╇━━━━━━━━━━━━━━━━━┩\n",
              "│ embedding_1 (<span style=\"color: #0087ff; text-decoration-color: #0087ff\">Embedding</span>)              │ ?                           │     <span style=\"color: #00af00; text-decoration-color: #00af00\">0</span> (unbuilt) │\n",
              "├──────────────────────────────────────┼─────────────────────────────┼─────────────────┤\n",
              "│ bidirectional (<span style=\"color: #0087ff; text-decoration-color: #0087ff\">Bidirectional</span>)        │ ?                           │     <span style=\"color: #00af00; text-decoration-color: #00af00\">0</span> (unbuilt) │\n",
              "├──────────────────────────────────────┼─────────────────────────────┼─────────────────┤\n",
              "│ dense_2 (<span style=\"color: #0087ff; text-decoration-color: #0087ff\">Dense</span>)                      │ ?                           │     <span style=\"color: #00af00; text-decoration-color: #00af00\">0</span> (unbuilt) │\n",
              "├──────────────────────────────────────┼─────────────────────────────┼─────────────────┤\n",
              "│ dense_3 (<span style=\"color: #0087ff; text-decoration-color: #0087ff\">Dense</span>)                      │ ?                           │     <span style=\"color: #00af00; text-decoration-color: #00af00\">0</span> (unbuilt) │\n",
              "└──────────────────────────────────────┴─────────────────────────────┴─────────────────┘\n",
              "</pre>\n"
            ]
          },
          "metadata": {}
        },
        {
          "output_type": "display_data",
          "data": {
            "text/plain": [
              "\u001b[1m Total params: \u001b[0m\u001b[38;5;34m0\u001b[0m (0.00 B)\n"
            ],
            "text/html": [
              "<pre style=\"white-space:pre;overflow-x:auto;line-height:normal;font-family:Menlo,'DejaVu Sans Mono',consolas,'Courier New',monospace\"><span style=\"font-weight: bold\"> Total params: </span><span style=\"color: #00af00; text-decoration-color: #00af00\">0</span> (0.00 B)\n",
              "</pre>\n"
            ]
          },
          "metadata": {}
        },
        {
          "output_type": "display_data",
          "data": {
            "text/plain": [
              "\u001b[1m Trainable params: \u001b[0m\u001b[38;5;34m0\u001b[0m (0.00 B)\n"
            ],
            "text/html": [
              "<pre style=\"white-space:pre;overflow-x:auto;line-height:normal;font-family:Menlo,'DejaVu Sans Mono',consolas,'Courier New',monospace\"><span style=\"font-weight: bold\"> Trainable params: </span><span style=\"color: #00af00; text-decoration-color: #00af00\">0</span> (0.00 B)\n",
              "</pre>\n"
            ]
          },
          "metadata": {}
        },
        {
          "output_type": "display_data",
          "data": {
            "text/plain": [
              "\u001b[1m Non-trainable params: \u001b[0m\u001b[38;5;34m0\u001b[0m (0.00 B)\n"
            ],
            "text/html": [
              "<pre style=\"white-space:pre;overflow-x:auto;line-height:normal;font-family:Menlo,'DejaVu Sans Mono',consolas,'Courier New',monospace\"><span style=\"font-weight: bold\"> Non-trainable params: </span><span style=\"color: #00af00; text-decoration-color: #00af00\">0</span> (0.00 B)\n",
              "</pre>\n"
            ]
          },
          "metadata": {}
        }
      ]
    },
    {
      "cell_type": "code",
      "source": [
        "model.fit(X_train,y_train,epochs =2,batch_size = 100,shuffle = True,validation_data=(X_test,y_test))"
      ],
      "metadata": {
        "colab": {
          "base_uri": "https://localhost:8080/"
        },
        "id": "ZXT8RYthy_Gn",
        "outputId": "9f20913e-a191-4c54-973c-3d1d352069dd"
      },
      "execution_count": 36,
      "outputs": [
        {
          "output_type": "stream",
          "name": "stdout",
          "text": [
            "Epoch 1/2\n",
            "\u001b[1m350/350\u001b[0m \u001b[32m━━━━━━━━━━━━━━━━━━━━\u001b[0m\u001b[37m\u001b[0m \u001b[1m82s\u001b[0m 221ms/step - accuracy: 0.7364 - loss: 0.5003 - val_accuracy: 0.8751 - val_loss: 0.3080\n",
            "Epoch 2/2\n",
            "\u001b[1m350/350\u001b[0m \u001b[32m━━━━━━━━━━━━━━━━━━━━\u001b[0m\u001b[37m\u001b[0m \u001b[1m79s\u001b[0m 213ms/step - accuracy: 0.9383 - loss: 0.1701 - val_accuracy: 0.8621 - val_loss: 0.3203\n"
          ]
        },
        {
          "output_type": "execute_result",
          "data": {
            "text/plain": [
              "<keras.src.callbacks.history.History at 0x790aa12a5b40>"
            ]
          },
          "metadata": {},
          "execution_count": 36
        }
      ]
    },
    {
      "cell_type": "code",
      "source": [
        "score = model.evaluate(X_test,y_test)\n",
        "print(\"Accuracy: \",score[1]*100)"
      ],
      "metadata": {
        "colab": {
          "base_uri": "https://localhost:8080/"
        },
        "id": "0pfMV38OzKZo",
        "outputId": "50795e41-64a9-40a1-aedd-92d9e944998c"
      },
      "execution_count": 37,
      "outputs": [
        {
          "output_type": "stream",
          "name": "stdout",
          "text": [
            "\u001b[1m469/469\u001b[0m \u001b[32m━━━━━━━━━━━━━━━━━━━━\u001b[0m\u001b[37m\u001b[0m \u001b[1m15s\u001b[0m 31ms/step - accuracy: 0.8609 - loss: 0.3216\n",
            "Accuracy:  86.20666861534119\n"
          ]
        }
      ]
    },
    {
      "cell_type": "code",
      "source": [
        "embedding_layer = model.get_layer('embedding_1')"
      ],
      "metadata": {
        "id": "6DmRrjNOztm1"
      },
      "execution_count": 38,
      "outputs": []
    },
    {
      "cell_type": "code",
      "source": [
        "embedding_weights = embedding_layer.get_weights()[0]\n",
        "\n",
        "word_index = t.word_index\n",
        "word_embeddings = {}\n",
        "\n",
        "for word, idx in word_index.items():\n",
        "  if idx <VOCAB_SIZE:\n",
        "    word_embeddings[word] = embedding_weights[idx]\n",
        "\n",
        "for word, embedding in list(word_embeddings.items())[10:15]:\n",
        "  print(f'Word: {word}, Embedding: {embedding}')"
      ],
      "metadata": {
        "colab": {
          "base_uri": "https://localhost:8080/"
        },
        "id": "dMymWcssz1ph",
        "outputId": "b444c1f7-e24d-49c6-bbd9-b30bd79a8590"
      },
      "execution_count": 40,
      "outputs": [
        {
          "output_type": "stream",
          "name": "stdout",
          "text": [
            "Word: i, Embedding: [-0.01933309  0.00983655  0.02937908  0.02770332  0.00853987 -0.04810513\n",
            " -0.04153784  0.00437329 -0.00268954  0.04479955  0.01713385  0.02009713\n",
            " -0.0248018   0.03004493 -0.02760215 -0.0008151  -0.01668525  0.00704711\n",
            " -0.0391495  -0.04282119 -0.01791816 -0.01869473  0.00279625  0.0265147\n",
            "  0.02833105  0.04500419  0.00160232  0.03266828  0.0412422   0.00333807\n",
            " -0.0358512   0.00144445  0.03990177 -0.01579686  0.04552811  0.03480966\n",
            "  0.01834105 -0.02737903  0.00567645 -0.0433968  -0.04538808  0.00216982\n",
            "  0.02498676 -0.02062954  0.07413612 -0.0039865  -0.00451474 -0.02949022\n",
            " -0.03040405  0.00152148  0.04564925  0.02362524  0.02948887 -0.03584387\n",
            "  0.0169432   0.00996579 -0.00559121  0.06845444  0.02827549  0.0097586\n",
            " -0.02160517  0.02903984 -0.03494948 -0.01990704  0.025696    0.02937804\n",
            " -0.01893311  0.00951342  0.01926052 -0.03270765  0.04001921  0.02111686\n",
            " -0.03277399 -0.0410438   0.03076111 -0.00029196 -0.03458452  0.04143754\n",
            " -0.02187392 -0.01870119 -0.03874521  0.0176622  -0.03827754 -0.0064153\n",
            "  0.03149321 -0.02872946 -0.03550222  0.04241786  0.04135165 -0.00949089\n",
            " -0.01618872 -0.01811535 -0.02236808 -0.00732017  0.03804787 -0.01896593\n",
            "  0.01782658 -0.01472045 -0.03142828 -0.00692857  0.05534531  0.05325422\n",
            "  0.00661821  0.01382078 -0.00260019  0.03099714  0.05020532  0.00451484\n",
            "  0.02953086  0.02737513 -0.02150756 -0.03760921  0.00169182 -0.00395109\n",
            " -0.01630315  0.0093405   0.00690729  0.02082683  0.00388152 -0.01947323\n",
            " -0.02510422 -0.02574214 -0.04264142  0.04412433  0.04317195  0.01448764\n",
            "  0.01536671 -0.01893654  0.02021373  0.01776112 -0.02468929 -0.00043501\n",
            "  0.00756122  0.00202193 -0.00707971  0.04761552 -0.05434373 -0.01884268\n",
            "  0.00168588 -0.0645932  -0.02960838 -0.01991332 -0.03016672 -0.02179581\n",
            " -0.03660455  0.04099733  0.00563149  0.00827542  0.0276674  -0.00152721\n",
            " -0.05208084  0.01639511  0.0061979   0.01929753 -0.04313293  0.01279547\n",
            "  0.0078223  -0.05630032 -0.02904573 -0.0137621  -0.01808126 -0.04352118\n",
            "  0.02292625 -0.03077204 -0.03425642 -0.02102371 -0.00936326 -0.01997647\n",
            "  0.02521144  0.01269948  0.05362354 -0.0324166  -0.02118267 -0.00906944\n",
            " -0.02742046 -0.01360855  0.02693201  0.03101836  0.03539595 -0.02820971\n",
            " -0.02521055  0.03862889  0.00177181 -0.00908985  0.03124835  0.01571606\n",
            "  0.03193578  0.02971001 -0.00906632 -0.04004534  0.00572225 -0.00690142\n",
            " -0.04081884 -0.0258198   0.01688991 -0.02908242 -0.04663995  0.01337671\n",
            " -0.02026007 -0.02116702  0.00415127 -0.03307194  0.03314055 -0.03540545\n",
            "  0.00327416 -0.01911709  0.03603975  0.01568834  0.01471639  0.03830116\n",
            "  0.01383324  0.01038797  0.01330472  0.0252958  -0.02132205 -0.0310095\n",
            " -0.01969732 -0.04719102  0.01496388  0.00132886 -0.01346843  0.03315726\n",
            "  0.02371648 -0.00288313 -0.00934208 -0.01533179 -0.02977906 -0.00581682\n",
            " -0.02484664  0.01096082 -0.0028986   0.02947815 -0.02603079 -0.03026377\n",
            "  0.0214107   0.05047973  0.05402089 -0.04939834  0.02548106 -0.05354199\n",
            " -0.02413438  0.04233293  0.00362847 -0.04495712  0.02077664 -0.01575451\n",
            " -0.02360785 -0.04825891  0.03414733 -0.01946762  0.05123972  0.02708922\n",
            " -0.04066557  0.01800061 -0.02181536  0.04565964  0.00487401 -0.01774121\n",
            " -0.02723584 -0.05496023 -0.01765614 -0.00438844  0.01617052 -0.01656637\n",
            " -0.05004999 -0.00200596  0.0491118   0.00302117 -0.01700641  0.01148369\n",
            " -0.05250134  0.06030402  0.05745652  0.00696867 -0.00623848  0.02336246\n",
            " -0.01584263  0.02401554  0.02571738 -0.03408452  0.05264817  0.00081322\n",
            " -0.01808611 -0.03988483 -0.03248699  0.04335458  0.01835801  0.03138465\n",
            "  0.02490492  0.02959104 -0.00140871 -0.01627882  0.01453689 -0.00781428\n",
            "  0.05755432  0.04536449 -0.01278113  0.01497655  0.01817032 -0.03078194]\n",
            "Word: that, Embedding: [ 0.03983665 -0.03900046  0.03794887  0.03898405 -0.02024567  0.02225409\n",
            " -0.00954179  0.03227453  0.02720881  0.01903015 -0.02952953 -0.00637228\n",
            " -0.00199026 -0.03709128 -0.0018192   0.05885154  0.00991941  0.02022504\n",
            " -0.05572454 -0.00936848 -0.03941299 -0.0442916  -0.03476116  0.02923322\n",
            " -0.04379903 -0.02416691  0.01190187  0.03043933 -0.03272737  0.00842017\n",
            "  0.00043355 -0.01731589  0.03439431 -0.03803381  0.00763043  0.01494339\n",
            " -0.01672858 -0.04021599  0.02097802  0.04013984  0.01733599 -0.03323676\n",
            " -0.02952213  0.00053314 -0.03704659  0.03435216 -0.03120938 -0.01755811\n",
            "  0.02193678  0.02295452  0.02806608 -0.04578054  0.01960013  0.04025776\n",
            " -0.03822694 -0.00713272  0.02640892  0.02750883 -0.06938591 -0.03549878\n",
            " -0.03379838 -0.00825691  0.0343046   0.03971492 -0.04682297  0.00464984\n",
            "  0.01205916  0.03581174  0.01754618  0.02212814 -0.01066683 -0.04911159\n",
            "  0.02366409 -0.02765414 -0.02982101  0.02072664 -0.03913548  0.04819241\n",
            "  0.00502913  0.01720353 -0.0036129   0.04470314  0.0109905   0.00488494\n",
            " -0.03343583  0.0409238   0.02220905  0.00349209  0.04362178  0.03974925\n",
            " -0.02287988  0.0016042   0.01560718  0.04691725 -0.03197898 -0.03670025\n",
            " -0.03682961  0.02748122  0.02245498 -0.00094621 -0.01379618  0.03941888\n",
            "  0.00056197  0.02919743 -0.03137999  0.03492155  0.01917014 -0.02043924\n",
            "  0.00746668 -0.0041701   0.02098623 -0.04423186  0.00184124 -0.02273091\n",
            " -0.00500041  0.04226737 -0.00402855 -0.01889106 -0.04019237 -0.01976011\n",
            "  0.0085371  -0.00821475 -0.03262969 -0.03146642 -0.01334035 -0.01453234\n",
            " -0.00234976 -0.00300269 -0.03585889  0.03712213  0.00881457 -0.03697827\n",
            "  0.01376562  0.0465512  -0.01755151  0.05215716 -0.05634991  0.00077826\n",
            " -0.00836904 -0.03079476  0.03900172 -0.00908355  0.01030535  0.01581331\n",
            " -0.03967648  0.00706623 -0.01165709  0.03774609 -0.04159668  0.03321177\n",
            "  0.02668798 -0.01502426  0.01304573 -0.02665816  0.00527964 -0.02955358\n",
            "  0.03338172 -0.03188304  0.03742817  0.03873866  0.0212468  -0.02061007\n",
            "  0.00239536 -0.01746152  0.04224081  0.00798978  0.04565383  0.02080111\n",
            "  0.07496563 -0.02834107 -0.04209234  0.03119071 -0.02135755 -0.01998268\n",
            "  0.01782699 -0.02346698  0.04149856 -0.00787771 -0.04103042  0.03621692\n",
            " -0.00369052 -0.03175203  0.03709196 -0.01270982  0.01397169 -0.02868165\n",
            " -0.02486792 -0.01844624 -0.0140845  -0.02032677  0.03717534  0.03229784\n",
            "  0.05033916 -0.02063444 -0.00116791 -0.03601917 -0.01109922  0.0143576\n",
            "  0.0023752   0.0061093  -0.01207073 -0.02563372  0.01354754 -0.03714615\n",
            " -0.05100722 -0.01695848  0.01208542  0.04682482 -0.02765679  0.00224869\n",
            " -0.005283   -0.00856003  0.02405405 -0.03092982 -0.03428711 -0.04119452\n",
            " -0.02390736  0.03775926  0.01706011  0.02135304  0.00348068 -0.00423863\n",
            " -0.04940678 -0.00552019 -0.01583839  0.04805487 -0.00447262 -0.03512514\n",
            " -0.0318874   0.04752793 -0.03333214  0.01638545 -0.0343176   0.04144019\n",
            "  0.01226722  0.01422449  0.0023327  -0.02273354  0.03588584 -0.00561775\n",
            " -0.01941396 -0.00870121  0.02423198  0.00538915 -0.04597435  0.04146212\n",
            "  0.03220313  0.032704   -0.01559769 -0.01011064  0.0420961  -0.01736539\n",
            "  0.01376227 -0.03005638 -0.01566568 -0.00514973  0.02075945  0.01311288\n",
            " -0.03122879  0.01900358 -0.00696289 -0.02464709 -0.00566601  0.01636919\n",
            " -0.0543661   0.00852136  0.0330457  -0.01068936 -0.05613124  0.04910433\n",
            "  0.02320026 -0.0121082   0.00968642  0.02749586  0.00519966 -0.02232198\n",
            " -0.01819078  0.00422867  0.0393406  -0.00307149  0.02110994 -0.0517817\n",
            " -0.07535138 -0.00248184 -0.0129089   0.02325394 -0.00733028 -0.06421447\n",
            " -0.07703903 -0.01973317  0.04060933  0.01997187  0.07010175 -0.01602686\n",
            "  0.02943189 -0.04898664  0.03202281  0.01547451  0.05211937  0.02375526]\n",
            "Word: was, Embedding: [-1.65767241e-02  1.76918618e-02  5.32365367e-02 -6.84037060e-02\n",
            " -2.41354462e-02  6.77966103e-02  1.26597472e-03 -6.76546572e-03\n",
            " -4.57114875e-02  3.06431018e-02  3.56444232e-02  1.10684680e-02\n",
            "  1.55377258e-02 -1.99898332e-02  5.48481308e-02  3.80493179e-02\n",
            " -3.98997664e-02  7.18373880e-02 -1.48886191e-02  5.52501678e-02\n",
            "  1.48842297e-02  7.81407431e-02  3.83483097e-02 -1.46394735e-02\n",
            " -6.54028729e-03 -8.35444406e-03 -4.73586060e-02  5.99623024e-02\n",
            " -7.67789856e-02  6.08342066e-02 -2.06630174e-02  7.97871780e-03\n",
            "  1.54633289e-02  4.43545654e-02 -4.59065028e-02  2.40077097e-02\n",
            " -5.37916720e-02 -1.25731025e-02 -6.79472238e-02  1.84169319e-02\n",
            " -2.49367878e-02 -1.99215394e-02 -2.14940440e-02 -2.55865743e-05\n",
            " -2.36150846e-02 -4.49775904e-02 -1.92701141e-03  2.65437663e-02\n",
            " -4.23437431e-02 -5.43210506e-02 -3.67968157e-02  4.56735641e-02\n",
            "  4.90571223e-02 -4.68737911e-03  4.65555824e-02 -3.04758754e-02\n",
            "  5.99503471e-03 -6.01763949e-02  1.86073910e-02 -6.53562844e-02\n",
            " -1.84917320e-02 -4.94573452e-02 -1.06470762e-02 -1.80152711e-03\n",
            " -1.49901947e-02 -1.88047756e-02  4.85224612e-02 -3.90565507e-02\n",
            " -7.75830774e-03  1.71621423e-02  4.31947149e-02  2.00068615e-02\n",
            " -3.50364931e-02  6.48883283e-02  4.45510298e-02  1.06067099e-02\n",
            " -4.64171544e-02  3.24738547e-02  1.58059280e-02 -3.27145271e-02\n",
            " -8.96826200e-03  1.89219471e-02 -1.70234572e-02  9.09712072e-03\n",
            " -3.65554392e-02  4.49340558e-03  5.17319106e-02  2.88284589e-02\n",
            " -1.09645855e-02  1.10714696e-01 -6.66330159e-02  6.96447119e-02\n",
            "  6.00093491e-02  7.43169524e-03  5.74363209e-03 -1.16525842e-02\n",
            "  1.84858553e-02  3.68828955e-03 -3.84252914e-03  4.82621752e-02\n",
            "  4.54611816e-02 -4.34819702e-03  5.97543009e-02 -3.59365856e-03\n",
            "  1.38151236e-02  3.46706831e-03 -5.48461936e-02  4.82557714e-02\n",
            " -2.44240724e-02  4.08253148e-02 -2.96272300e-02 -1.67231150e-02\n",
            " -9.16908088e-04 -3.34494654e-03 -4.17925008e-02 -5.97482324e-02\n",
            " -3.00437044e-02  6.36566356e-02 -1.04451878e-02  5.04230782e-02\n",
            "  9.24078189e-03 -4.85898741e-02  3.83415446e-02 -2.40803249e-02\n",
            "  1.66808814e-02  1.28231235e-02  3.94257568e-02 -3.93920243e-02\n",
            " -4.62781731e-03  1.09333284e-02 -2.45663580e-02 -6.06621290e-03\n",
            "  5.56314066e-02 -3.22449468e-02 -6.54957071e-02 -5.83700538e-02\n",
            "  1.39156803e-02 -2.95994785e-02  4.67185080e-02  2.29452569e-02\n",
            "  7.58760070e-05  3.80052142e-02  1.85240656e-02  5.97730279e-03\n",
            " -1.91953313e-02  3.54765840e-02 -4.83230166e-02 -5.53961881e-02\n",
            " -1.95258446e-02 -6.17810898e-02 -1.57377310e-02 -4.86860611e-03\n",
            " -3.16991508e-02  7.84428120e-02 -5.39617985e-02 -3.21257785e-02\n",
            "  8.06330666e-02  2.27735806e-02  1.94330867e-02 -4.48707025e-03\n",
            " -1.16855903e-02 -5.50190359e-02 -5.36678173e-02  1.00548649e-02\n",
            "  5.80047294e-02  4.18954417e-02 -3.77242872e-03 -4.84704487e-02\n",
            "  1.18981907e-02  1.02559719e-02  5.84980287e-03  5.76699786e-02\n",
            " -3.43207307e-02  2.71783629e-03  1.01721194e-02  2.59559602e-02\n",
            " -5.52552119e-02  1.28865736e-02  2.12958176e-02  6.90904446e-03\n",
            " -3.44612263e-02  4.99196770e-03  2.78179627e-02 -3.94391492e-02\n",
            " -5.87365851e-02 -2.78844312e-02  4.92002778e-02  1.00390902e-02\n",
            " -4.27064411e-02 -2.39859000e-02 -1.11677563e-02 -4.26683687e-02\n",
            "  7.63219409e-03  2.60905642e-02 -7.41363689e-02 -1.14458734e-02\n",
            "  4.97015528e-02  1.25212986e-02 -4.76036295e-02  3.60800847e-02\n",
            "  5.18175699e-02  5.34225367e-02  1.13011533e-02  2.31364165e-02\n",
            "  2.90928632e-02  5.00002056e-02  3.74608301e-02 -1.11615155e-02\n",
            " -5.48210666e-02  3.64299864e-02  1.22228265e-02  2.28250748e-03\n",
            "  8.69642850e-03  2.49946471e-02 -4.41313684e-02  4.90857400e-02\n",
            " -1.06104925e-01  1.33112213e-02  1.25907166e-02 -3.55688762e-03\n",
            "  3.67301814e-02 -1.54433679e-02  2.24027093e-02  4.41501327e-02\n",
            " -2.74275355e-02 -2.49321312e-02  4.85921577e-02 -4.77881432e-02\n",
            " -2.69831978e-02 -5.23549691e-02  1.35415234e-03 -2.78651882e-02\n",
            "  5.48201539e-02 -2.75427829e-02 -5.12039028e-02  2.99783722e-02\n",
            " -4.34346002e-05  2.21881550e-03  4.12269123e-02  4.08787839e-02\n",
            " -1.09408110e-01  6.55990234e-03 -4.78174761e-02 -8.20293650e-03\n",
            "  3.40856798e-03  4.54202481e-02  7.09033804e-03 -5.98064158e-03\n",
            "  4.74760756e-02  4.14468721e-02 -4.97456789e-02  2.76473165e-03\n",
            " -1.47555340e-02  4.18937318e-02 -8.00347328e-03  4.04089093e-02\n",
            "  5.58514670e-02  5.97860850e-02 -5.44916466e-02 -1.22414958e-02\n",
            "  3.92313190e-02  4.76257019e-02 -5.70765464e-03  4.83937487e-02\n",
            " -2.68317517e-02  2.07945742e-02  2.02792324e-02 -2.30209082e-02\n",
            " -2.60895919e-02 -5.11651784e-02 -4.25814763e-02 -7.70785883e-02\n",
            " -8.40843767e-02 -1.15970913e-02 -4.02063169e-02 -6.23461194e-02\n",
            "  3.56360003e-02 -1.43748382e-02 -1.11474562e-02  4.87431176e-02\n",
            " -1.18706306e-03 -5.59429415e-02 -4.26010378e-02  4.08888087e-02\n",
            "  3.61658745e-02  2.53833756e-02 -1.96410492e-02  8.28638226e-02\n",
            "  2.76445430e-02 -5.58755137e-02 -1.06949443e-02 -3.31684179e-03\n",
            " -1.98638476e-02 -1.23583758e-03 -4.03179303e-02 -4.08772007e-02\n",
            " -3.97358509e-03  3.03990170e-02 -4.47653653e-03  3.31078121e-03]\n",
            "Word: as, Embedding: [-4.07058299e-02  6.22583041e-03 -4.75708395e-02 -5.95037192e-02\n",
            " -2.21781861e-02  1.29334889e-02  4.40869294e-02 -3.50921676e-02\n",
            "  4.07558680e-02 -1.17949350e-03 -3.97668779e-02  9.19450074e-03\n",
            " -7.05510145e-03 -2.55807079e-02  1.89889744e-02  1.17613364e-03\n",
            "  1.75180621e-02 -5.76873161e-02 -3.22668776e-02 -2.04482544e-02\n",
            " -1.66318414e-03  5.96769527e-02 -1.82094350e-02 -1.19022909e-03\n",
            " -2.11367477e-02  1.01075405e-02  2.46708822e-02  4.98823114e-02\n",
            " -1.88790518e-03 -2.33536828e-02  4.82398644e-02 -3.79543006e-02\n",
            " -3.31192911e-02  9.37121920e-03 -9.81706288e-03  1.49027947e-02\n",
            "  2.72939336e-02 -2.14047357e-02  1.33217070e-02 -3.17610689e-02\n",
            "  2.40196194e-02 -3.45486365e-02  9.74432332e-05 -5.26796058e-02\n",
            " -1.83528885e-02  4.22129631e-02  6.81764781e-02 -2.21121367e-02\n",
            " -1.52437203e-02 -5.18826656e-02 -2.39846036e-02  2.99518229e-03\n",
            " -2.73324847e-02 -2.57090535e-02  6.48931563e-02 -3.97833325e-02\n",
            " -7.44182663e-03  1.14012435e-02  3.82268243e-02  2.27576774e-03\n",
            "  3.98649275e-02  4.82320525e-02  3.64626362e-03  3.19211185e-03\n",
            "  1.03366608e-02  2.98540406e-02 -3.78598343e-05 -1.17348442e-02\n",
            "  4.70154779e-03  3.76583077e-02  2.96082795e-02  1.41609078e-02\n",
            "  3.05178924e-03 -2.29876954e-02  1.58664361e-02  7.16948435e-02\n",
            " -3.50606516e-02 -1.00534027e-02 -1.12284496e-02 -5.40583208e-02\n",
            " -2.39584167e-02  1.56981312e-02 -3.15528959e-02 -3.30786668e-02\n",
            " -3.05711534e-02 -2.57151965e-02  5.04985377e-02 -4.55404352e-03\n",
            "  1.69963147e-02  7.16796005e-03  9.75889992e-03  3.42376754e-02\n",
            "  6.32432895e-03  2.36400962e-02 -1.46868471e-02  2.72846725e-02\n",
            "  8.19915067e-03 -6.43194392e-02 -4.73980904e-02 -4.32665981e-02\n",
            "  1.69938477e-03 -4.86152545e-02 -2.52318811e-02 -2.54793614e-02\n",
            " -5.07088080e-02  1.93352196e-02 -6.00987747e-02  1.32859414e-02\n",
            " -4.47466858e-02 -1.27172479e-02  2.86252461e-02 -2.52249464e-02\n",
            "  2.05499157e-02  3.02467495e-02  9.96822119e-03 -4.78434004e-02\n",
            "  2.33839788e-02  3.26054096e-02 -5.28361797e-02 -2.21892353e-02\n",
            "  2.85235010e-02 -2.01828051e-02 -1.73327699e-02 -5.15053310e-02\n",
            "  3.06142252e-02  5.08582045e-04 -1.02416929e-02  4.90631871e-02\n",
            "  4.16577682e-02 -7.74301356e-03  5.03271967e-02 -2.94021480e-02\n",
            " -9.32930317e-03 -1.39885517e-02 -1.25795137e-02  1.55352131e-02\n",
            " -2.04318147e-02  3.28755826e-02 -3.12140733e-02 -2.68212706e-02\n",
            " -1.11138652e-05  2.82260738e-02  5.15790889e-03  4.29728888e-02\n",
            " -7.60003459e-03  3.84688266e-02 -1.74813326e-02  1.46876159e-03\n",
            " -3.97115797e-02 -6.33457117e-03  3.93374683e-03 -1.15698064e-02\n",
            "  1.02284830e-02 -2.08349675e-02 -3.72302122e-02 -4.67497818e-02\n",
            " -1.22624831e-02  9.98378452e-03 -3.16697955e-02 -5.71949966e-03\n",
            " -5.40080257e-02  4.08566147e-02 -9.48829111e-03 -2.22174786e-02\n",
            "  2.19476670e-02  5.41716851e-02  3.71768586e-02 -3.34297866e-02\n",
            "  1.76300257e-02  1.22467140e-02 -5.40403575e-02 -2.78244298e-02\n",
            "  2.12827381e-02 -1.56055475e-02  2.67900582e-02  3.64641175e-02\n",
            " -1.82906669e-02  4.34407592e-02  2.71785334e-02  2.64306553e-02\n",
            " -3.84315364e-02 -3.45213786e-02  2.16504019e-02  4.73191217e-02\n",
            " -5.19485846e-02 -3.79504003e-02  9.88166127e-03 -2.04165820e-02\n",
            " -1.34388078e-02  2.59367377e-02 -5.91294803e-02  9.91577096e-03\n",
            "  5.05175591e-02 -1.76854264e-02  2.47981083e-02 -1.45930136e-02\n",
            "  4.41227667e-02 -3.98338847e-02 -7.74279051e-03  5.95246349e-03\n",
            " -4.74617928e-02  2.43298057e-02 -3.42027023e-02 -3.38764302e-02\n",
            " -1.04997102e-02 -1.66083705e-02 -2.21233759e-02 -5.09190746e-02\n",
            "  2.60927137e-02  4.63823192e-02  3.50418985e-02  4.58941907e-02\n",
            " -1.42862275e-03  1.89459231e-02  1.41183473e-02  2.03196239e-02\n",
            "  2.09671799e-02  2.34868154e-02 -8.33380688e-03 -3.56786023e-03\n",
            "  1.73220336e-02  3.22747752e-02 -1.03624845e-02 -2.67476439e-02\n",
            " -4.23316285e-02 -5.38344160e-02  2.49368418e-02 -2.74098176e-03\n",
            "  2.12097764e-02  1.33421458e-02 -3.55327688e-02 -3.18401568e-02\n",
            " -5.64906783e-02  1.61731616e-03  7.71539751e-03  5.23234569e-02\n",
            " -3.15437876e-02 -5.23831556e-03 -3.87000330e-02 -2.84805316e-02\n",
            "  1.05867758e-02 -1.62009709e-02 -3.68912295e-02  3.41370627e-02\n",
            "  1.70685612e-02  3.57124358e-02  4.25659455e-02  6.23339880e-03\n",
            " -1.06782233e-02 -1.70159042e-02 -7.88169652e-02  5.48554845e-02\n",
            " -1.44142816e-02 -3.09090223e-02  1.64762302e-03  6.05572425e-02\n",
            " -4.88031283e-03  4.58840132e-02 -3.30353156e-02 -4.17950004e-03\n",
            "  1.61000881e-02  2.20280839e-03  3.17273326e-02 -1.20671997e-02\n",
            " -2.90776929e-03 -6.62623420e-02 -1.70017984e-02  1.05006788e-02\n",
            "  9.49360244e-03 -2.59294752e-02 -5.34042940e-02  1.20821651e-02\n",
            "  4.74414043e-02 -5.12592262e-03  1.49425836e-02  1.42317982e-02\n",
            "  3.20362858e-02  4.04758863e-02 -1.89683996e-02  4.97894026e-02\n",
            "  2.79826429e-02 -2.80007273e-02 -1.38209928e-02  1.84500813e-02\n",
            "  1.94989499e-02  8.03074427e-03 -5.43720573e-02  8.92355852e-03\n",
            " -1.71259861e-03 -6.07486553e-02 -1.38162095e-02 -4.33801524e-02\n",
            "  4.04176153e-02  2.20654607e-02 -3.11448146e-02  1.47335762e-02\n",
            "  2.73445528e-02 -5.19066453e-02  3.56973112e-02 -2.01303605e-02]\n",
            "Word: with, Embedding: [-1.48458928e-02  3.61032672e-02 -1.26530519e-02 -3.50886919e-02\n",
            "  4.14550193e-02 -8.12894106e-03 -4.75085713e-02 -8.81037116e-03\n",
            "  1.27760563e-02  3.88228148e-02 -3.03401314e-02  2.32820045e-02\n",
            "  2.79745068e-02 -1.19396094e-02 -1.97218917e-02  1.75897386e-02\n",
            "  2.17967350e-02 -3.66758406e-02  7.98349362e-03 -3.36513594e-02\n",
            "  1.13590492e-03  3.73834893e-02 -9.75534879e-03  2.53418852e-02\n",
            " -1.84115078e-02 -2.23112218e-02 -2.94537060e-02  4.64327820e-02\n",
            " -2.70249955e-02 -2.39083432e-02  1.69687737e-02 -4.85499948e-02\n",
            "  2.74179988e-02  4.86470722e-02  2.74140816e-02 -5.02020121e-03\n",
            "  2.46473383e-02  1.57005861e-02 -2.37673931e-02  8.18722229e-03\n",
            " -7.96239264e-03 -4.55815159e-02  4.13828306e-02  2.76748603e-03\n",
            "  2.53665280e-02  3.35588194e-02  8.78303498e-02 -3.39521691e-02\n",
            "  4.30338643e-03  2.81243883e-02  4.56298590e-02  2.20396854e-02\n",
            " -8.48281197e-03  1.83325596e-02 -3.90454126e-03  7.27885170e-03\n",
            "  1.25539834e-02 -3.25568281e-02  5.20773116e-04 -2.43950710e-02\n",
            " -2.53906697e-02  8.81307479e-03  5.48859984e-02 -3.39073241e-02\n",
            "  1.60623118e-02 -3.93854082e-02 -3.07306927e-02 -3.51819322e-02\n",
            " -9.03030857e-03 -3.26491632e-02  2.48632785e-02 -2.22211704e-03\n",
            " -1.49738919e-02 -5.85837243e-03 -1.17687718e-03  2.04608869e-02\n",
            "  2.33484227e-02 -5.19891120e-02  3.67414542e-02 -9.28947236e-03\n",
            " -3.60848159e-02  6.81319088e-02 -4.71801013e-02  2.04869546e-02\n",
            "  4.36903127e-02 -1.98876224e-02 -1.33530051e-02  9.77814011e-03\n",
            "  3.85727622e-02  7.00202771e-03 -2.40941793e-02 -2.57420819e-02\n",
            "  2.13901349e-03  6.95730094e-03  2.18289904e-02 -4.20611724e-03\n",
            " -1.48005653e-02 -2.13603731e-02  2.92498693e-02 -4.01521139e-02\n",
            "  2.95722834e-03  4.53846604e-02  1.18573960e-02 -4.33314927e-02\n",
            "  1.54902320e-02 -2.78991796e-02 -6.02552015e-03 -2.26499774e-02\n",
            " -7.25355558e-03  4.62343358e-02  1.18615171e-02 -6.66290289e-05\n",
            "  2.79889852e-02 -3.22468393e-02  8.73170793e-04  4.04373184e-02\n",
            " -7.31321797e-03  2.82967985e-02 -7.45210913e-04 -1.74858775e-02\n",
            "  5.43834604e-02  1.00880507e-02  1.61762238e-02  4.10270244e-02\n",
            "  2.10130704e-03 -1.20801246e-02  5.33046871e-02 -4.86494899e-02\n",
            " -3.33277173e-02 -3.19779292e-02  2.27084216e-02  8.58835131e-03\n",
            " -1.13400230e-02 -2.79639550e-02 -2.81622894e-02  1.15072094e-02\n",
            "  1.08053852e-02 -4.45459932e-02  3.15094017e-03  3.37895900e-02\n",
            "  3.38600539e-02  6.46367762e-03  4.52329256e-02 -5.81927737e-03\n",
            " -6.55051740e-03  4.18802164e-02  4.29280922e-02 -3.46748531e-02\n",
            "  9.21188574e-03  6.40577450e-03  6.17007725e-03 -4.91594821e-02\n",
            " -2.42944434e-02  7.30539346e-03 -3.19360867e-02  3.79568562e-02\n",
            " -3.17458026e-02 -2.45471788e-03 -3.12496349e-03  3.67749073e-02\n",
            " -1.05635524e-02 -2.02183630e-02 -2.53027342e-02  5.62307378e-03\n",
            "  1.89318638e-02  5.28282374e-02  1.32728247e-02  3.85091547e-03\n",
            "  3.26547399e-02  1.46963773e-02  1.07382741e-02  3.28038894e-02\n",
            " -1.26277264e-02 -4.23514172e-02 -1.85106434e-02 -4.41258773e-02\n",
            " -5.58505058e-02 -1.01190694e-02  8.16554576e-03  7.34530808e-03\n",
            " -3.14065665e-02 -1.79048404e-02  3.36370170e-02  9.54277907e-03\n",
            "  2.67930813e-02  1.08972257e-02  3.22805084e-02 -1.62926153e-03\n",
            " -1.47382505e-02  1.17275836e-02 -5.28852716e-02  2.46008672e-02\n",
            "  2.99294181e-02  1.34389801e-02  3.34621593e-02 -6.54845592e-03\n",
            "  2.35751886e-02  6.61404198e-03  2.28142682e-02 -2.06717439e-02\n",
            "  4.18679416e-02 -3.49658318e-02 -5.39328717e-03  2.46506017e-02\n",
            " -5.54819517e-02  2.27655116e-02  5.92481159e-03 -9.29532479e-03\n",
            " -4.58174311e-02 -1.18348971e-02  1.50476871e-02 -3.59163694e-02\n",
            " -4.90464866e-02  4.51490581e-02 -2.99948584e-02 -2.02406291e-02\n",
            "  1.79983005e-02  3.45506631e-02 -2.48730555e-02  4.33025099e-02\n",
            " -4.51861508e-03  3.37393358e-02  5.53594790e-02 -3.22588384e-02\n",
            " -2.42870972e-02 -2.30128933e-02  1.04601856e-03  2.41737403e-02\n",
            " -1.22888461e-02 -3.58987153e-02 -3.43068666e-03  3.99979725e-02\n",
            " -5.30694313e-02  4.78899591e-02  1.32047702e-02  3.46029154e-03\n",
            "  1.49551621e-02  2.98510771e-02 -9.64048598e-03 -1.92554723e-02\n",
            "  2.12403741e-02 -4.72355783e-02 -1.00822067e-02 -4.50224280e-02\n",
            "  2.49001943e-02  7.94615597e-04  2.83244215e-02  3.24365646e-02\n",
            "  3.33748572e-02  1.97269469e-02 -1.29821729e-02 -2.41964664e-02\n",
            "  4.54735942e-02  3.09733581e-02  4.25555483e-02  4.59257746e-03\n",
            " -7.20844511e-03 -4.61270101e-02  3.02867349e-02  3.92789394e-02\n",
            "  2.57481094e-02  1.07652135e-02 -4.59315442e-02  4.47100680e-03\n",
            " -4.04958129e-02  2.08569393e-02  1.91733614e-02 -4.04229201e-02\n",
            " -6.98610302e-03 -1.23519776e-02 -1.73766464e-02 -2.65612155e-02\n",
            " -2.79756896e-02 -3.93897295e-02 -6.41181320e-02  4.50155996e-02\n",
            " -4.33558747e-02 -2.36936752e-03  1.56635623e-02  3.28401551e-02\n",
            "  1.46994402e-03 -1.54003650e-02 -1.80955566e-02 -2.36313464e-03\n",
            " -4.10906635e-02 -1.41230039e-02 -9.29634180e-03 -6.57316372e-02\n",
            " -2.78278627e-03 -1.88306067e-02 -3.10383029e-02 -3.98853905e-02\n",
            " -2.24729907e-02  1.39882443e-02 -1.87062789e-02 -8.84513743e-03\n",
            " -1.00752776e-02 -3.49355899e-02  3.72222401e-02 -4.05407175e-02]\n"
          ]
        }
      ]
    }
  ]
}