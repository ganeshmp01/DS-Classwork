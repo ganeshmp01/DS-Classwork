{
  "nbformat": 4,
  "nbformat_minor": 0,
  "metadata": {
    "colab": {
      "provenance": [],
      "authorship_tag": "ABX9TyOSWC/m7lyVcepToqe9XGO8",
      "include_colab_link": true
    },
    "kernelspec": {
      "name": "python3",
      "display_name": "Python 3"
    },
    "language_info": {
      "name": "python"
    }
  },
  "cells": [
    {
      "cell_type": "markdown",
      "metadata": {
        "id": "view-in-github",
        "colab_type": "text"
      },
      "source": [
        "<a href=\"https://colab.research.google.com/github/ganeshmp01/DS-Classwork/blob/main/Python_exercise_2.ipynb\" target=\"_parent\"><img src=\"https://colab.research.google.com/assets/colab-badge.svg\" alt=\"Open In Colab\"/></a>"
      ]
    },
    {
      "cell_type": "code",
      "execution_count": null,
      "metadata": {
        "id": "zbgIto36t3Dh"
      },
      "outputs": [],
      "source": [
        "a = [ 1,2,3,4,5] #row vector\n",
        "a = [[1], [2],[3],[4]] # column vector"
      ]
    },
    {
      "cell_type": "code",
      "source": [
        "import numpy\n"
      ],
      "metadata": {
        "id": "eun85kY5udD7"
      },
      "execution_count": 1,
      "outputs": []
    },
    {
      "cell_type": "code",
      "source": [
        "import numpy as np # package as an alias name np to be used in our code"
      ],
      "metadata": {
        "id": "0t5haQe6uinJ"
      },
      "execution_count": 2,
      "outputs": []
    },
    {
      "cell_type": "markdown",
      "source": [
        "1. Write a Python program to count the number of even and odd numbers from a series of numbers."
      ],
      "metadata": {
        "id": "VDyQrkeZKMnZ"
      }
    },
    {
      "cell_type": "code",
      "source": [
        "odd  = 0\n",
        "even = 0\n",
        "for i in range(1,10):\n",
        "  if i%2==0:\n",
        "    even = even + 1\n",
        "  else:\n",
        "    odd = odd + 1\n",
        "print(\"The number of even numbers are:\", even)\n",
        "print(\"The number of odd numbers are:\", odd)\n"
      ],
      "metadata": {
        "colab": {
          "base_uri": "https://localhost:8080/"
        },
        "id": "kZVpsFvU4OAB",
        "outputId": "87b89258-cf1a-43bd-ff78-e106dfbfc54d"
      },
      "execution_count": 4,
      "outputs": [
        {
          "output_type": "stream",
          "name": "stdout",
          "text": [
            "The number of even numbers are: 4\n",
            "The number of odd numbers are: 5\n"
          ]
        }
      ]
    },
    {
      "cell_type": "markdown",
      "source": [
        "2. Write a Python program to find numbers between 100 and 400 (both included) where each digit of a number is an even number. The numbers obtained should be printed in a comma-separated sequence."
      ],
      "metadata": {
        "id": "DkbXb_NeKSog"
      }
    },
    {
      "cell_type": "code",
      "source": [
        "for i in range(100,401,2):\n",
        "   s=str(i)\n",
        "   if (int(s[0])%2==0) and (int(s[1])%2==0) and (int(s[2])%2==0):\n",
        "    print(s,end=',')\n",
        "   else:\n",
        "    continue\n",
        "\n",
        "\n"
      ],
      "metadata": {
        "colab": {
          "base_uri": "https://localhost:8080/"
        },
        "id": "f4IOLuIm5HHm",
        "outputId": "e10926c9-f384-45d3-fb57-5f4a367394b6"
      },
      "execution_count": 32,
      "outputs": [
        {
          "output_type": "stream",
          "name": "stdout",
          "text": [
            "200,202,204,206,208,220,222,224,226,228,240,242,244,246,248,260,262,264,266,268,280,282,284,286,288,400,"
          ]
        }
      ]
    },
    {
      "cell_type": "markdown",
      "source": [
        "3. Write a Python program to calculate a dog's age in dog's years. Go to the editor\n",
        "Note: For the first two years, a dog year is equal to 10.5 human years. After that, each dog year equals 4 human years."
      ],
      "metadata": {
        "id": "9EutdO1WNgzz"
      }
    },
    {
      "cell_type": "code",
      "source": [
        "dog_age = int(input(\"Input a dog's age in human years: \"))\n",
        "if dog_age<=2:\n",
        "   human_age = dog_age*10.5\n",
        "else:\n",
        "   human_age = ((dog_age - 2) * 4) + 21\n",
        "print(\"The dog's age in dog's years is:\" , human_age)"
      ],
      "metadata": {
        "colab": {
          "base_uri": "https://localhost:8080/"
        },
        "id": "g-dVzZbfJQQQ",
        "outputId": "bb4a6904-d2ae-4d2b-8d65-786975e8e89e"
      },
      "execution_count": 47,
      "outputs": [
        {
          "output_type": "stream",
          "name": "stdout",
          "text": [
            "Input a dog's age in human years: 20\n",
            "The dog's age in dog's years is: 93\n"
          ]
        }
      ]
    },
    {
      "cell_type": "markdown",
      "source": [
        "4. Write a Python function to find the Max of three numbers."
      ],
      "metadata": {
        "id": "zgczZhCrO4_L"
      }
    },
    {
      "cell_type": "code",
      "source": [
        "def maxnum(a,b,c):\n",
        "  if a>b and a>c:\n",
        "    print(a,\" is the max among the three numbers\", a,b,c)\n",
        "  elif b>a and b>c:\n",
        "    print(b, \"is the max among the three numbers\", a,b,c)\n",
        "  elif c>a and c>b:\n",
        "    print(c,\"is the max among the three numbers\", a,b,c)\n",
        "\n",
        "a=maxnum(3, 6, -5)\n",
        "a"
      ],
      "metadata": {
        "colab": {
          "base_uri": "https://localhost:8080/"
        },
        "id": "9jKMSbzhO6OF",
        "outputId": "5829e797-bd59-4463-a633-ba603b336789"
      },
      "execution_count": 68,
      "outputs": [
        {
          "output_type": "stream",
          "name": "stdout",
          "text": [
            "6 is the max among the three numbers 3 6 -5\n"
          ]
        }
      ]
    },
    {
      "cell_type": "markdown",
      "source": [
        "5. Write a Python function that takes a number as a parameter and check the number is prime or not."
      ],
      "metadata": {
        "id": "tdi4ohJnS0Z3"
      }
    },
    {
      "cell_type": "code",
      "source": [
        "def prime(num):\n",
        "    if num> 1:\n",
        "        for n in range(2,num):\n",
        "            if (num % n) == 0:\n",
        "                return False\n",
        "        return True\n",
        "    else:\n",
        "        return False\n",
        "\n",
        "result=prime(9)\n",
        "result\n"
      ],
      "metadata": {
        "colab": {
          "base_uri": "https://localhost:8080/"
        },
        "id": "7PDXTQA6S0QE",
        "outputId": "47533da4-e509-496f-f181-aca222bfbb6a"
      },
      "execution_count": 102,
      "outputs": [
        {
          "output_type": "execute_result",
          "data": {
            "text/plain": [
              "False"
            ]
          },
          "metadata": {},
          "execution_count": 102
        }
      ]
    },
    {
      "cell_type": "markdown",
      "source": [
        "6. Write a Python function that accepts a string and calculate the number of upper case letters and lower case letters."
      ],
      "metadata": {
        "id": "E5M78vUXcv7l"
      }
    },
    {
      "cell_type": "code",
      "source": [
        "def uplow(Original_String):\n",
        "  lower=0\n",
        "  upper=0\n",
        "  for i in Original_String:\n",
        "    if i.islower():\n",
        "      lower=lower+1\n",
        "    elif i.isupper():\n",
        "      upper=upper+1\n",
        "  print(\"Original_String :\", Original_String)\n",
        "  print(\"No. of Upper case characters :\" , upper)\n",
        "  print(\"No. of Lower case characters :\" , lower)\n",
        "\n",
        "n=uplow(\"Inceptz is One of The BeSt Places TO LEarn DataSciEnce\")\n",
        "n\n",
        "\n",
        "\n"
      ],
      "metadata": {
        "colab": {
          "base_uri": "https://localhost:8080/"
        },
        "id": "xuhxZzE2c4Lx",
        "outputId": "ae756191-163e-4d67-bbf7-9c7d84d34a6e"
      },
      "execution_count": 113,
      "outputs": [
        {
          "output_type": "stream",
          "name": "stdout",
          "text": [
            "Original_String : Inceptz is One of The BeSt Places TO LEarn DataSciEnce\n",
            "No. of Upper case characters : 13\n",
            "No. of Lower case characters : 32\n"
          ]
        }
      ]
    },
    {
      "cell_type": "markdown",
      "source": [
        "7. Write a Python program to reverse a string."
      ],
      "metadata": {
        "id": "_fxNjqJXq3a7"
      }
    },
    {
      "cell_type": "code",
      "source": [
        "a=input(\"The original string is: \")\n",
        "b=list(a)\n",
        "b.sort(reverse=True)\n",
        "listToStr = ''.join([str(e) for e in b])\n",
        "print(\"The reversed string: \", listToStr)\n"
      ],
      "metadata": {
        "colab": {
          "base_uri": "https://localhost:8080/"
        },
        "id": "N9xiheVNogus",
        "outputId": "c4c4143f-0a08-45a1-b7ef-cb0b0ec6cd67"
      },
      "execution_count": 158,
      "outputs": [
        {
          "output_type": "stream",
          "name": "stdout",
          "text": [
            "The original string is: 1234abcd\n",
            "The reversed string:  dcba4321\n"
          ]
        }
      ]
    },
    {
      "cell_type": "markdown",
      "source": [
        "8. Write a Python program to find the greatest common divisor (gcd) of two integers."
      ],
      "metadata": {
        "id": "0IqkjVBN0X3F"
      }
    },
    {
      "cell_type": "code",
      "source": [
        "a=int(input(\"Enter the first number: \"))\n",
        "b=int(input(\"Enter the second number: \"))\n",
        "for i in range(1, min(a,b) + 1):\n",
        "    if a % i == 0 and b % i == 0:\n",
        "        result = i\n",
        "print(\"The two numbers are:\", \"(\",str(a),\",\", str(b),\")\")\n",
        "print(\"The GCD of the numbers are:\", result)\n"
      ],
      "metadata": {
        "colab": {
          "base_uri": "https://localhost:8080/"
        },
        "id": "JctNMo_R0bXA",
        "outputId": "9cf58eee-bd2e-42e3-acf8-3c9d22e9664a"
      },
      "execution_count": 168,
      "outputs": [
        {
          "output_type": "stream",
          "name": "stdout",
          "text": [
            "Enter the first number: 12\n",
            "Enter the second number: 14\n",
            "The two numbers are: ( 12 , 14 )\n",
            "The GCD of the numbers are: 2\n"
          ]
        }
      ]
    }
  ]
}