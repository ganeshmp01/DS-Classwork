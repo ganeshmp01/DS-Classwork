{
  "nbformat": 4,
  "nbformat_minor": 0,
  "metadata": {
    "colab": {
      "provenance": [],
      "authorship_tag": "ABX9TyMR+9NcHBBc2agcvl9DkFKs",
      "include_colab_link": true
    },
    "kernelspec": {
      "name": "python3",
      "display_name": "Python 3"
    },
    "language_info": {
      "name": "python"
    }
  },
  "cells": [
    {
      "cell_type": "markdown",
      "metadata": {
        "id": "view-in-github",
        "colab_type": "text"
      },
      "source": [
        "<a href=\"https://colab.research.google.com/github/ganeshmp01/DS-Classwork/blob/main/Various_distance_measures.ipynb\" target=\"_parent\"><img src=\"https://colab.research.google.com/assets/colab-badge.svg\" alt=\"Open In Colab\"/></a>"
      ]
    },
    {
      "cell_type": "code",
      "execution_count": 4,
      "metadata": {
        "colab": {
          "base_uri": "https://localhost:8080/"
        },
        "id": "nDDNc7QW_j6o",
        "outputId": "4050f056-d60a-4c0b-9b43-827a4465fb74"
      },
      "outputs": [
        {
          "output_type": "execute_result",
          "data": {
            "text/plain": [
              "13.228756555322953"
            ]
          },
          "metadata": {},
          "execution_count": 4
        }
      ],
      "source": [
        "#euclidean distance\n",
        "from scipy.spatial.distance import euclidean\n",
        "a1=[4,23,5,9]\n",
        "a2=[3,34,7,2]\n",
        "euclidean(a1,a2)"
      ]
    },
    {
      "cell_type": "code",
      "source": [
        "#manhattan distance\n",
        "from scipy.spatial.distance import cityblock\n",
        "b1=[4,23,5,9]\n",
        "b2=[3,34,7,2]\n",
        "cityblock(b1,b2)"
      ],
      "metadata": {
        "colab": {
          "base_uri": "https://localhost:8080/"
        },
        "id": "_FCp9z-SAEMX",
        "outputId": "e58bc6c4-d3c8-4c5a-a774-e0332f88ff10"
      },
      "execution_count": 2,
      "outputs": [
        {
          "output_type": "execute_result",
          "data": {
            "text/plain": [
              "21"
            ]
          },
          "metadata": {},
          "execution_count": 2
        }
      ]
    },
    {
      "cell_type": "code",
      "source": [
        "#Minkowski distance\n",
        "from scipy.spatial.distance import minkowski\n",
        "c1=[4,23,5,9]\n",
        "c2=[3,34,7,2]\n",
        "minkowski(c1,c2)"
      ],
      "metadata": {
        "colab": {
          "base_uri": "https://localhost:8080/"
        },
        "id": "B9lCqDkRDi52",
        "outputId": "233fd68a-5477-42ce-9df0-a1ed53679bb3"
      },
      "execution_count": 3,
      "outputs": [
        {
          "output_type": "execute_result",
          "data": {
            "text/plain": [
              "13.228756555322953"
            ]
          },
          "metadata": {},
          "execution_count": 3
        }
      ]
    },
    {
      "cell_type": "code",
      "source": [
        "#Cosine Similarity distance\n",
        "from scipy.spatial.distance import cosine\n",
        "c1=[4,23,5,9]\n",
        "c2=[3,34,7,2]\n",
        "cosine(c1,c2)"
      ],
      "metadata": {
        "colab": {
          "base_uri": "https://localhost:8080/"
        },
        "id": "IR1mn7FlH0nc",
        "outputId": "7f1b06ec-a72a-46d2-95c9-8dbd500ae637"
      },
      "execution_count": 5,
      "outputs": [
        {
          "output_type": "execute_result",
          "data": {
            "text/plain": [
              "0.04880562821623402"
            ]
          },
          "metadata": {},
          "execution_count": 5
        }
      ]
    },
    {
      "cell_type": "code",
      "source": [
        "#Chebyshev distance\n",
        "from scipy.spatial.distance import chebyshev\n",
        "c1=[4,23,5,9]\n",
        "c2=[3,34,7,2]\n",
        "chebyshev(c1,c2)"
      ],
      "metadata": {
        "colab": {
          "base_uri": "https://localhost:8080/"
        },
        "id": "g8tgvI5cP2tZ",
        "outputId": "e25a93b2-612b-4de2-bcbc-9504d073074b"
      },
      "execution_count": 7,
      "outputs": [
        {
          "output_type": "execute_result",
          "data": {
            "text/plain": [
              "11"
            ]
          },
          "metadata": {},
          "execution_count": 7
        }
      ]
    },
    {
      "cell_type": "code",
      "source": [
        "#Jaccard distance\n",
        "from scipy.spatial.distance import jaccard\n",
        "c1=[4,23,5,9]\n",
        "c2=[3,34,7,2]\n",
        "jaccard(c1,c2)"
      ],
      "metadata": {
        "colab": {
          "base_uri": "https://localhost:8080/"
        },
        "id": "Ix5HB3wEVQNC",
        "outputId": "a3ea8d9e-f280-48a7-d1b7-c2132cb35c10"
      },
      "execution_count": 8,
      "outputs": [
        {
          "output_type": "execute_result",
          "data": {
            "text/plain": [
              "1.0"
            ]
          },
          "metadata": {},
          "execution_count": 8
        }
      ]
    }
  ]
}