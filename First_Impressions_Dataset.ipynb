{
  "nbformat": 4,
  "nbformat_minor": 0,
  "metadata": {
    "colab": {
      "provenance": [],
      "gpuType": "T4",
      "authorship_tag": "ABX9TyOGQ84xppSKHMG10/z7lKDJ",
      "include_colab_link": true
    },
    "kernelspec": {
      "name": "python3",
      "display_name": "Python 3"
    },
    "language_info": {
      "name": "python"
    },
    "accelerator": "GPU"
  },
  "cells": [
    {
      "cell_type": "markdown",
      "metadata": {
        "id": "view-in-github",
        "colab_type": "text"
      },
      "source": [
        "<a href=\"https://colab.research.google.com/github/ganeshmp01/DS-Classwork/blob/main/First_Impressions_Dataset.ipynb\" target=\"_parent\"><img src=\"https://colab.research.google.com/assets/colab-badge.svg\" alt=\"Open In Colab\"/></a>"
      ]
    },
    {
      "cell_type": "code",
      "execution_count": 1,
      "metadata": {
        "id": "G_KGXteb7_xy"
      },
      "outputs": [],
      "source": [
        "!pip install -q kaggle"
      ]
    },
    {
      "cell_type": "code",
      "source": [
        "from google.colab import files\n",
        "files.upload()"
      ],
      "metadata": {
        "colab": {
          "base_uri": "https://localhost:8080/",
          "height": 90
        },
        "id": "57eY1oxI8VK-",
        "outputId": "b05156e3-a5f3-4e8d-a802-ff2916349987"
      },
      "execution_count": 2,
      "outputs": [
        {
          "output_type": "display_data",
          "data": {
            "text/plain": [
              "<IPython.core.display.HTML object>"
            ],
            "text/html": [
              "\n",
              "     <input type=\"file\" id=\"files-88ad680e-4a70-4ae2-906d-36baebecf06b\" name=\"files[]\" multiple disabled\n",
              "        style=\"border:none\" />\n",
              "     <output id=\"result-88ad680e-4a70-4ae2-906d-36baebecf06b\">\n",
              "      Upload widget is only available when the cell has been executed in the\n",
              "      current browser session. Please rerun this cell to enable.\n",
              "      </output>\n",
              "      <script>// Copyright 2017 Google LLC\n",
              "//\n",
              "// Licensed under the Apache License, Version 2.0 (the \"License\");\n",
              "// you may not use this file except in compliance with the License.\n",
              "// You may obtain a copy of the License at\n",
              "//\n",
              "//      http://www.apache.org/licenses/LICENSE-2.0\n",
              "//\n",
              "// Unless required by applicable law or agreed to in writing, software\n",
              "// distributed under the License is distributed on an \"AS IS\" BASIS,\n",
              "// WITHOUT WARRANTIES OR CONDITIONS OF ANY KIND, either express or implied.\n",
              "// See the License for the specific language governing permissions and\n",
              "// limitations under the License.\n",
              "\n",
              "/**\n",
              " * @fileoverview Helpers for google.colab Python module.\n",
              " */\n",
              "(function(scope) {\n",
              "function span(text, styleAttributes = {}) {\n",
              "  const element = document.createElement('span');\n",
              "  element.textContent = text;\n",
              "  for (const key of Object.keys(styleAttributes)) {\n",
              "    element.style[key] = styleAttributes[key];\n",
              "  }\n",
              "  return element;\n",
              "}\n",
              "\n",
              "// Max number of bytes which will be uploaded at a time.\n",
              "const MAX_PAYLOAD_SIZE = 100 * 1024;\n",
              "\n",
              "function _uploadFiles(inputId, outputId) {\n",
              "  const steps = uploadFilesStep(inputId, outputId);\n",
              "  const outputElement = document.getElementById(outputId);\n",
              "  // Cache steps on the outputElement to make it available for the next call\n",
              "  // to uploadFilesContinue from Python.\n",
              "  outputElement.steps = steps;\n",
              "\n",
              "  return _uploadFilesContinue(outputId);\n",
              "}\n",
              "\n",
              "// This is roughly an async generator (not supported in the browser yet),\n",
              "// where there are multiple asynchronous steps and the Python side is going\n",
              "// to poll for completion of each step.\n",
              "// This uses a Promise to block the python side on completion of each step,\n",
              "// then passes the result of the previous step as the input to the next step.\n",
              "function _uploadFilesContinue(outputId) {\n",
              "  const outputElement = document.getElementById(outputId);\n",
              "  const steps = outputElement.steps;\n",
              "\n",
              "  const next = steps.next(outputElement.lastPromiseValue);\n",
              "  return Promise.resolve(next.value.promise).then((value) => {\n",
              "    // Cache the last promise value to make it available to the next\n",
              "    // step of the generator.\n",
              "    outputElement.lastPromiseValue = value;\n",
              "    return next.value.response;\n",
              "  });\n",
              "}\n",
              "\n",
              "/**\n",
              " * Generator function which is called between each async step of the upload\n",
              " * process.\n",
              " * @param {string} inputId Element ID of the input file picker element.\n",
              " * @param {string} outputId Element ID of the output display.\n",
              " * @return {!Iterable<!Object>} Iterable of next steps.\n",
              " */\n",
              "function* uploadFilesStep(inputId, outputId) {\n",
              "  const inputElement = document.getElementById(inputId);\n",
              "  inputElement.disabled = false;\n",
              "\n",
              "  const outputElement = document.getElementById(outputId);\n",
              "  outputElement.innerHTML = '';\n",
              "\n",
              "  const pickedPromise = new Promise((resolve) => {\n",
              "    inputElement.addEventListener('change', (e) => {\n",
              "      resolve(e.target.files);\n",
              "    });\n",
              "  });\n",
              "\n",
              "  const cancel = document.createElement('button');\n",
              "  inputElement.parentElement.appendChild(cancel);\n",
              "  cancel.textContent = 'Cancel upload';\n",
              "  const cancelPromise = new Promise((resolve) => {\n",
              "    cancel.onclick = () => {\n",
              "      resolve(null);\n",
              "    };\n",
              "  });\n",
              "\n",
              "  // Wait for the user to pick the files.\n",
              "  const files = yield {\n",
              "    promise: Promise.race([pickedPromise, cancelPromise]),\n",
              "    response: {\n",
              "      action: 'starting',\n",
              "    }\n",
              "  };\n",
              "\n",
              "  cancel.remove();\n",
              "\n",
              "  // Disable the input element since further picks are not allowed.\n",
              "  inputElement.disabled = true;\n",
              "\n",
              "  if (!files) {\n",
              "    return {\n",
              "      response: {\n",
              "        action: 'complete',\n",
              "      }\n",
              "    };\n",
              "  }\n",
              "\n",
              "  for (const file of files) {\n",
              "    const li = document.createElement('li');\n",
              "    li.append(span(file.name, {fontWeight: 'bold'}));\n",
              "    li.append(span(\n",
              "        `(${file.type || 'n/a'}) - ${file.size} bytes, ` +\n",
              "        `last modified: ${\n",
              "            file.lastModifiedDate ? file.lastModifiedDate.toLocaleDateString() :\n",
              "                                    'n/a'} - `));\n",
              "    const percent = span('0% done');\n",
              "    li.appendChild(percent);\n",
              "\n",
              "    outputElement.appendChild(li);\n",
              "\n",
              "    const fileDataPromise = new Promise((resolve) => {\n",
              "      const reader = new FileReader();\n",
              "      reader.onload = (e) => {\n",
              "        resolve(e.target.result);\n",
              "      };\n",
              "      reader.readAsArrayBuffer(file);\n",
              "    });\n",
              "    // Wait for the data to be ready.\n",
              "    let fileData = yield {\n",
              "      promise: fileDataPromise,\n",
              "      response: {\n",
              "        action: 'continue',\n",
              "      }\n",
              "    };\n",
              "\n",
              "    // Use a chunked sending to avoid message size limits. See b/62115660.\n",
              "    let position = 0;\n",
              "    do {\n",
              "      const length = Math.min(fileData.byteLength - position, MAX_PAYLOAD_SIZE);\n",
              "      const chunk = new Uint8Array(fileData, position, length);\n",
              "      position += length;\n",
              "\n",
              "      const base64 = btoa(String.fromCharCode.apply(null, chunk));\n",
              "      yield {\n",
              "        response: {\n",
              "          action: 'append',\n",
              "          file: file.name,\n",
              "          data: base64,\n",
              "        },\n",
              "      };\n",
              "\n",
              "      let percentDone = fileData.byteLength === 0 ?\n",
              "          100 :\n",
              "          Math.round((position / fileData.byteLength) * 100);\n",
              "      percent.textContent = `${percentDone}% done`;\n",
              "\n",
              "    } while (position < fileData.byteLength);\n",
              "  }\n",
              "\n",
              "  // All done.\n",
              "  yield {\n",
              "    response: {\n",
              "      action: 'complete',\n",
              "    }\n",
              "  };\n",
              "}\n",
              "\n",
              "scope.google = scope.google || {};\n",
              "scope.google.colab = scope.google.colab || {};\n",
              "scope.google.colab._files = {\n",
              "  _uploadFiles,\n",
              "  _uploadFilesContinue,\n",
              "};\n",
              "})(self);\n",
              "</script> "
            ]
          },
          "metadata": {}
        },
        {
          "output_type": "stream",
          "name": "stdout",
          "text": [
            "Saving kaggle.json to kaggle.json\n"
          ]
        },
        {
          "output_type": "execute_result",
          "data": {
            "text/plain": [
              "{'kaggle.json': b'{\"username\":\"ganeshmp01\",\"key\":\"ad99cb76078e0a4514cad9af0d045e21\"}'}"
            ]
          },
          "metadata": {},
          "execution_count": 2
        }
      ]
    },
    {
      "cell_type": "code",
      "source": [
        "!mkdir ~/.kaggle"
      ],
      "metadata": {
        "id": "jVsFIp278kg-"
      },
      "execution_count": 3,
      "outputs": []
    },
    {
      "cell_type": "code",
      "source": [
        "!cp kaggle.json ~/.kaggle/"
      ],
      "metadata": {
        "id": "sgu9KO5U8x_2"
      },
      "execution_count": 4,
      "outputs": []
    },
    {
      "cell_type": "code",
      "source": [
        "!chmod 600 ~/.kaggle/kaggle.json"
      ],
      "metadata": {
        "id": "mVoYXN_h8_BO"
      },
      "execution_count": 5,
      "outputs": []
    },
    {
      "cell_type": "code",
      "source": [
        "!kaggle datasets download -d tapakah68/impressive-dataset"
      ],
      "metadata": {
        "colab": {
          "base_uri": "https://localhost:8080/"
        },
        "id": "mrFQKZnZ9x1D",
        "outputId": "b721e27b-48f4-4fd3-aa40-4be53b490e61"
      },
      "execution_count": 8,
      "outputs": [
        {
          "output_type": "stream",
          "name": "stdout",
          "text": [
            "Dataset URL: https://www.kaggle.com/datasets/tapakah68/impressive-dataset\n",
            "License(s): Attribution-NonCommercial-NoDerivatives 4.0 International (CC BY-NC-ND 4.0)\n",
            "Downloading impressive-dataset.zip to /content\n",
            " 99% 5.21G/5.24G [01:10<00:00, 86.9MB/s]\n",
            "100% 5.24G/5.24G [01:10<00:00, 79.6MB/s]\n"
          ]
        }
      ]
    },
    {
      "cell_type": "code",
      "source": [
        "!unzip -q /content/impressive-dataset.zip"
      ],
      "metadata": {
        "colab": {
          "base_uri": "https://localhost:8080/"
        },
        "id": "FFhFPtsD-kIz",
        "outputId": "6fbf0229-6327-464c-c92c-310756a7b7c4"
      },
      "execution_count": 11,
      "outputs": [
        {
          "output_type": "stream",
          "name": "stdout",
          "text": [
            "replace First Impression Dataset/first_impression_dataset.csv? [y]es, [n]o, [A]ll, [N]one, [r]ename: "
          ]
        }
      ]
    },
    {
      "cell_type": "code",
      "source": [
        "import os\n",
        "import pandas as pd\n",
        "import numpy as np\n",
        "import torch\n",
        "from torch import nn\n",
        "from torchvision import models, transforms\n",
        "from transformers import BertTokenizer, BertModel\n",
        "from torch.utils.data import Dataset, DataLoader\n",
        "from sklearn.model_selection import train_test_split\n",
        "\n",
        "# Load dataset\n",
        "data = pd.read_csv('/content/First Impression Dataset/first_impression_dataset.csv')\n",
        "\n"
      ],
      "metadata": {
        "id": "Lot6rGPxB2aJ"
      },
      "execution_count": 12,
      "outputs": []
    },
    {
      "cell_type": "code",
      "source": [
        "# prompt:  use the image files from this path /content/First Impression Dataset/images\n",
        "\n",
        "import numpy as np\n",
        "import cv2\n",
        "from PIL import Image\n",
        "\n",
        "image_path = '/content/First Impression Dataset/images'\n",
        "\n",
        "# Example: Load and process the first image\n",
        "image_files = os.listdir(image_path)\n",
        "if image_files:\n",
        "  first_image_file = os.path.join(image_path, image_files[0])\n",
        "  try:\n",
        "    img = Image.open(first_image_file)\n",
        "    # You can perform further processing on the image here, e.g., resizing, converting to numpy array\n",
        "    # img_array = np.array(img)\n",
        "    print(f\"Loaded image: {first_image_file}\")\n",
        "  except Exception as e:\n",
        "    print(f\"Error loading image: {e}\")\n",
        "else:\n",
        "  print(\"No image files found in the directory.\")\n"
      ],
      "metadata": {
        "colab": {
          "base_uri": "https://localhost:8080/"
        },
        "id": "squcML55K3Pw",
        "outputId": "6d5e0d6f-5f86-4fd9-ae5e-ec37cafda484"
      },
      "execution_count": 39,
      "outputs": [
        {
          "output_type": "stream",
          "name": "stdout",
          "text": [
            "Loaded image: /content/First Impression Dataset/images/15738114470390050.jpg\n"
          ]
        }
      ]
    },
    {
      "cell_type": "code",
      "source": [
        "# Preprocessing\n",
        "class ImpressionsDataset(Dataset):\n",
        "    def __init__(self, texts, images, tokenizer, transform=None):\n",
        "        self.texts = texts\n",
        "        self.images = images\n",
        "        self.tokenizer = tokenizer\n",
        "        self.transform = transform\n",
        "\n",
        "    def __len__(self):\n",
        "        return len(self.texts)\n",
        "\n",
        "\n",
        "    def __getitem__(self, idx):\n",
        "        text = self.texts[idx]\n",
        "        image_id = self.images[idx]\n",
        "\n",
        "        # Process text\n",
        "        if isinstance(text, str):\n",
        "            inputs = self.tokenizer(text, return_tensors='pt', padding='max_length', truncation=True, max_length=128)\n",
        "        else:\n",
        "            # Handle missing or non-string values (e.g., replace with empty string)\n",
        "            inputs = self.tokenizer('', return_tensors='pt', padding='max_length', truncation=True, max_length=128)\n",
        "\n",
        "        # Process image\n",
        "        from PIL import Image\n",
        "        image_path = f'/content/First Impression Dataset/images/{image_id}.jpg'\n",
        "        image = Image.open(image_path).convert('RGB')\n",
        "        if self.transform:\n",
        "            image = self.transform(image)\n",
        "\n",
        "        return inputs, image\n",
        "\n",
        "# Set up tokenization and transformations\n",
        "tokenizer = BertTokenizer.from_pretrained('bert-base-uncased')\n",
        "transform = transforms.Compose([\n",
        "    transforms.Resize((224, 224)),\n",
        "    transforms.ToTensor(),\n",
        "])\n",
        "\n",
        "# Create dataset and dataloaders\n",
        "train_texts, test_texts, train_images, test_images = train_test_split(\n",
        "    data['impression_en'].tolist(), data['image_id'].tolist(), test_size=0.2, random_state=42)\n",
        "\n",
        "train_dataset = ImpressionsDataset(train_texts, train_images, tokenizer, transform)\n",
        "test_dataset = ImpressionsDataset(test_texts, test_images,  tokenizer, transform)\n",
        "\n",
        "train_loader = DataLoader(train_dataset, batch_size=32, shuffle=True)\n",
        "test_loader = DataLoader(test_dataset, batch_size=32, shuffle=False)\n",
        "\n",
        "# Define the multimodal model\n",
        "class MultimodalModel(nn.Module):\n",
        "    def __init__(self):\n",
        "        super(MultimodalModel, self).__init__()\n",
        "        self.bert = BertModel.from_pretrained('bert-base-uncased')\n",
        "        self.cnn = models.resnet18(pretrained=True)\n",
        "        self.cnn.fc = nn.Linear(self.cnn.fc.in_features, 256)\n",
        "\n",
        "        self.fc = nn.Linear(256 + 768, 1)  # Combine image and text outputs\n",
        "\n",
        "    def forward(self, text_inputs, images):\n",
        "        text_outputs = self.bert(**text_inputs).pooler_output\n",
        "        image_outputs = self.cnn(images)\n",
        "\n",
        "        combined = torch.cat((text_outputs, image_outputs), dim=1)\n",
        "        return self.fc(combined)\n",
        "\n"
      ],
      "metadata": {
        "id": "PJhPE7yGImNf"
      },
      "execution_count": 58,
      "outputs": []
    },
    {
      "cell_type": "code",
      "source": [
        "%%time\n",
        "# Train the model\n",
        "device = torch.device('cuda' if torch.cuda.is_available() else 'cpu')\n",
        "model = MultimodalModel().to(device)\n",
        "optimizer = torch.optim.Adam(model.parameters(), lr=1e-5)\n",
        "criterion = nn.BCEWithLogitsLoss()\n",
        "\n",
        "for epoch in range(5):  # Adjust epochs as needed\n",
        "    model.train()\n",
        "    running_loss = 0.0\n",
        "    for text_inputs, images in train_loader:\n",
        "        optimizer.zero_grad()\n",
        "\n",
        "        text_inputs = {key: val.squeeze(1).to(device) for key, val in text_inputs.items()}\n",
        "        images = images.to(device)\n",
        "\n",
        "        # Assuming your labels are available as a tensor named 'labels'\n",
        "        labels = torch.randint(0, 2, (images.size(0), 1)).float().to(device) # Example random labels - replace with your actual labels\n",
        "\n",
        "        # Forward pass\n",
        "        outputs = model(text_inputs, images)\n",
        "\n",
        "        # Calculate loss with outputs and labels\n",
        "        loss = criterion(outputs, labels)\n",
        "\n",
        "        # Backward pass and optimization\n",
        "        loss.backward()\n",
        "        optimizer.step()\n",
        "\n",
        "        running_loss += loss.item()\n",
        "\n",
        "    avg_loss = running_loss / len(train_loader)\n",
        "    print(f'Epoch {epoch + 1}, Loss: {avg_loss}')"
      ],
      "metadata": {
        "colab": {
          "base_uri": "https://localhost:8080/"
        },
        "id": "LSfKlwojI-eD",
        "outputId": "168879f1-3be7-4a05-eada-f6bacaf8c663"
      },
      "execution_count": 59,
      "outputs": [
        {
          "output_type": "stream",
          "name": "stderr",
          "text": [
            "/usr/local/lib/python3.10/dist-packages/torchvision/models/_utils.py:208: UserWarning: The parameter 'pretrained' is deprecated since 0.13 and may be removed in the future, please use 'weights' instead.\n",
            "  warnings.warn(\n",
            "/usr/local/lib/python3.10/dist-packages/torchvision/models/_utils.py:223: UserWarning: Arguments other than a weight enum or `None` for 'weights' are deprecated since 0.13 and may be removed in the future. The current behavior is equivalent to passing `weights=ResNet18_Weights.IMAGENET1K_V1`. You can also use `weights=ResNet18_Weights.DEFAULT` to get the most up-to-date weights.\n",
            "  warnings.warn(msg)\n"
          ]
        },
        {
          "output_type": "stream",
          "name": "stdout",
          "text": [
            "Epoch 1, Loss: 0.6956153619289398\n",
            "Epoch 2, Loss: 0.6959856454133987\n",
            "Epoch 3, Loss: 0.6958034926652908\n",
            "Epoch 4, Loss: 0.6953596341609954\n",
            "Epoch 5, Loss: 0.694644413471222\n",
            "CPU times: user 50min 36s, sys: 3min 20s, total: 53min 56s\n",
            "Wall time: 54min 28s\n"
          ]
        }
      ]
    },
    {
      "cell_type": "code",
      "source": [
        "from sklearn.metrics import accuracy_score, f1_score"
      ],
      "metadata": {
        "id": "GyxsMBRYWP9V"
      },
      "execution_count": 60,
      "outputs": []
    },
    {
      "cell_type": "code",
      "source": [
        "    # Evaluation\n",
        "    model.eval()\n",
        "    val_preds = []\n",
        "    val_labels = []\n",
        "    with torch.no_grad():\n",
        "        for text_inputs, images in test_loader:\n",
        "            text_inputs = {key: val.squeeze(1).to(device) for key, val in text_inputs.items()}\n",
        "            images = images.to(device)\n",
        "\n",
        "            outputs = model(text_inputs, images)\n",
        "            preds = torch.sigmoid(outputs).squeeze().cpu().numpy()\n",
        "            val_preds.extend(preds)\n",
        "\n",
        "            # Extract labels for current batch\n",
        "            batch_indices = range(len(text_inputs['input_ids']))\n",
        "            batch_labels = torch.tensor([labels[i] for i in batch_indices], dtype=torch.float).cpu().numpy()\n",
        "            val_labels.extend(batch_labels)\n",
        "\n",
        "    # Convert predictions to binary\n",
        "    val_preds = np.array(val_preds) > 0.5\n",
        "    val_labels = np.array(val_labels)\n",
        "\n",
        "    # Calculate accuracy and F1-score\n",
        "    accuracy = accuracy_score(val_labels, val_preds)\n",
        "    f1 = f1_score(val_labels, val_preds)\n",
        "\n",
        "    print(f'Epoch {epoch + 1} Validation Accuracy: {accuracy:.4f}, F1 Score: {f1:.4f}')"
      ],
      "metadata": {
        "colab": {
          "base_uri": "https://localhost:8080/"
        },
        "id": "2IMAXnDiQHer",
        "outputId": "ab2f8969-79ea-45ce-9eec-a5ecfa8ef879"
      },
      "execution_count": 62,
      "outputs": [
        {
          "output_type": "stream",
          "name": "stdout",
          "text": [
            "Epoch 5 Validation Accuracy: 0.4913, F1 Score: 0.5231\n"
          ]
        }
      ]
    },
    {
      "cell_type": "code",
      "source": [
        "# Prediction step\n",
        "def predict(texts, images, model, tokenizer, transform):\n",
        "    model.eval()\n",
        "    preds = []\n",
        "    with torch.no_grad():\n",
        "        for i in range(len(texts)):\n",
        "            text = texts[i]\n",
        "            image_file = images[i]\n",
        "\n",
        "            # Process text\n",
        "            inputs = tokenizer(text, return_tensors='pt', padding=True, truncation=True)\n",
        "            inputs = {key: val.squeeze(1).to(device) for key, val in inputs.items()}\n",
        "\n",
        "            # Process image\n",
        "            image = Image.open(image_file).convert('RGB')\n",
        "            image = transform(image).unsqueeze(0).to(device)\n",
        "\n",
        "            # Forward pass\n",
        "            output = model(inputs, image)\n",
        "            pred = torch.sigmoid(output).item()\n",
        "            preds.append(pred)\n",
        "\n",
        "    return preds\n",
        "\n",
        "# Example usage of the predict function\n",
        "texts_to_predict = [\"A young beautiful girl from the East. The natural hair color is dark, in this case with highlights. Lovely smile, beautiful dark eyes. Approximate age from twenty to twenty-seven years old. Presumably a student of the humanities faculty.\",\n",
        "                    \"A young man in a hood on Red Square, around 30 years old. Nice, kind, a little sad and tired. Most likely works as a programmer. A responsive person with an open heart. It's pleasant to talk to someone like that.\"]\n",
        "images_to_predict = [\"/content/First Impression Dataset/images/15708024981269913.jpg\", \"/content/First Impression Dataset/images/15708029957387770.jpg\"]\n",
        "\n",
        "predictions = predict(texts_to_predict, images_to_predict, model, tokenizer, transform)\n",
        "print(\"Predictions:\", predictions)"
      ],
      "metadata": {
        "colab": {
          "base_uri": "https://localhost:8080/"
        },
        "id": "YaOS3EQjkab7",
        "outputId": "407ad210-033c-4c6c-a116-c577c10fb346"
      },
      "execution_count": 64,
      "outputs": [
        {
          "output_type": "stream",
          "name": "stdout",
          "text": [
            "Predictions: [0.5134896636009216, 0.5128973126411438]\n"
          ]
        }
      ]
    }
  ]
}