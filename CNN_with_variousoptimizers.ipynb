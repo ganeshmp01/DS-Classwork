{
  "nbformat": 4,
  "nbformat_minor": 0,
  "metadata": {
    "colab": {
      "provenance": [],
      "gpuType": "T4",
      "authorship_tag": "ABX9TyOsVN865r5n5ZAmQOP+dgJA",
      "include_colab_link": true
    },
    "kernelspec": {
      "name": "python3",
      "display_name": "Python 3"
    },
    "language_info": {
      "name": "python"
    },
    "accelerator": "GPU"
  },
  "cells": [
    {
      "cell_type": "markdown",
      "metadata": {
        "id": "view-in-github",
        "colab_type": "text"
      },
      "source": [
        "<a href=\"https://colab.research.google.com/github/ganeshmp01/DS-Classwork/blob/main/CNN_with_variousoptimizers.ipynb\" target=\"_parent\"><img src=\"https://colab.research.google.com/assets/colab-badge.svg\" alt=\"Open In Colab\"/></a>"
      ]
    },
    {
      "cell_type": "code",
      "execution_count": null,
      "metadata": {
        "id": "KDCdOhCvCKxg"
      },
      "outputs": [],
      "source": [
        "import numpy as np\n",
        "import tensorflow as tf\n",
        "from tensorflow import keras\n",
        "from tensorflow.keras import datasets, layers, models\n",
        "import matplotlib.pyplot as plt\n"
      ]
    },
    {
      "cell_type": "code",
      "source": [
        "(X_train, y_train), (X_test,y_test) = datasets.cifar10.load_data()\n",
        "X_train.shape"
      ],
      "metadata": {
        "colab": {
          "base_uri": "https://localhost:8080/"
        },
        "id": "qOVq3dCMCiQf",
        "outputId": "9fc54ad7-2089-4121-b0ab-ba575dcbdc2d"
      },
      "execution_count": null,
      "outputs": [
        {
          "output_type": "stream",
          "name": "stdout",
          "text": [
            "Downloading data from https://www.cs.toronto.edu/~kriz/cifar-10-python.tar.gz\n",
            "170498071/170498071 [==============================] - 4s 0us/step\n"
          ]
        },
        {
          "output_type": "execute_result",
          "data": {
            "text/plain": [
              "(50000, 32, 32, 3)"
            ]
          },
          "metadata": {},
          "execution_count": 5
        }
      ]
    },
    {
      "cell_type": "code",
      "source": [
        "X_test.shape"
      ],
      "metadata": {
        "colab": {
          "base_uri": "https://localhost:8080/"
        },
        "id": "ppPJXFe4DGB4",
        "outputId": "d888a905-f49d-453c-acc0-ab76c7a3aaa2"
      },
      "execution_count": null,
      "outputs": [
        {
          "output_type": "execute_result",
          "data": {
            "text/plain": [
              "(10000, 32, 32, 3)"
            ]
          },
          "metadata": {},
          "execution_count": 6
        }
      ]
    },
    {
      "cell_type": "code",
      "source": [
        "y_train[:5]"
      ],
      "metadata": {
        "colab": {
          "base_uri": "https://localhost:8080/"
        },
        "id": "SBX6gYQKDF_a",
        "outputId": "3a197321-be41-4129-c023-465cf8544577"
      },
      "execution_count": null,
      "outputs": [
        {
          "output_type": "execute_result",
          "data": {
            "text/plain": [
              "array([[6],\n",
              "       [9],\n",
              "       [9],\n",
              "       [4],\n",
              "       [1]], dtype=uint8)"
            ]
          },
          "metadata": {},
          "execution_count": 7
        }
      ]
    },
    {
      "cell_type": "markdown",
      "source": [
        "y_train is a 2D array, for our classification having 1D array is good enough. so we will convert this to now 1D array"
      ],
      "metadata": {
        "id": "yd6WHbgWD9He"
      }
    },
    {
      "cell_type": "code",
      "source": [
        "y_train = y_train.reshape(-1,)\n",
        "y_train[:5]"
      ],
      "metadata": {
        "colab": {
          "base_uri": "https://localhost:8080/"
        },
        "id": "Jl2lkSrCDF85",
        "outputId": "776233bd-9bbf-4189-d2ab-01d5b41e8d49"
      },
      "execution_count": null,
      "outputs": [
        {
          "output_type": "execute_result",
          "data": {
            "text/plain": [
              "array([6, 9, 9, 4, 1], dtype=uint8)"
            ]
          },
          "metadata": {},
          "execution_count": 8
        }
      ]
    },
    {
      "cell_type": "code",
      "source": [
        "y_test = y_test.reshape(-1,)"
      ],
      "metadata": {
        "id": "UUbdgWIjDF4d"
      },
      "execution_count": null,
      "outputs": []
    },
    {
      "cell_type": "code",
      "source": [
        "y_test[:5]"
      ],
      "metadata": {
        "colab": {
          "base_uri": "https://localhost:8080/"
        },
        "id": "-L8fEnJ7DF2P",
        "outputId": "69086930-8dbb-4ff9-a44b-ac46d7c1b409"
      },
      "execution_count": null,
      "outputs": [
        {
          "output_type": "execute_result",
          "data": {
            "text/plain": [
              "array([3, 8, 8, 0, 6], dtype=uint8)"
            ]
          },
          "metadata": {},
          "execution_count": 10
        }
      ]
    },
    {
      "cell_type": "code",
      "source": [
        "classes = [\"airplane\",\"automobile\",\"bird\",\"cat\",\"deer\",\"dog\",\"frog\",\"horse\",\"ship\",\"truck\"]"
      ],
      "metadata": {
        "id": "MilfCLqsDFzv"
      },
      "execution_count": null,
      "outputs": []
    },
    {
      "cell_type": "code",
      "source": [
        "def showimg(X, y, index):\n",
        "    plt.figure(figsize = (15,2))\n",
        "    plt.imshow(X[index])\n",
        "    plt.xlabel(classes[y[index]])"
      ],
      "metadata": {
        "id": "70BJeJVADFvt"
      },
      "execution_count": null,
      "outputs": []
    },
    {
      "cell_type": "code",
      "source": [
        "showimg(X_train, y_train, 0)"
      ],
      "metadata": {
        "colab": {
          "base_uri": "https://localhost:8080/",
          "height": 237
        },
        "id": "ryW5bJN1DFlY",
        "outputId": "556307d6-e2c4-4194-d4e5-ed4c978ca978"
      },
      "execution_count": null,
      "outputs": [
        {
          "output_type": "display_data",
          "data": {
            "text/plain": [
              "<Figure size 1500x200 with 1 Axes>"
            ],
            "image/png": "[encoded data removed]"
          },
          "metadata": {}
        }
      ]
    },
    {
      "cell_type": "code",
      "source": [
        "showimg(X_train, y_train, 5)"
      ],
      "metadata": {
        "colab": {
          "base_uri": "https://localhost:8080/",
          "height": 237
        },
        "id": "iyBuivvhIW-A",
        "outputId": "727ec0a2-2830-476c-d2c6-842efffb3e84"
      },
      "execution_count": null,
      "outputs": [
        {
          "output_type": "display_data",
          "data": {
            "text/plain": [
              "<Figure size 1500x200 with 1 Axes>"
            ],
            "image/png": "[encoded data removed]"
          },
          "metadata": {}
        }
      ]
    },
    {
      "cell_type": "markdown",
      "source": [
        "Normalizing the training data"
      ],
      "metadata": {
        "id": "yWbVqpWEIvhT"
      }
    },
    {
      "cell_type": "markdown",
      "source": [
        "Normalize the images to a number from 0 to 1. Image has 3 channels (R,G,B) and each value in the channel can range from 0 to 255. Hence to normalize in 0-->1 range, we need to divide it by 255"
      ],
      "metadata": {
        "id": "b2KwjUHkI9J1"
      }
    },
    {
      "cell_type": "code",
      "source": [
        "X_train[0]"
      ],
      "metadata": {
        "colab": {
          "base_uri": "https://localhost:8080/"
        },
        "id": "iYTiHkibI-w2",
        "outputId": "aff0aa57-9889-40f3-c207-31aff548b6f0"
      },
      "execution_count": null,
      "outputs": [
        {
          "output_type": "execute_result",
          "data": {
            "text/plain": [
              "array([[[0.23137255, 0.24313725, 0.24705882],\n",
              "        [0.16862745, 0.18039216, 0.17647059],\n",
              "        [0.19607843, 0.18823529, 0.16862745],\n",
              "        ...,\n",
              "        [0.61960784, 0.51764706, 0.42352941],\n",
              "        [0.59607843, 0.49019608, 0.4       ],\n",
              "        [0.58039216, 0.48627451, 0.40392157]],\n",
              "\n",
              "       [[0.0627451 , 0.07843137, 0.07843137],\n",
              "        [0.        , 0.        , 0.        ],\n",
              "        [0.07058824, 0.03137255, 0.        ],\n",
              "        ...,\n",
              "        [0.48235294, 0.34509804, 0.21568627],\n",
              "        [0.46666667, 0.3254902 , 0.19607843],\n",
              "        [0.47843137, 0.34117647, 0.22352941]],\n",
              "\n",
              "       [[0.09803922, 0.09411765, 0.08235294],\n",
              "        [0.0627451 , 0.02745098, 0.        ],\n",
              "        [0.19215686, 0.10588235, 0.03137255],\n",
              "        ...,\n",
              "        [0.4627451 , 0.32941176, 0.19607843],\n",
              "        [0.47058824, 0.32941176, 0.19607843],\n",
              "        [0.42745098, 0.28627451, 0.16470588]],\n",
              "\n",
              "       ...,\n",
              "\n",
              "       [[0.81568627, 0.66666667, 0.37647059],\n",
              "        [0.78823529, 0.6       , 0.13333333],\n",
              "        [0.77647059, 0.63137255, 0.10196078],\n",
              "        ...,\n",
              "        [0.62745098, 0.52156863, 0.2745098 ],\n",
              "        [0.21960784, 0.12156863, 0.02745098],\n",
              "        [0.20784314, 0.13333333, 0.07843137]],\n",
              "\n",
              "       [[0.70588235, 0.54509804, 0.37647059],\n",
              "        [0.67843137, 0.48235294, 0.16470588],\n",
              "        [0.72941176, 0.56470588, 0.11764706],\n",
              "        ...,\n",
              "        [0.72156863, 0.58039216, 0.36862745],\n",
              "        [0.38039216, 0.24313725, 0.13333333],\n",
              "        [0.3254902 , 0.20784314, 0.13333333]],\n",
              "\n",
              "       [[0.69411765, 0.56470588, 0.45490196],\n",
              "        [0.65882353, 0.50588235, 0.36862745],\n",
              "        [0.70196078, 0.55686275, 0.34117647],\n",
              "        ...,\n",
              "        [0.84705882, 0.72156863, 0.54901961],\n",
              "        [0.59215686, 0.4627451 , 0.32941176],\n",
              "        [0.48235294, 0.36078431, 0.28235294]]])"
            ]
          },
          "metadata": {},
          "execution_count": 21
        }
      ]
    },
    {
      "cell_type": "code",
      "source": [
        "X_train = X_train / 255.0\n",
        "X_test = X_test / 255.0"
      ],
      "metadata": {
        "id": "ppMldd7rI_53"
      },
      "execution_count": null,
      "outputs": []
    },
    {
      "cell_type": "code",
      "source": [
        "X_train[0]"
      ],
      "metadata": {
        "colab": {
          "base_uri": "https://localhost:8080/"
        },
        "id": "EPYHnny8I_3i",
        "outputId": "bed32d18-6cb3-48ad-b45c-1df3bd5a300e"
      },
      "execution_count": null,
      "outputs": [
        {
          "output_type": "execute_result",
          "data": {
            "text/plain": [
              "array([[[0.23137255, 0.24313725, 0.24705882],\n",
              "        [0.16862745, 0.18039216, 0.17647059],\n",
              "        [0.19607843, 0.18823529, 0.16862745],\n",
              "        ...,\n",
              "        [0.61960784, 0.51764706, 0.42352941],\n",
              "        [0.59607843, 0.49019608, 0.4       ],\n",
              "        [0.58039216, 0.48627451, 0.40392157]],\n",
              "\n",
              "       [[0.0627451 , 0.07843137, 0.07843137],\n",
              "        [0.        , 0.        , 0.        ],\n",
              "        [0.07058824, 0.03137255, 0.        ],\n",
              "        ...,\n",
              "        [0.48235294, 0.34509804, 0.21568627],\n",
              "        [0.46666667, 0.3254902 , 0.19607843],\n",
              "        [0.47843137, 0.34117647, 0.22352941]],\n",
              "\n",
              "       [[0.09803922, 0.09411765, 0.08235294],\n",
              "        [0.0627451 , 0.02745098, 0.        ],\n",
              "        [0.19215686, 0.10588235, 0.03137255],\n",
              "        ...,\n",
              "        [0.4627451 , 0.32941176, 0.19607843],\n",
              "        [0.47058824, 0.32941176, 0.19607843],\n",
              "        [0.42745098, 0.28627451, 0.16470588]],\n",
              "\n",
              "       ...,\n",
              "\n",
              "       [[0.81568627, 0.66666667, 0.37647059],\n",
              "        [0.78823529, 0.6       , 0.13333333],\n",
              "        [0.77647059, 0.63137255, 0.10196078],\n",
              "        ...,\n",
              "        [0.62745098, 0.52156863, 0.2745098 ],\n",
              "        [0.21960784, 0.12156863, 0.02745098],\n",
              "        [0.20784314, 0.13333333, 0.07843137]],\n",
              "\n",
              "       [[0.70588235, 0.54509804, 0.37647059],\n",
              "        [0.67843137, 0.48235294, 0.16470588],\n",
              "        [0.72941176, 0.56470588, 0.11764706],\n",
              "        ...,\n",
              "        [0.72156863, 0.58039216, 0.36862745],\n",
              "        [0.38039216, 0.24313725, 0.13333333],\n",
              "        [0.3254902 , 0.20784314, 0.13333333]],\n",
              "\n",
              "       [[0.69411765, 0.56470588, 0.45490196],\n",
              "        [0.65882353, 0.50588235, 0.36862745],\n",
              "        [0.70196078, 0.55686275, 0.34117647],\n",
              "        ...,\n",
              "        [0.84705882, 0.72156863, 0.54901961],\n",
              "        [0.59215686, 0.4627451 , 0.32941176],\n",
              "        [0.48235294, 0.36078431, 0.28235294]]])"
            ]
          },
          "metadata": {},
          "execution_count": 17
        }
      ]
    },
    {
      "cell_type": "markdown",
      "source": [
        "Now let us build a convolutional neural network to train our images"
      ],
      "metadata": {
        "id": "LBAv8XyyKtei"
      }
    },
    {
      "cell_type": "code",
      "source": [
        "from keras.models import Sequential\n",
        "from keras.layers import Dense, Flatten\n",
        "from keras.layers import Conv2D, MaxPooling2D"
      ],
      "metadata": {
        "id": "XDv94S6NO9c0"
      },
      "execution_count": null,
      "outputs": []
    },
    {
      "cell_type": "code",
      "source": [
        "batch_size=100\n",
        "num_classes=10\n",
        "epochs=15\n",
        "\n",
        "def build_model(optimizer):\n",
        "\n",
        " model=Sequential()\n",
        "\n",
        " model.add(Conv2D(32,kernel_size=(3,3),activation='relu',input_shape=(32, 32, 3)))\n",
        " model.add(MaxPooling2D(pool_size=(2,2)))\n",
        "\n",
        "\n",
        " model.add(Conv2D(64,kernel_size=(3,3),activation='relu'))\n",
        " model.add(MaxPooling2D(pool_size=(2,2)))\n",
        "\n",
        " model.add(Flatten())\n",
        "\n",
        " model.add(Dense(64, activation='relu'))\n",
        " model.add(Dense(num_classes, activation='softmax'))\n",
        "\n",
        " model.compile(loss=keras.losses.sparse_categorical_crossentropy, optimizer= optimizer, metrics=['accuracy'])\n",
        " return model"
      ],
      "metadata": {
        "id": "q6qS5dw9I_1G"
      },
      "execution_count": null,
      "outputs": []
    },
    {
      "cell_type": "code",
      "source": [
        "model.summary()"
      ],
      "metadata": {
        "colab": {
          "base_uri": "https://localhost:8080/"
        },
        "id": "XztM5uePeVpW",
        "outputId": "3e6799f4-232e-42f1-eabc-2e138e96c169"
      },
      "execution_count": null,
      "outputs": [
        {
          "output_type": "stream",
          "name": "stdout",
          "text": [
            "Model: \"sequential_11\"\n",
            "_________________________________________________________________\n",
            " Layer (type)                Output Shape              Param #   \n",
            "=================================================================\n",
            " conv2d_22 (Conv2D)          (None, 30, 30, 32)        896       \n",
            "                                                                 \n",
            " max_pooling2d_22 (MaxPooli  (None, 15, 15, 32)        0         \n",
            " ng2D)                                                           \n",
            "                                                                 \n",
            " conv2d_23 (Conv2D)          (None, 13, 13, 64)        18496     \n",
            "                                                                 \n",
            " max_pooling2d_23 (MaxPooli  (None, 6, 6, 64)          0         \n",
            " ng2D)                                                           \n",
            "                                                                 \n",
            " flatten_11 (Flatten)        (None, 2304)              0         \n",
            "                                                                 \n",
            " dense_22 (Dense)            (None, 64)                147520    \n",
            "                                                                 \n",
            " dense_23 (Dense)            (None, 10)                650       \n",
            "                                                                 \n",
            "=================================================================\n",
            "Total params: 167562 (654.54 KB)\n",
            "Trainable params: 167562 (654.54 KB)\n",
            "Non-trainable params: 0 (0.00 Byte)\n",
            "_________________________________________________________________\n"
          ]
        }
      ]
    },
    {
      "cell_type": "markdown",
      "source": [
        "Train the model"
      ],
      "metadata": {
        "id": "io6WI3vzNJNC"
      }
    },
    {
      "cell_type": "code",
      "source": [
        "optimizers = ['SGD', 'Adagrad','RMSprop','Adam']\n",
        "\n",
        "for i in optimizers:\n",
        " print(\"Optimizer used :\",i)\n",
        "\n",
        " model = build_model(i)\n",
        " cnn_new=model.fit(X_train, y_train, batch_size=batch_size, epochs=epochs, verbose=1, validation_data=(X_test,y_test))"
      ],
      "metadata": {
        "colab": {
          "base_uri": "https://localhost:8080/"
        },
        "id": "2P5hmI3bI_wb",
        "outputId": "03461623-2233-407d-df95-8361e0f527f8"
      },
      "execution_count": null,
      "outputs": [
        {
          "output_type": "stream",
          "name": "stdout",
          "text": [
            "Optimizer used : SGD\n",
            "Epoch 1/15\n",
            "500/500 [==============================] - 4s 6ms/step - loss: 2.2086 - accuracy: 0.1957 - val_loss: 2.0332 - val_accuracy: 0.2643\n",
            "Epoch 2/15\n",
            "500/500 [==============================] - 2s 4ms/step - loss: 1.9574 - accuracy: 0.2969 - val_loss: 1.8797 - val_accuracy: 0.3308\n",
            "Epoch 3/15\n",
            "500/500 [==============================] - 2s 4ms/step - loss: 1.8083 - accuracy: 0.3598 - val_loss: 1.7623 - val_accuracy: 0.3849\n",
            "Epoch 4/15\n",
            "500/500 [==============================] - 2s 4ms/step - loss: 1.6623 - accuracy: 0.4102 - val_loss: 1.5683 - val_accuracy: 0.4370\n",
            "Epoch 5/15\n",
            "500/500 [==============================] - 2s 4ms/step - loss: 1.5566 - accuracy: 0.4463 - val_loss: 1.5277 - val_accuracy: 0.4589\n",
            "Epoch 6/15\n",
            "500/500 [==============================] - 2s 5ms/step - loss: 1.4930 - accuracy: 0.4682 - val_loss: 1.4855 - val_accuracy: 0.4722\n",
            "Epoch 7/15\n",
            "500/500 [==============================] - 2s 5ms/step - loss: 1.4439 - accuracy: 0.4862 - val_loss: 1.4076 - val_accuracy: 0.5006\n",
            "Epoch 8/15\n",
            "500/500 [==============================] - 2s 4ms/step - loss: 1.4026 - accuracy: 0.5031 - val_loss: 1.4173 - val_accuracy: 0.5050\n",
            "Epoch 9/15\n",
            "500/500 [==============================] - 2s 4ms/step - loss: 1.3729 - accuracy: 0.5126 - val_loss: 1.3562 - val_accuracy: 0.5177\n",
            "Epoch 10/15\n",
            "500/500 [==============================] - 2s 4ms/step - loss: 1.3358 - accuracy: 0.5290 - val_loss: 1.3282 - val_accuracy: 0.5265\n",
            "Epoch 11/15\n",
            "500/500 [==============================] - 2s 4ms/step - loss: 1.3106 - accuracy: 0.5386 - val_loss: 1.3029 - val_accuracy: 0.5383\n",
            "Epoch 12/15\n",
            "500/500 [==============================] - 3s 5ms/step - loss: 1.2777 - accuracy: 0.5493 - val_loss: 1.2712 - val_accuracy: 0.5564\n",
            "Epoch 13/15\n",
            "500/500 [==============================] - 2s 4ms/step - loss: 1.2516 - accuracy: 0.5609 - val_loss: 1.2531 - val_accuracy: 0.5584\n",
            "Epoch 14/15\n",
            "500/500 [==============================] - 2s 4ms/step - loss: 1.2268 - accuracy: 0.5684 - val_loss: 1.2520 - val_accuracy: 0.5560\n",
            "Epoch 15/15\n",
            "500/500 [==============================] - 2s 4ms/step - loss: 1.2015 - accuracy: 0.5790 - val_loss: 1.2125 - val_accuracy: 0.5765\n",
            "Optimizer used : Adagrad\n",
            "Epoch 1/15\n",
            "500/500 [==============================] - 4s 7ms/step - loss: 2.2799 - accuracy: 0.1465 - val_loss: 2.2561 - val_accuracy: 0.1609\n",
            "Epoch 2/15\n",
            "500/500 [==============================] - 2s 5ms/step - loss: 2.2194 - accuracy: 0.1967 - val_loss: 2.1809 - val_accuracy: 0.2229\n",
            "Epoch 3/15\n",
            "500/500 [==============================] - 2s 5ms/step - loss: 2.1379 - accuracy: 0.2336 - val_loss: 2.0978 - val_accuracy: 0.2646\n",
            "Epoch 4/15\n",
            "500/500 [==============================] - 2s 4ms/step - loss: 2.0592 - accuracy: 0.2680 - val_loss: 2.0280 - val_accuracy: 0.2789\n",
            "Epoch 5/15\n",
            "500/500 [==============================] - 2s 4ms/step - loss: 2.0005 - accuracy: 0.2906 - val_loss: 1.9780 - val_accuracy: 0.3063\n",
            "Epoch 6/15\n",
            "500/500 [==============================] - 3s 5ms/step - loss: 1.9598 - accuracy: 0.3057 - val_loss: 1.9434 - val_accuracy: 0.3193\n",
            "Epoch 7/15\n",
            "500/500 [==============================] - 2s 4ms/step - loss: 1.9269 - accuracy: 0.3197 - val_loss: 1.9127 - val_accuracy: 0.3270\n",
            "Epoch 8/15\n",
            "500/500 [==============================] - 2s 4ms/step - loss: 1.8967 - accuracy: 0.3305 - val_loss: 1.8812 - val_accuracy: 0.3369\n",
            "Epoch 9/15\n",
            "500/500 [==============================] - 2s 4ms/step - loss: 1.8663 - accuracy: 0.3416 - val_loss: 1.8511 - val_accuracy: 0.3483\n",
            "Epoch 10/15\n",
            "500/500 [==============================] - 3s 5ms/step - loss: 1.8358 - accuracy: 0.3538 - val_loss: 1.8212 - val_accuracy: 0.3598\n",
            "Epoch 11/15\n",
            "500/500 [==============================] - 3s 5ms/step - loss: 1.8061 - accuracy: 0.3664 - val_loss: 1.7914 - val_accuracy: 0.3722\n",
            "Epoch 12/15\n",
            "500/500 [==============================] - 2s 4ms/step - loss: 1.7766 - accuracy: 0.3767 - val_loss: 1.7618 - val_accuracy: 0.3810\n",
            "Epoch 13/15\n",
            "500/500 [==============================] - 2s 4ms/step - loss: 1.7498 - accuracy: 0.3863 - val_loss: 1.7353 - val_accuracy: 0.3877\n",
            "Epoch 14/15\n",
            "500/500 [==============================] - 2s 4ms/step - loss: 1.7258 - accuracy: 0.3942 - val_loss: 1.7139 - val_accuracy: 0.3996\n",
            "Epoch 15/15\n",
            "500/500 [==============================] - 2s 4ms/step - loss: 1.7037 - accuracy: 0.4002 - val_loss: 1.6952 - val_accuracy: 0.4034\n",
            "Optimizer used : RMSprop\n",
            "Epoch 1/15\n",
            "500/500 [==============================] - 3s 5ms/step - loss: 1.6953 - accuracy: 0.3891 - val_loss: 1.3750 - val_accuracy: 0.5183\n",
            "Epoch 2/15\n",
            "500/500 [==============================] - 2s 4ms/step - loss: 1.3157 - accuracy: 0.5380 - val_loss: 1.2094 - val_accuracy: 0.5788\n",
            "Epoch 3/15\n",
            "500/500 [==============================] - 3s 5ms/step - loss: 1.1311 - accuracy: 0.6066 - val_loss: 1.0580 - val_accuracy: 0.6351\n",
            "Epoch 4/15\n",
            "500/500 [==============================] - 2s 4ms/step - loss: 1.0163 - accuracy: 0.6469 - val_loss: 1.0166 - val_accuracy: 0.6462\n",
            "Epoch 5/15\n",
            "500/500 [==============================] - 2s 4ms/step - loss: 0.9331 - accuracy: 0.6775 - val_loss: 0.9902 - val_accuracy: 0.6549\n",
            "Epoch 6/15\n",
            "500/500 [==============================] - 2s 4ms/step - loss: 0.8644 - accuracy: 0.7011 - val_loss: 0.9371 - val_accuracy: 0.6804\n",
            "Epoch 7/15\n",
            "500/500 [==============================] - 2s 4ms/step - loss: 0.8057 - accuracy: 0.7204 - val_loss: 1.0125 - val_accuracy: 0.6597\n",
            "Epoch 8/15\n",
            "500/500 [==============================] - 3s 5ms/step - loss: 0.7518 - accuracy: 0.7406 - val_loss: 0.9673 - val_accuracy: 0.6805\n",
            "Epoch 9/15\n",
            "500/500 [==============================] - 2s 5ms/step - loss: 0.7015 - accuracy: 0.7583 - val_loss: 0.9291 - val_accuracy: 0.6887\n",
            "Epoch 10/15\n",
            "500/500 [==============================] - 2s 4ms/step - loss: 0.6556 - accuracy: 0.7730 - val_loss: 0.8921 - val_accuracy: 0.7057\n",
            "Epoch 11/15\n",
            "500/500 [==============================] - 2s 4ms/step - loss: 0.6134 - accuracy: 0.7872 - val_loss: 0.9403 - val_accuracy: 0.7010\n",
            "Epoch 12/15\n",
            "500/500 [==============================] - 2s 4ms/step - loss: 0.5733 - accuracy: 0.8012 - val_loss: 0.9620 - val_accuracy: 0.6919\n",
            "Epoch 13/15\n",
            "500/500 [==============================] - 2s 4ms/step - loss: 0.5284 - accuracy: 0.8173 - val_loss: 1.0088 - val_accuracy: 0.6886\n",
            "Epoch 14/15\n",
            "500/500 [==============================] - 3s 5ms/step - loss: 0.4895 - accuracy: 0.8310 - val_loss: 1.0387 - val_accuracy: 0.6881\n",
            "Epoch 15/15\n",
            "500/500 [==============================] - 2s 4ms/step - loss: 0.4501 - accuracy: 0.8433 - val_loss: 1.0370 - val_accuracy: 0.6957\n",
            "Optimizer used : Adam\n",
            "Epoch 1/15\n",
            "500/500 [==============================] - 4s 6ms/step - loss: 1.5974 - accuracy: 0.4252 - val_loss: 1.3203 - val_accuracy: 0.5333\n",
            "Epoch 2/15\n",
            "500/500 [==============================] - 2s 5ms/step - loss: 1.2441 - accuracy: 0.5641 - val_loss: 1.1945 - val_accuracy: 0.5768\n",
            "Epoch 3/15\n",
            "500/500 [==============================] - 2s 5ms/step - loss: 1.1072 - accuracy: 0.6124 - val_loss: 1.0761 - val_accuracy: 0.6277\n",
            "Epoch 4/15\n",
            "500/500 [==============================] - 2s 4ms/step - loss: 1.0175 - accuracy: 0.6447 - val_loss: 1.0127 - val_accuracy: 0.6528\n",
            "Epoch 5/15\n",
            "500/500 [==============================] - 2s 5ms/step - loss: 0.9510 - accuracy: 0.6693 - val_loss: 1.0057 - val_accuracy: 0.6519\n",
            "Epoch 6/15\n",
            "500/500 [==============================] - 2s 4ms/step - loss: 0.8981 - accuracy: 0.6884 - val_loss: 0.9671 - val_accuracy: 0.6668\n",
            "Epoch 7/15\n",
            "500/500 [==============================] - 2s 4ms/step - loss: 0.8502 - accuracy: 0.7052 - val_loss: 0.9443 - val_accuracy: 0.6759\n",
            "Epoch 8/15\n",
            "500/500 [==============================] - 3s 6ms/step - loss: 0.8171 - accuracy: 0.7159 - val_loss: 0.9292 - val_accuracy: 0.6847\n",
            "Epoch 9/15\n",
            "500/500 [==============================] - 2s 4ms/step - loss: 0.7787 - accuracy: 0.7315 - val_loss: 0.9337 - val_accuracy: 0.6822\n",
            "Epoch 10/15\n",
            "500/500 [==============================] - 2s 4ms/step - loss: 0.7431 - accuracy: 0.7418 - val_loss: 0.8957 - val_accuracy: 0.6939\n",
            "Epoch 11/15\n",
            "500/500 [==============================] - 2s 4ms/step - loss: 0.7095 - accuracy: 0.7535 - val_loss: 0.8964 - val_accuracy: 0.6962\n",
            "Epoch 12/15\n",
            "500/500 [==============================] - 2s 4ms/step - loss: 0.6823 - accuracy: 0.7632 - val_loss: 0.9229 - val_accuracy: 0.6925\n",
            "Epoch 13/15\n",
            "500/500 [==============================] - 2s 5ms/step - loss: 0.6544 - accuracy: 0.7733 - val_loss: 0.9486 - val_accuracy: 0.6889\n",
            "Epoch 14/15\n",
            "500/500 [==============================] - 2s 5ms/step - loss: 0.6276 - accuracy: 0.7822 - val_loss: 0.9234 - val_accuracy: 0.6892\n",
            "Epoch 15/15\n",
            "500/500 [==============================] - 2s 4ms/step - loss: 0.6065 - accuracy: 0.7885 - val_loss: 0.9546 - val_accuracy: 0.6854\n"
          ]
        }
      ]
    },
    {
      "cell_type": "code",
      "source": [
        "optimizers = ['SGD', 'Adagrad','RMSprop','Adam']\n",
        "\n",
        "for i in optimizers:\n",
        " print(\"Optimizer used :\",i)\n",
        "\n",
        " model = build_model(i)\n",
        " cnn_new=model.fit(X_train, y_train, batch_size=batch_size, epochs=epochs, verbose=1, validation_data=(X_test,y_test))"
      ],
      "metadata": {
        "id": "W19orwe-t2Uh"
      },
      "execution_count": null,
      "outputs": []
    },
    {
      "cell_type": "code",
      "source": [
        "from prettytable import PrettyTable"
      ],
      "metadata": {
        "id": "mugyGOivmR0v"
      },
      "execution_count": null,
      "outputs": []
    },
    {
      "cell_type": "code",
      "source": [
        "myTable = PrettyTable([\"Optimizer\", \"loss\", \"accuracy\", \"val_loss\", \"val_accuracy\" ,\"Total_Time_Taken(secs)\"])\n",
        "\n",
        "myTable.add_row([\"SGD\", \"1.2015\", \"0.5790\", \"1.2125\",\"0.5765\",\"33\"])\n",
        "myTable.add_row([\"Adagrad\", \"1.7037\", \"0.4002\", \"1.6952\",\"0.4034\",\"38\"])\n",
        "myTable.add_row([\"RMSprop\", \"0.4501\", \"0.8433\", \"1.0370\",\"0.6957\",\"34\"])\n",
        "myTable.add_row([\"Adam\", \"0.6065\", \"0.7885\", \"0.9546\",\"0.6854\",\"33\"])\n",
        "\n",
        "\n",
        "print(myTable)"
      ],
      "metadata": {
        "colab": {
          "base_uri": "https://localhost:8080/"
        },
        "id": "VJYNjYrgmX75",
        "outputId": "0891c27e-3e32-48bd-9440-d36f81a368ea"
      },
      "execution_count": null,
      "outputs": [
        {
          "output_type": "stream",
          "name": "stdout",
          "text": [
            "+-----------+--------+----------+----------+--------------+------------------------+\n",
            "| Optimizer |  loss  | accuracy | val_loss | val_accuracy | Total_Time_Taken(secs) |\n",
            "+-----------+--------+----------+----------+--------------+------------------------+\n",
            "|    SGD    | 1.2015 |  0.5790  |  1.2125  |    0.5765    |           33           |\n",
            "|  Adagrad  | 1.7037 |  0.4002  |  1.6952  |    0.4034    |           38           |\n",
            "|  RMSprop  | 0.4501 |  0.8433  |  1.0370  |    0.6957    |           34           |\n",
            "|    Adam   | 0.6065 |  0.7885  |  0.9546  |    0.6854    |           33           |\n",
            "+-----------+--------+----------+----------+--------------+------------------------+\n"
          ]
        }
      ]
    },
    {
      "cell_type": "code",
      "source": [
        "cnn_new.history"
      ],
      "metadata": {
        "colab": {
          "base_uri": "https://localhost:8080/"
        },
        "id": "I_Xb2taLI_rc",
        "outputId": "f456dc63-fcae-4e95-fb57-2029b454093c"
      },
      "execution_count": null,
      "outputs": [
        {
          "output_type": "execute_result",
          "data": {
            "text/plain": [
              "{'loss': [1.597356915473938,\n",
              "  1.2440987825393677,\n",
              "  1.1071903705596924,\n",
              "  1.0175409317016602,\n",
              "  0.9509508013725281,\n",
              "  0.8981115818023682,\n",
              "  0.850185215473175,\n",
              "  0.8170983791351318,\n",
              "  0.7786610722541809,\n",
              "  0.7430928945541382,\n",
              "  0.709502100944519,\n",
              "  0.6822929978370667,\n",
              "  0.6543972492218018,\n",
              "  0.627595067024231,\n",
              "  0.6064527034759521],\n",
              " 'accuracy': [0.4252200126647949,\n",
              "  0.5641199946403503,\n",
              "  0.6124200224876404,\n",
              "  0.6447200179100037,\n",
              "  0.6693199872970581,\n",
              "  0.6883999705314636,\n",
              "  0.7051799893379211,\n",
              "  0.715939998626709,\n",
              "  0.7314599752426147,\n",
              "  0.7417600154876709,\n",
              "  0.7534999847412109,\n",
              "  0.7631999850273132,\n",
              "  0.7732800245285034,\n",
              "  0.7821599841117859,\n",
              "  0.7885400056838989],\n",
              " 'val_loss': [1.320345401763916,\n",
              "  1.1945297718048096,\n",
              "  1.0761358737945557,\n",
              "  1.0126633644104004,\n",
              "  1.0057213306427002,\n",
              "  0.9670781493186951,\n",
              "  0.9443262815475464,\n",
              "  0.929196298122406,\n",
              "  0.9337343573570251,\n",
              "  0.8957066535949707,\n",
              "  0.8963572978973389,\n",
              "  0.9229019284248352,\n",
              "  0.9486469626426697,\n",
              "  0.9233959913253784,\n",
              "  0.9546187520027161],\n",
              " 'val_accuracy': [0.53329998254776,\n",
              "  0.5767999887466431,\n",
              "  0.6276999711990356,\n",
              "  0.6528000235557556,\n",
              "  0.6518999934196472,\n",
              "  0.6668000221252441,\n",
              "  0.6758999824523926,\n",
              "  0.6847000122070312,\n",
              "  0.682200014591217,\n",
              "  0.6938999891281128,\n",
              "  0.6962000131607056,\n",
              "  0.6924999952316284,\n",
              "  0.6888999938964844,\n",
              "  0.6891999840736389,\n",
              "  0.6854000091552734]}"
            ]
          },
          "metadata": {},
          "execution_count": 48
        }
      ]
    },
    {
      "cell_type": "code",
      "source": [
        "plt.plot(cnn_new.history['accuracy'])\n",
        "plt.plot(cnn_new.history['val_accuracy'])\n",
        "plt.title('model accuracy')\n",
        "plt.ylabel('accuracy')\n",
        "plt.xlabel('epoch')\n",
        "plt.legend(['train', 'test'], loc='upper left')\n",
        "plt.show()"
      ],
      "metadata": {
        "colab": {
          "base_uri": "https://localhost:8080/",
          "height": 472
        },
        "id": "ebUpij0Un-vK",
        "outputId": "6e289a01-6307-4d3c-b2d3-f8128eeb70d7"
      },
      "execution_count": null,
      "outputs": [
        {
          "output_type": "display_data",
          "data": {
            "text/plain": [
              "<Figure size 640x480 with 1 Axes>"
            ],
            "image/png": "[encoded data removed]"
          },
          "metadata": {}
        }
      ]
    },
    {
      "cell_type": "code",
      "source": [
        "model.evaluate(X_train, y_train)"
      ],
      "metadata": {
        "colab": {
          "base_uri": "https://localhost:8080/"
        },
        "id": "HDqoQ8IyedwA",
        "outputId": "d78680ce-db24-4596-e51c-8895e537d5fb"
      },
      "execution_count": null,
      "outputs": [
        {
          "output_type": "stream",
          "name": "stdout",
          "text": [
            "1563/1563 [==============================] - 5s 3ms/step - loss: 0.5740 - accuracy: 0.7971\n"
          ]
        },
        {
          "output_type": "execute_result",
          "data": {
            "text/plain": [
              "[0.5740213394165039, 0.7971000075340271]"
            ]
          },
          "metadata": {},
          "execution_count": 31
        }
      ]
    },
    {
      "cell_type": "code",
      "source": [
        "model.evaluate(X_test, y_test)"
      ],
      "metadata": {
        "colab": {
          "base_uri": "https://localhost:8080/"
        },
        "id": "2dYioT5Bel-L",
        "outputId": "e952ae03-1d74-4d59-b7ee-ae1efc813fe5"
      },
      "execution_count": null,
      "outputs": [
        {
          "output_type": "stream",
          "name": "stdout",
          "text": [
            "313/313 [==============================] - 1s 4ms/step - loss: 0.9546 - accuracy: 0.6854\n"
          ]
        },
        {
          "output_type": "execute_result",
          "data": {
            "text/plain": [
              "[0.9546188712120056, 0.6854000091552734]"
            ]
          },
          "metadata": {},
          "execution_count": 32
        }
      ]
    },
    {
      "cell_type": "code",
      "source": [
        "y_pred = model.predict(X_test)\n",
        "y_pred[:5]"
      ],
      "metadata": {
        "colab": {
          "base_uri": "https://localhost:8080/"
        },
        "id": "7pEgWWw6e2yP",
        "outputId": "3e31ff8b-86c3-480e-84ea-2974b3e3cd47"
      },
      "execution_count": null,
      "outputs": [
        {
          "output_type": "stream",
          "name": "stdout",
          "text": [
            "313/313 [==============================] - 1s 2ms/step\n"
          ]
        },
        {
          "output_type": "execute_result",
          "data": {
            "text/plain": [
              "array([[3.1264641e-04, 6.6122395e-04, 6.4296223e-04, 9.6196741e-01,\n",
              "        1.2388718e-03, 9.8381238e-03, 7.0310938e-03, 6.6791436e-05,\n",
              "        1.6888721e-02, 1.3520825e-03],\n",
              "       [1.1400959e-03, 6.1717931e-02, 3.7214016e-07, 3.3149217e-07,\n",
              "        3.7798806e-08, 7.7117024e-09, 1.0724680e-09, 2.9510259e-08,\n",
              "        9.3670046e-01, 4.4078488e-04],\n",
              "       [1.6263260e-01, 1.5190020e-01, 8.6440734e-04, 1.1976064e-02,\n",
              "        1.4907891e-04, 1.0590631e-03, 4.0815774e-04, 2.9173624e-03,\n",
              "        3.0690879e-01, 3.6118430e-01],\n",
              "       [9.7779822e-01, 1.4846105e-03, 4.6998560e-03, 3.5097706e-04,\n",
              "        1.0385950e-02, 2.1827977e-06, 6.7840891e-05, 2.2858439e-05,\n",
              "        4.9088863e-03, 2.7866167e-04],\n",
              "       [1.0285630e-06, 1.5348720e-05, 2.8857619e-03, 7.0800162e-03,\n",
              "        4.1999489e-01, 7.3361127e-03, 5.6261420e-01, 8.3647819e-07,\n",
              "        7.0052323e-05, 1.7546575e-06]], dtype=float32)"
            ]
          },
          "metadata": {},
          "execution_count": 34
        }
      ]
    },
    {
      "cell_type": "code",
      "source": [
        "y_classes = [np.argmax(element) for element in y_pred]\n",
        "y_classes[:5]"
      ],
      "metadata": {
        "colab": {
          "base_uri": "https://localhost:8080/"
        },
        "id": "MNHxD5bMfg7u",
        "outputId": "485d490c-0025-4e86-95b2-4bc842f13066"
      },
      "execution_count": null,
      "outputs": [
        {
          "output_type": "execute_result",
          "data": {
            "text/plain": [
              "[3, 8, 9, 0, 6]"
            ]
          },
          "metadata": {},
          "execution_count": 37
        }
      ]
    },
    {
      "cell_type": "code",
      "source": [
        "y_test[:5]"
      ],
      "metadata": {
        "colab": {
          "base_uri": "https://localhost:8080/"
        },
        "id": "TXU48pmIfoT-",
        "outputId": "508da5d4-062b-4c9f-da57-1d6d88302489"
      },
      "execution_count": null,
      "outputs": [
        {
          "output_type": "execute_result",
          "data": {
            "text/plain": [
              "array([3, 8, 8, 0, 6], dtype=uint8)"
            ]
          },
          "metadata": {},
          "execution_count": 38
        }
      ]
    },
    {
      "cell_type": "code",
      "source": [
        "showimg(X_test, y_test,3)"
      ],
      "metadata": {
        "colab": {
          "base_uri": "https://localhost:8080/",
          "height": 237
        },
        "id": "b4Hu73lVfIFK",
        "outputId": "669c25fa-3076-450c-ea77-f27519a822a2"
      },
      "execution_count": null,
      "outputs": [
        {
          "output_type": "display_data",
          "data": {
            "text/plain": [
              "<Figure size 1500x200 with 1 Axes>"
            ],
            "image/png": "[encoded data removed]"
          },
          "metadata": {}
        }
      ]
    },
    {
      "cell_type": "code",
      "source": [
        "classes[y_classes[3]]"
      ],
      "metadata": {
        "colab": {
          "base_uri": "https://localhost:8080/",
          "height": 35
        },
        "id": "Qqo_8vs5fTh4",
        "outputId": "c787d04f-e555-449c-ded5-4aa90214c174"
      },
      "execution_count": null,
      "outputs": [
        {
          "output_type": "execute_result",
          "data": {
            "text/plain": [
              "'airplane'"
            ],
            "application/vnd.google.colaboratory.intrinsic+json": {
              "type": "string"
            }
          },
          "metadata": {},
          "execution_count": 40
        }
      ]
    },
    {
      "cell_type": "code",
      "source": [
        "from sklearn.metrics import confusion_matrix , classification_report\n",
        "import numpy as np\n",
        "y_pred = model.predict(X_test)\n",
        "y_pred_classes = [np.argmax(element) for element in y_pred]\n",
        "\n",
        "print(\"Classification Report: \\n\", classification_report(y_test, y_pred_classes))"
      ],
      "metadata": {
        "colab": {
          "base_uri": "https://localhost:8080/"
        },
        "id": "QCawZJuPlT7U",
        "outputId": "e1c49a11-0a2b-4236-83d6-9e644bc666d8"
      },
      "execution_count": null,
      "outputs": [
        {
          "output_type": "stream",
          "name": "stdout",
          "text": [
            "313/313 [==============================] - 1s 2ms/step\n",
            "Classification Report: \n",
            "               precision    recall  f1-score   support\n",
            "\n",
            "           0       0.73      0.72      0.72      1000\n",
            "           1       0.86      0.74      0.80      1000\n",
            "           2       0.63      0.55      0.59      1000\n",
            "           3       0.58      0.34      0.43      1000\n",
            "           4       0.63      0.59      0.61      1000\n",
            "           5       0.53      0.72      0.61      1000\n",
            "           6       0.80      0.75      0.77      1000\n",
            "           7       0.68      0.78      0.73      1000\n",
            "           8       0.80      0.79      0.80      1000\n",
            "           9       0.66      0.87      0.75      1000\n",
            "\n",
            "    accuracy                           0.69     10000\n",
            "   macro avg       0.69      0.69      0.68     10000\n",
            "weighted avg       0.69      0.69      0.68     10000\n",
            "\n"
          ]
        }
      ]
    },
    {
      "cell_type": "code",
      "source": [],
      "metadata": {
        "id": "HmYR56UZrYoX"
      },
      "execution_count": null,
      "outputs": []
    }
  ]
}