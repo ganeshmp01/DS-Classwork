{
  "nbformat": 4,
  "nbformat_minor": 0,
  "metadata": {
    "colab": {
      "provenance": [],
      "authorship_tag": "ABX9TyOpZvCbKo6VkrTC02rF992y",
      "include_colab_link": true
    },
    "kernelspec": {
      "name": "python3",
      "display_name": "Python 3"
    },
    "language_info": {
      "name": "python"
    }
  },
  "cells": [
    {
      "cell_type": "markdown",
      "metadata": {
        "id": "view-in-github",
        "colab_type": "text"
      },
      "source": [
        "<a href=\"https://colab.research.google.com/github/ganeshmp01/DS-Classwork/blob/main/Text_extract_from_pdf_2.ipynb\" target=\"_parent\"><img src=\"https://colab.research.google.com/assets/colab-badge.svg\" alt=\"Open In Colab\"/></a>"
      ]
    },
    {
      "cell_type": "code",
      "source": [
        "!pip install PyPDF2"
      ],
      "metadata": {
        "colab": {
          "base_uri": "https://localhost:8080/"
        },
        "collapsed": true,
        "id": "Gq6gIziEMwQa",
        "outputId": "bba88e4a-e120-4439-a264-6035e58414a9"
      },
      "execution_count": 2,
      "outputs": [
        {
          "output_type": "stream",
          "name": "stdout",
          "text": [
            "Collecting PyPDF2\n",
            "  Downloading pypdf2-3.0.1-py3-none-any.whl (232 kB)\n",
            "\u001b[2K     \u001b[90m━━━━━━━━━━━━━━━━━━━━━━━━━━━━━━━━━━━━━━━━\u001b[0m \u001b[32m232.6/232.6 kB\u001b[0m \u001b[31m2.1 MB/s\u001b[0m eta \u001b[36m0:00:00\u001b[0m\n",
            "\u001b[?25hInstalling collected packages: PyPDF2\n",
            "Successfully installed PyPDF2-3.0.1\n"
          ]
        }
      ]
    },
    {
      "cell_type": "code",
      "execution_count": 3,
      "metadata": {
        "id": "k3kxfc8AMkpb"
      },
      "outputs": [],
      "source": [
        "import os\n",
        "import PyPDF2\n",
        "import re\n",
        "import math\n",
        "\n"
      ]
    },
    {
      "cell_type": "code",
      "source": [
        "def extract_text_from_pdf(pdf_file: str) -> [str]:\n",
        "    # Open the PDF file of your choice\n",
        "    with open(pdf_file, 'rb') as pdf:\n",
        "        reader = PyPDF2.PdfReader(pdf)\n",
        "        pdf_text = []\n",
        "\n",
        "        for page in reader.pages:\n",
        "            content = page.extract_text()\n",
        "            pdf_text.append(content)\n",
        "\n",
        "        return pdf_text\n",
        "\n",
        "\n",
        "def main():\n",
        "    extracted_text = extract_text_from_pdf('Experimentation_file.pdf')\n",
        "    for text in extracted_text:\n",
        "        print(text)\n",
        "\n",
        "if __name__ == '__main__':\n",
        "    main()\n"
      ],
      "metadata": {
        "colab": {
          "base_uri": "https://localhost:8080/"
        },
        "id": "eoeYgHr-MxRE",
        "outputId": "a7cd03c8-673e-474d-dfad-833cba33f1ce"
      },
      "execution_count": 7,
      "outputs": [
        {
          "output_type": "stream",
          "name": "stdout",
          "text": [
            "This document provides a quick summary of some of Zoumana’s article on Medium.  \n",
            "It can be considered as the compilation of his 80+ articles about Data Science, Machine Learning and \n",
            "Machine Learning Operations.  \n",
            " \n",
            "Whether you are just getting started or you're an experienced professional looking to upskill, these \n",
            "materials can be helpfu l. \n",
            " \n",
            " \n",
            "𝗗𝗮𝘁𝗮  𝗦𝗰𝗶𝗲𝗻𝗰𝗲  section covers basic to advanced  \n",
            "concepts such as statistics, model evaluation \n",
            "metrics, SQL queries, NoSQL courses, data \n",
            "visualization using  Tableau  and #powerbi , and \n",
            "many more.  \n",
            "Link: https://lnkd.in/g8z cS_vE  \n",
            " \n",
            "𝗠𝗟𝗢𝗽𝘀  chapter explains how to build and \n",
            "deploy models using different strategies such as \n",
            "Docker containers, and GitHub actions on AWS \n",
            "EC2 instances, Azure. Also, it covers how to build \n",
            "REST APIs to serve your  models.  \n",
            "Link: https://lnkd.in/gyiUsdgz  \n",
            " \n",
            "𝗡𝗮𝘁𝘂𝗿𝗮𝗹  𝗟𝗮𝗻𝗴𝘂𝗮𝗴𝗲  𝗣𝗿𝗼𝗰𝗲𝘀𝘀𝗶𝗻𝗴  covers simple NLP \n",
            "concepts to more advanced ones such as \n",
            "Transformers and their applicat ions in Finance, \n",
            "Science, etc.  \n",
            "Link: https://lnkd.in/gBdZbHty  \n",
            " \n",
            "𝗖𝗼𝗺𝗽𝘂𝘁𝗲𝗿  𝗩𝗶𝘀𝗶𝗼𝗻  section covers SOTA models \n",
            "(e.g. YOLO) and different technics to mitigate  overfitting when training computer vision \n",
            "models.  \n",
            "Link: https://lnkd.in/gDY8ZgVs  \n",
            " \n",
            "𝗣𝘆𝘁𝗵𝗼𝗻  section sh owcases multiple libraries to \n",
            "facilitate one's daily life, especially when dealing \n",
            "with PDF, and Word files when scraping data \n",
            "from the web, and even benchmarking analysis \n",
            "to help choose the right data processing tool.  \n",
            "Link: https://lnkd.in/gH_HUMM9  \n",
            " \n",
            "𝗣𝗮𝗻𝗱𝗮𝘀  & 𝗣𝘆𝘁𝗵𝗼𝗻  𝗧𝗿𝗶𝗰𝗸𝘀  covers my daily tips and \n",
            "tricks on LinkedIn. And, there are plenty of those, \n",
            "especially on my \n",
            "website  https ://lnkd.in/gPbichB5  \n",
            "https://lnkd.in/gUs8inuZ  \n",
            " \n",
            "𝗠𝗮𝗰𝗵𝗶𝗻𝗲  𝗟𝗲𝗮𝗿𝗻𝗶𝗻𝗴  part is about Fexplainable AI, \n",
            "clustering, classification tasks, etc.  \n",
            "Link: https://lnkd.in/gJdSvQns\n",
            " \n"
          ]
        }
      ]
    }
  ]
}