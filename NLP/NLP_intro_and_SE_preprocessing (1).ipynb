{
  "nbformat": 4,
  "nbformat_minor": 0,
  "metadata": {
    "colab": {
      "provenance": []
    },
    "kernelspec": {
      "name": "python3",
      "display_name": "Python 3"
    },
    "language_info": {
      "name": "python"
    }
  },
  "cells": [
    {
      "cell_type": "markdown",
      "source": [
        "# NLP\n",
        "Natural Language Preocessing\n",
        "\n",
        "Interaction b/w computers and the human language\n",
        "\n",
        "\n",
        "understand, interpret, manipluate -> human language\n",
        "\n",
        "\n",
        "Evolution of NLP: -\n",
        "<br>1950's -\n",
        "possibility of machines to understand and respond to human\n",
        "<br>1960's  -\n",
        "Rule based NLP System\n",
        "<br>ELIZA - conversation by pattern matching the user input based on scripted/fed responses\n",
        "<br>1980's -\n",
        "use statistical/mathematical algo, to learn from given data and response using them instead of rule-based responses\n",
        "<br>1990's -\n",
        "rise of Internet and collection of vast amount of data\n",
        "Google - Search engine 1996-1998\n",
        "technique -> page ranking\n",
        "\n",
        "2000's - using NLP for more applications\n",
        "<br>translations, voice assistants\n",
        "using ML, DL\n",
        "\n",
        "2010's --use of DEEP Learning with Nerual Networks\n",
        "<br>LSTM\n",
        "Word2vec\n",
        "Transformers\n",
        "\n",
        "2020's\n",
        "GPT- Generative Pretrained Transformers\n",
        "generate human-like text, answer questions, summarize pages, etc"
      ],
      "metadata": {
        "id": "xKF-ljDb5_Jz"
      }
    },
    {
      "cell_type": "code",
      "source": [],
      "metadata": {
        "id": "epzgqSY-7O27"
      },
      "execution_count": null,
      "outputs": []
    },
    {
      "cell_type": "markdown",
      "source": [
        "NLP - field of AI\n",
        "\n",
        "subsets of NLP\n",
        "<br>NLP - Natural Language Proessing\n",
        "a process of reading the language\n",
        "convert unstructured data into structured data\n",
        "text classification,\n",
        "\n",
        "NLU - Natural Language Understanding\n",
        "a process of understandin the language\n",
        "sentiment analysis\n",
        "\n",
        "\n",
        "NLG - NAtural Language Generation\n",
        "a process of writing the language\n",
        "chatbots, voice assistance"
      ],
      "metadata": {
        "id": "kvfaQlBn6Zz-"
      }
    },
    {
      "cell_type": "code",
      "source": [],
      "metadata": {
        "id": "OFTomPRh7RTj"
      },
      "execution_count": null,
      "outputs": []
    },
    {
      "cell_type": "markdown",
      "source": [
        "Text Classification\n",
        "<br>a task to\n",
        "collect and process data and categorize them to a predefined classes\n",
        "<br>eg.,\n",
        "<br>classifying customer reviews as +ve or -ve\n",
        "<br>classify articles as sports, politics, entertainment\n",
        "<br><br>\n",
        "\n",
        "\n",
        "Information Extraction\n",
        "<br>task of identifying/extracting structured data from unstructured data\n",
        "<br>e.g\n",
        "<br>extract name, dates, locations for any event\n",
        "<br>extract phone, address, location for ATS/job applications\n",
        "<br><br>\n",
        "machine translation\n",
        "<br>transform text from one language to another language\n",
        "<br><br>\n",
        "Question Answering\n",
        "<br>task to provide answer/response to the user queries\n",
        "<br>e.g\n",
        "<br>Q: what is the capital of India\n",
        "<br>A: New Delhi\n"
      ],
      "metadata": {
        "id": "NTbmIxbc6j_K"
      }
    },
    {
      "cell_type": "code",
      "source": [],
      "metadata": {
        "id": "k3tYqcoi7T_-"
      },
      "execution_count": null,
      "outputs": []
    },
    {
      "cell_type": "markdown",
      "source": [
        "NLU\n",
        "<br>Sentiment Analysis\n",
        "<br>process of determine the emotions expressed\n",
        "<br>eg.,\n",
        "<br>identify whether the sentence express joy, anger, sadness\n",
        "<br>giving a review to movie,\n",
        "<br>customer feedback review\n",
        "\n",
        "txt = \"I loved the movie very much\"\n",
        "<br>sentiment output = \"positive\"\n",
        "\n",
        "txt = \"I hate violence in the movie \"\n",
        "<br>sentiment output = \"negative\"\n",
        "<br><br>\n",
        "NLG\n",
        "\n",
        "Text summarization\n",
        "<br>Text planning\n",
        "<br>arranging the steps in a recipe in a clear, sequential order to guide the reader to prepare the food\n",
        "<br>Generating a weather report, collect data on temp, humidity, precipation, into a human-readable storyline"
      ],
      "metadata": {
        "id": "uKn_R8gT7Unb"
      }
    },
    {
      "cell_type": "markdown",
      "source": [
        "How Search engine works\n",
        "\n",
        "WWW - world wide web\n",
        "<br><br>\n",
        "crawling\n",
        "<br>process of search engine bots to collect/discover content on a website\n",
        "<br><br>\n",
        "spider\n",
        "<br>s/w/ program/ bot/ -> used to crawl\n",
        "<br>go into the website and collect content\n",
        "<br><br>\n",
        "robot.txt\n",
        "<br>instruction to crawling\n",
        "<br>what page the bot can access or not\n",
        "<br>when can it access\n",
        "<br>how much can it access\n",
        "<br>\n",
        "<br>content of robot.txt\n",
        "<br>user-agent:\n",
        "<br>allowed/disallowed\n",
        "<br><br>\n",
        "examples of crawlers\n",
        "<br>bing -> bingbot\n",
        "<br>google -> googlebot\n",
        "<br>yahoo -> yahooslurp\n",
        "<br><br>\n",
        "Webcrawling - collect data from all websites in the internet to perfomr search engine (indexing)\n",
        "<br>Webscraping - Beautifulsoup - extract data to perform some analysis\n",
        "\n",
        "SEO - search engine optimization\n"
      ],
      "metadata": {
        "id": "7aO_ew4b7lBz"
      }
    },
    {
      "cell_type": "code",
      "source": [],
      "metadata": {
        "id": "IGCmW6bm7kHL"
      },
      "execution_count": null,
      "outputs": []
    },
    {
      "cell_type": "markdown",
      "source": [
        "Preprocessing\n",
        "<br>Transform from Unstructured to structured data\n",
        "\n",
        "Steps of Preprocessing:\n",
        "\n",
        "- Non-alpha numeric characters\n",
        "- remove unnecessary spaces\n",
        "- remove tags(HTML/XML)\n",
        "- expand contractions<br>\n",
        "  I've = I have<br>\n",
        "  I haven't = I have not\n",
        "- correct/convert accented words<br>\n",
        "    résumé, fiancée, sauté, and coupé, héllo - hello\n",
        "- filter stop words    \n",
        " (and, the , is , was = grammatical\n",
        "- find root word (stemming or lemmatization )\n",
        "- convert all to lowercase (The, the are different words)\n",
        "- tokenization (convert words to tokens)\n",
        "        \n",
        "- Stemming\n",
        "  <br>find the root word\n",
        "  <br>simple rule based to cut the prefix\n",
        "  <br>charging, charges - > charg,--ing, charg,--es\n",
        "  <br>very faster when using huge data, but less accurate\n",
        "\n",
        "- Lemmatization\n",
        "  <br>find the root word grammatically/conceptual\n",
        "  <br>charging, charges -> charge\n",
        "  <br>very accurate, but time consuming\n",
        "    "
      ],
      "metadata": {
        "id": "DV3MVnMu8Trc"
      }
    },
    {
      "cell_type": "code",
      "source": [],
      "metadata": {
        "id": "kwg6dc8E9brK"
      },
      "execution_count": null,
      "outputs": []
    },
    {
      "cell_type": "markdown",
      "source": [
        "Indexing\n",
        "<br>convert each word to a column\n",
        "\n",
        "docs/sentences (i/p)\n",
        "1. Hi how are you bro\n",
        "2. I am good bro\n",
        "3. I am very very good\n",
        "\n",
        "o/p after preprocessing\n",
        "1. hi how you bro\n",
        "2. i good bro\n",
        "3. i very very good\n",
        "\n",
        "indexing\n",
        "--------<br>\n",
        "___    hi how you bro i good very<br>\n",
        "d1-  1  1    1   1  0  0    0<br>\n",
        "d2-  0  0    0   1  1  1    0<br>\n",
        "d3-  0  0    0   0  1  1    2<br>\n",
        "\n",
        "website/document -> all unique words/tokens with its occurence on each document"
      ],
      "metadata": {
        "id": "QtiA4PzX8q1s"
      }
    },
    {
      "cell_type": "code",
      "source": [
        "# to install required libraries\n",
        "!pip install contractions"
      ],
      "metadata": {
        "colab": {
          "base_uri": "https://localhost:8080/"
        },
        "id": "9rgctY7TtVzx",
        "outputId": "e3e0ab5f-8fe4-45e8-82bd-efe9a332be8a"
      },
      "execution_count": 1,
      "outputs": [
        {
          "output_type": "stream",
          "name": "stdout",
          "text": [
            "Collecting contractions\n",
            "  Downloading contractions-0.1.73-py2.py3-none-any.whl (8.7 kB)\n",
            "Collecting textsearch>=0.0.21 (from contractions)\n",
            "  Downloading textsearch-0.0.24-py2.py3-none-any.whl (7.6 kB)\n",
            "Collecting anyascii (from textsearch>=0.0.21->contractions)\n",
            "  Downloading anyascii-0.3.2-py3-none-any.whl (289 kB)\n",
            "\u001b[2K     \u001b[90m━━━━━━━━━━━━━━━━━━━━━━━━━━━━━━━━━━━━━━━━\u001b[0m \u001b[32m289.9/289.9 kB\u001b[0m \u001b[31m6.6 MB/s\u001b[0m eta \u001b[36m0:00:00\u001b[0m\n",
            "\u001b[?25hCollecting pyahocorasick (from textsearch>=0.0.21->contractions)\n",
            "  Downloading pyahocorasick-2.1.0-cp310-cp310-manylinux_2_5_x86_64.manylinux1_x86_64.manylinux_2_12_x86_64.manylinux2010_x86_64.whl (110 kB)\n",
            "\u001b[2K     \u001b[90m━━━━━━━━━━━━━━━━━━━━━━━━━━━━━━━━━━━━━━━━\u001b[0m \u001b[32m110.7/110.7 kB\u001b[0m \u001b[31m10.3 MB/s\u001b[0m eta \u001b[36m0:00:00\u001b[0m\n",
            "\u001b[?25hInstalling collected packages: pyahocorasick, anyascii, textsearch, contractions\n",
            "Successfully installed anyascii-0.3.2 contractions-0.1.73 pyahocorasick-2.1.0 textsearch-0.0.24\n"
          ]
        }
      ]
    },
    {
      "cell_type": "code",
      "source": [
        "!pip install Unidecode"
      ],
      "metadata": {
        "colab": {
          "base_uri": "https://localhost:8080/"
        },
        "id": "KXRSTitquPhJ",
        "outputId": "ffbbbfca-889f-4939-ce8b-de3de44e9f90"
      },
      "execution_count": 2,
      "outputs": [
        {
          "output_type": "stream",
          "name": "stdout",
          "text": [
            "Collecting Unidecode\n",
            "  Downloading Unidecode-1.3.8-py3-none-any.whl (235 kB)\n",
            "\u001b[2K     \u001b[90m━━━━━━━━━━━━━━━━━━━━━━━━━━━━━━━━━━━━━━━━\u001b[0m \u001b[32m235.5/235.5 kB\u001b[0m \u001b[31m3.2 MB/s\u001b[0m eta \u001b[36m0:00:00\u001b[0m\n",
            "\u001b[?25hInstalling collected packages: Unidecode\n",
            "Successfully installed Unidecode-1.3.8\n"
          ]
        }
      ]
    },
    {
      "cell_type": "code",
      "execution_count": 3,
      "metadata": {
        "id": "M5eWNmMgrMK1"
      },
      "outputs": [],
      "source": [
        "# sample data\n",
        "data = \"\"\"<HTML>\n",
        "<BODY>\n",
        "<P>\n",
        "Héllo! Hey, How are you? haven't I Am GOOD! That's Great! I am charging these online charges to compensate the reduction in charge mandated by the authority\n",
        "</BODY>\n",
        "</HTML>\"\"\""
      ]
    },
    {
      "cell_type": "code",
      "source": [
        "# show the data\n",
        "print(data)"
      ],
      "metadata": {
        "colab": {
          "base_uri": "https://localhost:8080/"
        },
        "id": "hkjwwiLxr9jw",
        "outputId": "713d0db7-8e05-431f-8619-2faa957cb88f"
      },
      "execution_count": 4,
      "outputs": [
        {
          "output_type": "stream",
          "name": "stdout",
          "text": [
            "<HTML>\n",
            "<BODY>\n",
            "<P>\n",
            "Héllo! Hey, How are you? haven't I Am GOOD! That's Great! I am charging these online charges to compensate the reduction in charge mandated by the authority\n",
            "</BODY>\n",
            "</HTML>\n"
          ]
        }
      ]
    },
    {
      "cell_type": "code",
      "source": [
        "# import the required libraries\n",
        "from bs4 import BeautifulSoup  # work with tags\n",
        "import contractions # work on contract texts\n",
        "import unidecode # work on accented characters\n",
        "import re # to work with alphanumeric/special characters\n",
        "\n",
        "import nltk\n",
        "from nltk.corpus import stopwords  # to work on stopwords\n",
        "nltk.download('stopwords')\n",
        "\n",
        "\n",
        "from nltk.stem import PorterStemmer  # to perform stemming\n",
        "from nltk.stem import WordNetLemmatizer # to perform Lemmatization\n",
        "nltk.download('wordnet')"
      ],
      "metadata": {
        "colab": {
          "base_uri": "https://localhost:8080/"
        },
        "id": "Albo2FqysB0E",
        "outputId": "3824bbcd-298f-4e2b-8d09-b9fb1a7ff9a8"
      },
      "execution_count": 5,
      "outputs": [
        {
          "output_type": "stream",
          "name": "stderr",
          "text": [
            "[nltk_data] Downloading package stopwords to /root/nltk_data...\n",
            "[nltk_data]   Unzipping corpora/stopwords.zip.\n",
            "[nltk_data] Downloading package wordnet to /root/nltk_data...\n"
          ]
        },
        {
          "output_type": "execute_result",
          "data": {
            "text/plain": [
              "True"
            ]
          },
          "metadata": {},
          "execution_count": 5
        }
      ]
    },
    {
      "cell_type": "code",
      "source": [
        "# Remove HTML tags\n",
        "text = BeautifulSoup(data,\"html.parser\").get_text()\n",
        "text"
      ],
      "metadata": {
        "colab": {
          "base_uri": "https://localhost:8080/",
          "height": 54
        },
        "id": "xN9esAUpsXwq",
        "outputId": "4da7fca7-fcee-4a8a-8b1b-804a5be9f668"
      },
      "execution_count": 6,
      "outputs": [
        {
          "output_type": "execute_result",
          "data": {
            "text/plain": [
              "\"\\n\\n\\nHéllo! Hey, How are you? haven't I Am GOOD! That's Great! I am charging these online charges to compensate the reduction in charge mandated by the authority\\n\\n\""
            ],
            "application/vnd.google.colaboratory.intrinsic+json": {
              "type": "string"
            }
          },
          "metadata": {},
          "execution_count": 6
        }
      ]
    },
    {
      "cell_type": "code",
      "source": [
        "# Remove newlines\n",
        "text = text.strip()\n",
        "text"
      ],
      "metadata": {
        "colab": {
          "base_uri": "https://localhost:8080/",
          "height": 36
        },
        "id": "GhGvAUaMsoiL",
        "outputId": "f3c7798f-33f3-4b70-a2e0-2b8e95b165a1"
      },
      "execution_count": 7,
      "outputs": [
        {
          "output_type": "execute_result",
          "data": {
            "text/plain": [
              "\"Héllo! Hey, How are you? haven't I Am GOOD! That's Great! I am charging these online charges to compensate the reduction in charge mandated by the authority\""
            ],
            "application/vnd.google.colaboratory.intrinsic+json": {
              "type": "string"
            }
          },
          "metadata": {},
          "execution_count": 7
        }
      ]
    },
    {
      "cell_type": "code",
      "source": [
        "# expand contractions\n",
        "text = contractions.fix(text)\n",
        "text"
      ],
      "metadata": {
        "colab": {
          "base_uri": "https://localhost:8080/",
          "height": 36
        },
        "id": "WQWa7NhttFl3",
        "outputId": "652aad01-4df7-41d0-a263-2fe28aeff532"
      },
      "execution_count": 8,
      "outputs": [
        {
          "output_type": "execute_result",
          "data": {
            "text/plain": [
              "'Héllo! Hey, How are you? have not I Am GOOD! That is Great! I am charging these online charges to compensate the reduction in charge mandated by the authority'"
            ],
            "application/vnd.google.colaboratory.intrinsic+json": {
              "type": "string"
            }
          },
          "metadata": {},
          "execution_count": 8
        }
      ]
    },
    {
      "cell_type": "code",
      "source": [
        "# correct the accented characters\n",
        "text = unidecode.unidecode(text)\n",
        "text"
      ],
      "metadata": {
        "colab": {
          "base_uri": "https://localhost:8080/",
          "height": 36
        },
        "id": "WV1NYjpxtnyV",
        "outputId": "7637be56-70d6-41de-d360-035d6e15abac"
      },
      "execution_count": 9,
      "outputs": [
        {
          "output_type": "execute_result",
          "data": {
            "text/plain": [
              "'Hello! Hey, How are you? have not I Am GOOD! That is Great! I am charging these online charges to compensate the reduction in charge mandated by the authority'"
            ],
            "application/vnd.google.colaboratory.intrinsic+json": {
              "type": "string"
            }
          },
          "metadata": {},
          "execution_count": 9
        }
      ]
    },
    {
      "cell_type": "code",
      "source": [
        "# remove non-alphanumeric characters\n",
        "text = re.sub(r'[^a-zA-Z0-9\\s]','',text)\n",
        "text\n"
      ],
      "metadata": {
        "colab": {
          "base_uri": "https://localhost:8080/",
          "height": 36
        },
        "id": "XywkpMJ-ugzB",
        "outputId": "5628caf7-c9cb-46bb-ff62-fc47358bcbff"
      },
      "execution_count": 10,
      "outputs": [
        {
          "output_type": "execute_result",
          "data": {
            "text/plain": [
              "'Hello Hey How are you have not I Am GOOD That is Great I am charging these online charges to compensate the reduction in charge mandated by the authority'"
            ],
            "application/vnd.google.colaboratory.intrinsic+json": {
              "type": "string"
            }
          },
          "metadata": {},
          "execution_count": 10
        }
      ]
    },
    {
      "cell_type": "code",
      "source": [
        "# convert to lowercase\n",
        "text = text.lower()\n",
        "text"
      ],
      "metadata": {
        "colab": {
          "base_uri": "https://localhost:8080/",
          "height": 36
        },
        "id": "o6vPQvCcvN-U",
        "outputId": "77292552-76e0-4109-e0ff-bb782c5a828d"
      },
      "execution_count": 11,
      "outputs": [
        {
          "output_type": "execute_result",
          "data": {
            "text/plain": [
              "'hello hey how are you have not i am good that is great i am charging these online charges to compensate the reduction in charge mandated by the authority'"
            ],
            "application/vnd.google.colaboratory.intrinsic+json": {
              "type": "string"
            }
          },
          "metadata": {},
          "execution_count": 11
        }
      ]
    },
    {
      "cell_type": "code",
      "source": [
        "# Remove Stop words\n",
        "stop_words = set(stopwords.words('english'))\n",
        "print(stop_words)"
      ],
      "metadata": {
        "colab": {
          "base_uri": "https://localhost:8080/"
        },
        "id": "2I4r64cnvkF2",
        "outputId": "b97a8517-d37d-47fd-e1f5-24b3dd26e6eb"
      },
      "execution_count": 12,
      "outputs": [
        {
          "output_type": "stream",
          "name": "stdout",
          "text": [
            "{\"hasn't\", 'to', 'before', 'have', 'does', \"you've\", \"she's\", 'your', 'aren', 'won', 'down', 'whom', 'will', 'mightn', 'other', 'been', 'doesn', 'did', 've', \"didn't\", 'me', \"haven't\", 'but', 'about', 'ourselves', 'doing', 'the', 'because', 'ours', \"mightn't\", 'didn', 'do', \"you'll\", 'by', 'how', 'in', 'at', 'is', 'can', \"that'll\", 'now', 'shan', 'wouldn', 'he', 'my', 't', 'be', 'these', \"shouldn't\", 'each', 'm', 'not', 'isn', 'there', 'through', 'himself', 'more', 'those', 'with', \"should've\", 'theirs', 'if', 'under', 'after', 'd', 'few', 'that', 'are', 'just', 'couldn', \"needn't\", 'this', \"won't\", 'mustn', 'yours', 'only', 'o', 'out', 'further', 'which', 'above', 'where', 'most', \"you'd\", 'she', 'very', \"shan't\", 'needn', 'for', 'over', 'wasn', \"mustn't\", 'her', 'into', 'too', 'you', 'it', 'both', \"weren't\", 'hers', 'nor', 'up', 'i', 'they', 'herself', 'once', 's', \"wouldn't\", 'their', 'and', \"couldn't\", 'on', 'so', 'itself', 'has', 'off', 'when', 'against', 'shouldn', 'or', 'than', 'some', 'him', 'themselves', 'a', 'ain', 'what', 'being', 'again', 'such', 'myself', 'why', \"it's\", 'here', 'we', 'any', 're', 'same', 'between', \"doesn't\", \"isn't\", \"you're\", 'then', 'hadn', 'am', 'who', 'should', 'below', 'having', \"wasn't\", 'weren', 'yourself', 'while', 'was', 'don', 'his', \"don't\", 'during', 'our', 'haven', 'yourselves', \"hadn't\", 'all', 'own', 'its', 'll', 'until', 'no', \"aren't\", 'from', 'as', 'had', 'an', 'hasn', 'were', 'them', 'y', 'ma', 'of'}\n"
          ]
        }
      ]
    },
    {
      "cell_type": "code",
      "source": [
        "text"
      ],
      "metadata": {
        "colab": {
          "base_uri": "https://localhost:8080/",
          "height": 36
        },
        "id": "v4_eJud0w5Nf",
        "outputId": "cde4fed0-50e1-4912-d7bc-afbc58f5f940"
      },
      "execution_count": 13,
      "outputs": [
        {
          "output_type": "execute_result",
          "data": {
            "text/plain": [
              "'hello hey how are you have not i am good that is great i am charging these online charges to compensate the reduction in charge mandated by the authority'"
            ],
            "application/vnd.google.colaboratory.intrinsic+json": {
              "type": "string"
            }
          },
          "metadata": {},
          "execution_count": 13
        }
      ]
    },
    {
      "cell_type": "code",
      "source": [
        "not_required_text = [ word for word in text.split(' ') if word in stop_words]\n",
        "print(not_required_text)"
      ],
      "metadata": {
        "colab": {
          "base_uri": "https://localhost:8080/"
        },
        "id": "zWa6ILM_wxJg",
        "outputId": "7d14d28c-00e8-40ae-f0af-f5ac1cb12b7a"
      },
      "execution_count": 14,
      "outputs": [
        {
          "output_type": "stream",
          "name": "stdout",
          "text": [
            "['how', 'are', 'you', 'have', 'not', 'i', 'am', 'that', 'is', 'i', 'am', 'these', 'to', 'the', 'in', 'by', 'the']\n"
          ]
        }
      ]
    },
    {
      "cell_type": "code",
      "source": [
        "filtered_text = [ word for word in text.split(' ') if word not in stop_words]\n",
        "print(filtered_text)"
      ],
      "metadata": {
        "colab": {
          "base_uri": "https://localhost:8080/"
        },
        "id": "kbAhIgGUwPC0",
        "outputId": "ead33148-3b71-4f7e-fec1-2a15c707a928"
      },
      "execution_count": 15,
      "outputs": [
        {
          "output_type": "stream",
          "name": "stdout",
          "text": [
            "['hello', 'hey', 'good', 'great', 'charging', 'online', 'charges', 'compensate', 'reduction', 'charge', 'mandated', 'authority']\n"
          ]
        }
      ]
    },
    {
      "cell_type": "code",
      "source": [
        "text = ' '.join(filtered_text)\n",
        "text"
      ],
      "metadata": {
        "colab": {
          "base_uri": "https://localhost:8080/",
          "height": 36
        },
        "id": "VVP_dXDmwtIh",
        "outputId": "a7822682-b962-4580-b972-ddef82801c4a"
      },
      "execution_count": 16,
      "outputs": [
        {
          "output_type": "execute_result",
          "data": {
            "text/plain": [
              "'hello hey good great charging online charges compensate reduction charge mandated authority'"
            ],
            "application/vnd.google.colaboratory.intrinsic+json": {
              "type": "string"
            }
          },
          "metadata": {},
          "execution_count": 16
        }
      ]
    },
    {
      "cell_type": "code",
      "source": [
        "# To find the root word using Stemming\n",
        "otext = \"charge charging charges charged mutlitasking\"\n",
        "stemmer = PorterStemmer()\n",
        "stemmed_text = [stemmer.stem(word) for word in otext.split(' ')]\n",
        "ntext = ' '.join(stemmed_text)\n",
        "print(ntext)"
      ],
      "metadata": {
        "colab": {
          "base_uri": "https://localhost:8080/"
        },
        "id": "6mNjRkRRxbMc",
        "outputId": "ec23578b-e73d-4923-f637-ac3e5f6892c9"
      },
      "execution_count": 17,
      "outputs": [
        {
          "output_type": "stream",
          "name": "stdout",
          "text": [
            "charg charg charg charg mutlitask\n"
          ]
        }
      ]
    },
    {
      "cell_type": "code",
      "source": [
        "#Suffix using stemmer\n",
        "charg - e\n",
        "charg - ing\n",
        "charg - es\n",
        "charg - ed"
      ],
      "metadata": {
        "id": "tuSXND3uyP5B"
      },
      "execution_count": null,
      "outputs": []
    },
    {
      "cell_type": "code",
      "source": [
        "#comprehension - shortening of multiple stamments into a single statement\n",
        "otext = \"charge charging charges charged\"\n",
        "print('original full text:', otext)\n",
        "ntext = []\n",
        "\n",
        "stemmed_text = [stemmer.stem(word) for word in otext.split(' ')]\n",
        "# or\n",
        "for word in otext.split(' '):\n",
        "  print('Each word:',word)\n",
        "  stemmed_text = stemmer.stem(word)\n",
        "\n",
        "  print('Each root word:', stemmed_text,'\\n')\n",
        "  #ntext = ntext + ''.join(stemmed_text)\n",
        "  ntext.append(stemmed_text)\n",
        "print(ntext)"
      ],
      "metadata": {
        "colab": {
          "base_uri": "https://localhost:8080/"
        },
        "id": "gLvJ-a56yn5n",
        "outputId": "5a3ff2d3-ff7d-49e7-9fcf-65274e69fae3"
      },
      "execution_count": 19,
      "outputs": [
        {
          "output_type": "stream",
          "name": "stdout",
          "text": [
            "original full text: charge charging charges charged\n",
            "Each word: charge\n",
            "Each root word: charg \n",
            "\n",
            "Each word: charging\n",
            "Each root word: charg \n",
            "\n",
            "Each word: charges\n",
            "Each root word: charg \n",
            "\n",
            "Each word: charged\n",
            "Each root word: charg \n",
            "\n",
            "['charg', 'charg', 'charg', 'charg']\n"
          ]
        }
      ]
    },
    {
      "cell_type": "code",
      "source": [
        "# To find the root word using Lemmatization\n",
        "otext = \"charge charging charges charged multitasking\"\n",
        "lemmatizer = WordNetLemmatizer()\n",
        "lemmatized_text = [lemmatizer.lemmatize(word) for word in otext.split(' ')]\n",
        "ntext = ' '.join(lemmatized_text)\n",
        "print(ntext)"
      ],
      "metadata": {
        "colab": {
          "base_uri": "https://localhost:8080/"
        },
        "id": "x8Fun1ZNzIE9",
        "outputId": "c6df3c3b-c43e-4744-e1bd-f703db913413"
      },
      "execution_count": 18,
      "outputs": [
        {
          "output_type": "stream",
          "name": "stdout",
          "text": [
            "charge charging charge charged multitasking\n"
          ]
        }
      ]
    },
    {
      "cell_type": "code",
      "source": [
        "otext =       \"charge charging charges charged\"\n",
        "Stemming  =   \"charg  charg    charg   charg\"\n",
        "Lemmatizing = \"charge charging charge  charged\""
      ],
      "metadata": {
        "id": "NR_HLNAC1o9N"
      },
      "execution_count": null,
      "outputs": []
    },
    {
      "cell_type": "code",
      "source": [
        "# a method to perform several preprocessing steps under a single method\n",
        "def preprocess_text(text):\n",
        "\n",
        "    # Remove HTML tags\n",
        "    text = BeautifulSoup(text,\"html.parser\").get_text()\n",
        "\n",
        "    # Remove newlines\n",
        "    text = text.strip()\n",
        "\n",
        "    # expand contractions\n",
        "    text = contractions.fix(text)\n",
        "\n",
        "    # correct the accented characters\n",
        "    text = unidecode.unidecode(text)\n",
        "\n",
        "    # remove non-alphanumeric characters\n",
        "    text = re.sub(r'[^a-zA-Z0-9\\s]','',text)\n",
        "\n",
        "    # convert to lowercase\n",
        "    text = text.lower()\n",
        "\n",
        "    # Remove Stop words\n",
        "    stop_words = set(stopwords.words('english'))\n",
        "    filtered_text = [ word for word in text.split(' ') if word not in stop_words]\n",
        "    text = ' '.join(filtered_text)\n",
        "\n",
        "    # To find the root word using Lemmatization\n",
        "    lemmatizer = WordNetLemmatizer()\n",
        "    lemmatized_text = [lemmatizer.lemmatize(word) for word in text.split(' ')]\n",
        "    text = ' '.join(lemmatized_text)\n",
        "\n",
        "    return(text)\n"
      ],
      "metadata": {
        "id": "HptchPDp2ctI"
      },
      "execution_count": 39,
      "outputs": []
    },
    {
      "cell_type": "code",
      "source": [
        "\n",
        "print('original data:', data,'\\n\\n')\n",
        "preprocessed_data = preprocess_text(data)\n",
        "print('Processed data:', preprocessed_data)\n"
      ],
      "metadata": {
        "colab": {
          "base_uri": "https://localhost:8080/"
        },
        "id": "UulG5Zif3R1x",
        "outputId": "346d8d38-6c6a-4e95-f29d-73ff3266f911"
      },
      "execution_count": 21,
      "outputs": [
        {
          "output_type": "stream",
          "name": "stdout",
          "text": [
            "original data: <HTML>\n",
            "<BODY>\n",
            "<P>\n",
            "Héllo! Hey, How are you? haven't I Am GOOD! That's Great! I am charging these online charges to compensate the reduction in charge mandated by the authority\n",
            "</BODY>\n",
            "</HTML> \n",
            "\n",
            "\n",
            "Processed data: hello hey good great charging online charge compensate reduction charge mandated authority\n"
          ]
        }
      ]
    },
    {
      "cell_type": "code",
      "source": [
        "preprocessed_data"
      ],
      "metadata": {
        "id": "zupgJR233jbm",
        "colab": {
          "base_uri": "https://localhost:8080/",
          "height": 36
        },
        "outputId": "59538551-84c0-4212-a11e-96d37010edf0"
      },
      "execution_count": 23,
      "outputs": [
        {
          "output_type": "execute_result",
          "data": {
            "text/plain": [
              "'hello hey good great charging online charge compensate reduction charge mandated authority'"
            ],
            "application/vnd.google.colaboratory.intrinsic+json": {
              "type": "string"
            }
          },
          "metadata": {},
          "execution_count": 23
        }
      ]
    },
    {
      "cell_type": "code",
      "source": [
        "type(preprocessed_data)"
      ],
      "metadata": {
        "colab": {
          "base_uri": "https://localhost:8080/"
        },
        "id": "EkrKwDygfeiZ",
        "outputId": "759bfd63-b6cf-4b1f-899d-322c9ae4c048"
      },
      "execution_count": 24,
      "outputs": [
        {
          "output_type": "execute_result",
          "data": {
            "text/plain": [
              "str"
            ]
          },
          "metadata": {},
          "execution_count": 24
        }
      ]
    },
    {
      "cell_type": "code",
      "source": [
        "for word in preprocessed_data.split(' '):\n",
        "  print(word)"
      ],
      "metadata": {
        "colab": {
          "base_uri": "https://localhost:8080/"
        },
        "id": "p5Op0N0MflA9",
        "outputId": "0f7c167f-f679-4d20-d300-a3d5e2b79519"
      },
      "execution_count": 25,
      "outputs": [
        {
          "output_type": "stream",
          "name": "stdout",
          "text": [
            "hello\n",
            "hey\n",
            "good\n",
            "great\n",
            "charging\n",
            "online\n",
            "charge\n",
            "compensate\n",
            "reduction\n",
            "charge\n",
            "mandated\n",
            "authority\n"
          ]
        }
      ]
    },
    {
      "cell_type": "code",
      "source": [
        "from nltk.tokenize import word_tokenize\n",
        "nltk.download('punkt')"
      ],
      "metadata": {
        "colab": {
          "base_uri": "https://localhost:8080/"
        },
        "id": "FPDdA8xPfxqU",
        "outputId": "551b095c-424e-414d-c40d-4db96a8c28b1"
      },
      "execution_count": 26,
      "outputs": [
        {
          "output_type": "stream",
          "name": "stderr",
          "text": [
            "[nltk_data] Downloading package punkt to /root/nltk_data...\n",
            "[nltk_data]   Unzipping tokenizers/punkt.zip.\n"
          ]
        },
        {
          "output_type": "execute_result",
          "data": {
            "text/plain": [
              "True"
            ]
          },
          "metadata": {},
          "execution_count": 26
        }
      ]
    },
    {
      "cell_type": "code",
      "source": [
        "word_tokenize(preprocessed_data)"
      ],
      "metadata": {
        "colab": {
          "base_uri": "https://localhost:8080/"
        },
        "id": "glbbjj1-f_bF",
        "outputId": "67a2ad42-8db1-46ad-9982-bae18cd6697b"
      },
      "execution_count": 27,
      "outputs": [
        {
          "output_type": "execute_result",
          "data": {
            "text/plain": [
              "['hello',\n",
              " 'hey',\n",
              " 'good',\n",
              " 'great',\n",
              " 'charging',\n",
              " 'online',\n",
              " 'charge',\n",
              " 'compensate',\n",
              " 'reduction',\n",
              " 'charge',\n",
              " 'mandated',\n",
              " 'authority']"
            ]
          },
          "metadata": {},
          "execution_count": 27
        }
      ]
    },
    {
      "cell_type": "code",
      "source": [
        "\n",
        "#multiple documents\n",
        "documents = {\n",
        "    1: \"The India has undergone elections in 2024\",\n",
        "    2: \"India is going to launch the cricket t20 world cup in 2026\",\n",
        "    3: \"Maldives president is making the india army base to go out\",\n",
        "    4: \"Chennai got highest rainfall in the year 2024 after 20 years and its biryani is also good\",\n",
        "    5: \"Hyderabad biryani is worlds best\",\n",
        "    6: \"Chennai is famous for its cricket ipl team\",\n",
        "    7: \"The India is a developing country\",\n",
        "    8: \"India is heading towards the major phase of development\",\n",
        "    9: \"American president is not against the Mexicans\",\n",
        "    10: \"The idli is a healthy breakfast\",\n",
        "    11: \"Hyderabad haleem is yummy\",\n",
        "    12: \"chennai is popular for its waeather\"\n",
        "}\n"
      ],
      "metadata": {
        "id": "u3jZhQosgFgJ"
      },
      "execution_count": 44,
      "outputs": []
    },
    {
      "cell_type": "code",
      "source": [
        "documents"
      ],
      "metadata": {
        "colab": {
          "base_uri": "https://localhost:8080/"
        },
        "id": "fcSiqsQQhFz4",
        "outputId": "403af1f1-097e-452d-9ab3-70081fc927ea"
      },
      "execution_count": 45,
      "outputs": [
        {
          "output_type": "execute_result",
          "data": {
            "text/plain": [
              "{1: 'The India has undergone elections in 2024',\n",
              " 2: 'India is going to launch the cricket t20 world cup in 2026',\n",
              " 3: 'Maldives president is making the india army base to go out',\n",
              " 4: 'Chennai got highest rainfall in the year 2024 after 20 years and its biryani is also good',\n",
              " 5: 'Hyderabad biryani is worlds best',\n",
              " 6: 'Chennai is famous for its cricket ipl team',\n",
              " 7: 'The India is a developing country',\n",
              " 8: 'India is heading towards the major phase of development',\n",
              " 9: 'American president is not against the Mexicans',\n",
              " 10: 'The idli is a healthy breakfast',\n",
              " 11: 'Hyderabad haleem is yummy',\n",
              " 12: 'chennai is popular for its waeather'}"
            ]
          },
          "metadata": {},
          "execution_count": 45
        }
      ]
    },
    {
      "cell_type": "code",
      "source": [
        "type(documents)"
      ],
      "metadata": {
        "colab": {
          "base_uri": "https://localhost:8080/"
        },
        "id": "uV8lblL7hISi",
        "outputId": "94aa3840-1a4f-46cf-b850-c06996dc45a0"
      },
      "execution_count": 30,
      "outputs": [
        {
          "output_type": "execute_result",
          "data": {
            "text/plain": [
              "dict"
            ]
          },
          "metadata": {},
          "execution_count": 30
        }
      ]
    },
    {
      "cell_type": "code",
      "source": [
        "for k,v in documents.items():\n",
        "  print('key:',k,'value:',v)\n"
      ],
      "metadata": {
        "colab": {
          "base_uri": "https://localhost:8080/"
        },
        "id": "GLdzlcu4hLN0",
        "outputId": "4dc7d167-6858-4009-fba2-93ef26cbde81"
      },
      "execution_count": 46,
      "outputs": [
        {
          "output_type": "stream",
          "name": "stdout",
          "text": [
            "key: 1 value: The India has undergone elections in 2024\n",
            "key: 2 value: India is going to launch the cricket t20 world cup in 2026\n",
            "key: 3 value: Maldives president is making the india army base to go out\n",
            "key: 4 value: Chennai got highest rainfall in the year 2024 after 20 years and its biryani is also good\n",
            "key: 5 value: Hyderabad biryani is worlds best\n",
            "key: 6 value: Chennai is famous for its cricket ipl team\n",
            "key: 7 value: The India is a developing country\n",
            "key: 8 value: India is heading towards the major phase of development\n",
            "key: 9 value: American president is not against the Mexicans\n",
            "key: 10 value: The idli is a healthy breakfast\n",
            "key: 11 value: Hyderabad haleem is yummy\n",
            "key: 12 value: chennai is popular for its waeather\n"
          ]
        }
      ]
    },
    {
      "cell_type": "code",
      "source": [
        "documents"
      ],
      "metadata": {
        "colab": {
          "base_uri": "https://localhost:8080/"
        },
        "id": "e2fECFf8jIua",
        "outputId": "a504ee7b-17a3-4fa3-f87d-add1e65423e8"
      },
      "execution_count": 38,
      "outputs": [
        {
          "output_type": "execute_result",
          "data": {
            "text/plain": [
              "{1: 'The India has undergone elections in 2024',\n",
              " 2: 'India is going to launch the cricket t20 world cup in 2026',\n",
              " 3: 'Maldives president is making the india army base to go out',\n",
              " 4: 'Chennai got highest rainfall in the year 2024 after 20 years and its biryani is also good',\n",
              " 5: 'Hyderabad biryani is worlds best'}"
            ]
          },
          "metadata": {},
          "execution_count": 38
        }
      ]
    },
    {
      "cell_type": "code",
      "source": [
        "# indexing\n",
        "%%time\n",
        "index = {}\n",
        "for document_id, document in documents.items():\n",
        "  #print(document_id, document)\n",
        "  document_preprocess = preprocess_text(document)  # preprocess each document\n",
        "  #print('prep:',document_preprocess)\n",
        "\n",
        "  for word in document_preprocess.split(' '):\n",
        "      if word in index:\n",
        "        #if the word is found in index then add the id to the word\n",
        "        index[word].add(document_id)\n",
        "      else:\n",
        "        index[word] = {document_id}  #if the word is not found in index then create it\n",
        "print(index)"
      ],
      "metadata": {
        "colab": {
          "base_uri": "https://localhost:8080/"
        },
        "id": "aegs6AlphcCg",
        "outputId": "d09c11aa-8a59-4360-bdff-8557cb18fb83"
      },
      "execution_count": 71,
      "outputs": [
        {
          "output_type": "stream",
          "name": "stdout",
          "text": [
            "{'india': {1, 2, 3, 7, 8}, 'undergone': {1}, 'election': {1}, '2024': {1, 4}, 'going': {2}, 'launch': {2}, 'cricket': {2, 6}, 't20': {2}, 'world': {2, 5}, 'cup': {2}, '2026': {2}, 'maldives': {3}, 'president': {9, 3}, 'making': {3}, 'army': {3}, 'base': {3}, 'go': {3}, 'chennai': {4, 12, 6}, 'got': {4}, 'highest': {4}, 'rainfall': {4}, 'year': {4}, '20': {4}, 'biryani': {4, 5}, 'also': {4}, 'good': {4}, 'hyderabad': {11, 5}, 'best': {5}, 'famous': {6}, 'ipl': {6}, 'team': {6}, 'developing': {7}, 'country': {7}, 'heading': {8}, 'towards': {8}, 'major': {8}, 'phase': {8}, 'development': {8}, 'american': {9}, 'mexican': {9}, 'idli': {10}, 'healthy': {10}, 'breakfast': {10}, 'haleem': {11}, 'yummy': {11}, 'popular': {12}, 'waeather': {12}}\n",
            "CPU times: user 6.25 ms, sys: 1.05 ms, total: 7.31 ms\n",
            "Wall time: 7.19 ms\n"
          ]
        }
      ]
    },
    {
      "cell_type": "code",
      "source": [
        "# indexing\n",
        "%%time\n",
        "index = {}\n",
        "for document_id, document in documents.items():\n",
        "  if document_id != 1 and document_id != 2:\n",
        "    break\n",
        "\n",
        "  print('\\n', document_id, document)\n",
        "  document_preprocess = preprocess_text(document)  # preprocess each document\n",
        "  print('prep:',document_preprocess,'\\n')\n",
        "\n",
        "  for word in document_preprocess.split(' '):\n",
        "      if word in index:\n",
        "        #if the word is found in index then add the id to the word\n",
        "        print(word, 'found so add',index)\n",
        "        index[word].add(document_id)\n",
        "        print(word, 'after addition',index)\n",
        "      else:\n",
        "        print(word, 'no found so create',index)\n",
        "        index[word] = {document_id}  #if the word is not found in index then create it\n",
        "        print(word, 'after create',index)\n",
        "      print('*'*20, '\\n')\n",
        "print(index)"
      ],
      "metadata": {
        "colab": {
          "base_uri": "https://localhost:8080/"
        },
        "id": "pG5TQlDkl0kQ",
        "outputId": "5751fa56-90d1-408d-8700-856ab1b3d8bf"
      },
      "execution_count": 59,
      "outputs": [
        {
          "output_type": "stream",
          "name": "stdout",
          "text": [
            "\n",
            " 1 The India has undergone elections in 2024\n",
            "prep: india undergone election 2024 \n",
            "\n",
            "india no found so create {}\n",
            "india after create {'india': {1}}\n",
            "******************** \n",
            "\n",
            "undergone no found so create {'india': {1}}\n",
            "undergone after create {'india': {1}, 'undergone': {1}}\n",
            "******************** \n",
            "\n",
            "election no found so create {'india': {1}, 'undergone': {1}}\n",
            "election after create {'india': {1}, 'undergone': {1}, 'election': {1}}\n",
            "******************** \n",
            "\n",
            "2024 no found so create {'india': {1}, 'undergone': {1}, 'election': {1}}\n",
            "2024 after create {'india': {1}, 'undergone': {1}, 'election': {1}, '2024': {1}}\n",
            "******************** \n",
            "\n",
            "\n",
            " 2 India is going to launch the cricket t20 world cup in 2026\n",
            "prep: india going launch cricket t20 world cup 2026 \n",
            "\n",
            "india found so add {'india': {1}, 'undergone': {1}, 'election': {1}, '2024': {1}}\n",
            "india after addition {'india': {1, 2}, 'undergone': {1}, 'election': {1}, '2024': {1}}\n",
            "******************** \n",
            "\n",
            "going no found so create {'india': {1, 2}, 'undergone': {1}, 'election': {1}, '2024': {1}}\n",
            "going after create {'india': {1, 2}, 'undergone': {1}, 'election': {1}, '2024': {1}, 'going': {2}}\n",
            "******************** \n",
            "\n",
            "launch no found so create {'india': {1, 2}, 'undergone': {1}, 'election': {1}, '2024': {1}, 'going': {2}}\n",
            "launch after create {'india': {1, 2}, 'undergone': {1}, 'election': {1}, '2024': {1}, 'going': {2}, 'launch': {2}}\n",
            "******************** \n",
            "\n",
            "cricket no found so create {'india': {1, 2}, 'undergone': {1}, 'election': {1}, '2024': {1}, 'going': {2}, 'launch': {2}}\n",
            "cricket after create {'india': {1, 2}, 'undergone': {1}, 'election': {1}, '2024': {1}, 'going': {2}, 'launch': {2}, 'cricket': {2}}\n",
            "******************** \n",
            "\n",
            "t20 no found so create {'india': {1, 2}, 'undergone': {1}, 'election': {1}, '2024': {1}, 'going': {2}, 'launch': {2}, 'cricket': {2}}\n",
            "t20 after create {'india': {1, 2}, 'undergone': {1}, 'election': {1}, '2024': {1}, 'going': {2}, 'launch': {2}, 'cricket': {2}, 't20': {2}}\n",
            "******************** \n",
            "\n",
            "world no found so create {'india': {1, 2}, 'undergone': {1}, 'election': {1}, '2024': {1}, 'going': {2}, 'launch': {2}, 'cricket': {2}, 't20': {2}}\n",
            "world after create {'india': {1, 2}, 'undergone': {1}, 'election': {1}, '2024': {1}, 'going': {2}, 'launch': {2}, 'cricket': {2}, 't20': {2}, 'world': {2}}\n",
            "******************** \n",
            "\n",
            "cup no found so create {'india': {1, 2}, 'undergone': {1}, 'election': {1}, '2024': {1}, 'going': {2}, 'launch': {2}, 'cricket': {2}, 't20': {2}, 'world': {2}}\n",
            "cup after create {'india': {1, 2}, 'undergone': {1}, 'election': {1}, '2024': {1}, 'going': {2}, 'launch': {2}, 'cricket': {2}, 't20': {2}, 'world': {2}, 'cup': {2}}\n",
            "******************** \n",
            "\n",
            "2026 no found so create {'india': {1, 2}, 'undergone': {1}, 'election': {1}, '2024': {1}, 'going': {2}, 'launch': {2}, 'cricket': {2}, 't20': {2}, 'world': {2}, 'cup': {2}}\n",
            "2026 after create {'india': {1, 2}, 'undergone': {1}, 'election': {1}, '2024': {1}, 'going': {2}, 'launch': {2}, 'cricket': {2}, 't20': {2}, 'world': {2}, 'cup': {2}, '2026': {2}}\n",
            "******************** \n",
            "\n",
            "{'india': {1, 2}, 'undergone': {1}, 'election': {1}, '2024': {1}, 'going': {2}, 'launch': {2}, 'cricket': {2}, 't20': {2}, 'world': {2}, 'cup': {2}, '2026': {2}}\n",
            "CPU times: user 35.7 ms, sys: 6.19 ms, total: 41.8 ms\n",
            "Wall time: 39.7 ms\n"
          ]
        }
      ]
    },
    {
      "cell_type": "code",
      "source": [
        "# 5 docs = Wall time: 4.63 ms\n",
        "# 12 docs = Wall time: 6.98 ms"
      ],
      "metadata": {
        "id": "6MaCeGoOjtwn"
      },
      "execution_count": null,
      "outputs": []
    },
    {
      "cell_type": "code",
      "source": [
        "index"
      ],
      "metadata": {
        "colab": {
          "base_uri": "https://localhost:8080/"
        },
        "id": "uPyW2mLciq6S",
        "outputId": "ee97259e-d1af-43aa-a468-cb8d7e9fbdb7"
      },
      "execution_count": 48,
      "outputs": [
        {
          "output_type": "execute_result",
          "data": {
            "text/plain": [
              "{'india': {1, 2, 3, 7, 8},\n",
              " 'undergone': {1},\n",
              " 'election': {1},\n",
              " '2024': {1, 4},\n",
              " 'going': {2},\n",
              " 'launch': {2},\n",
              " 'cricket': {2, 6},\n",
              " 't20': {2},\n",
              " 'world': {2, 5},\n",
              " 'cup': {2},\n",
              " '2026': {2},\n",
              " 'maldives': {3},\n",
              " 'president': {3, 9},\n",
              " 'making': {3},\n",
              " 'army': {3},\n",
              " 'base': {3},\n",
              " 'go': {3},\n",
              " 'chennai': {4, 6, 12},\n",
              " 'got': {4},\n",
              " 'highest': {4},\n",
              " 'rainfall': {4},\n",
              " 'year': {4},\n",
              " '20': {4},\n",
              " 'biryani': {4, 5},\n",
              " 'also': {4},\n",
              " 'good': {4},\n",
              " 'hyderabad': {5, 11},\n",
              " 'best': {5},\n",
              " 'famous': {6},\n",
              " 'ipl': {6},\n",
              " 'team': {6},\n",
              " 'developing': {7},\n",
              " 'country': {7},\n",
              " 'heading': {8},\n",
              " 'towards': {8},\n",
              " 'major': {8},\n",
              " 'phase': {8},\n",
              " 'development': {8},\n",
              " 'american': {9},\n",
              " 'mexican': {9},\n",
              " 'idli': {10},\n",
              " 'healthy': {10},\n",
              " 'breakfast': {10},\n",
              " 'haleem': {11},\n",
              " 'yummy': {11},\n",
              " 'popular': {12},\n",
              " 'waeather': {12}}"
            ]
          },
          "metadata": {},
          "execution_count": 48
        }
      ]
    },
    {
      "cell_type": "code",
      "source": [
        "print(index)\n",
        "data = index\n",
        "\n"
      ],
      "metadata": {
        "colab": {
          "base_uri": "https://localhost:8080/"
        },
        "id": "T9QQPWWCjkql",
        "outputId": "aa3039aa-e43b-4d43-a314-06a5f439459d"
      },
      "execution_count": 73,
      "outputs": [
        {
          "output_type": "stream",
          "name": "stdout",
          "text": [
            "{'india': {1, 2, 3, 7, 8}, 'undergone': {1}, 'election': {1}, '2024': {1, 4}, 'going': {2}, 'launch': {2}, 'cricket': {2, 6}, 't20': {2}, 'world': {2, 5}, 'cup': {2}, '2026': {2}, 'maldives': {3}, 'president': {9, 3}, 'making': {3}, 'army': {3}, 'base': {3}, 'go': {3}, 'chennai': {4, 12, 6}, 'got': {4}, 'highest': {4}, 'rainfall': {4}, 'year': {4}, '20': {4}, 'biryani': {4, 5}, 'also': {4}, 'good': {4}, 'hyderabad': {11, 5}, 'best': {5}, 'famous': {6}, 'ipl': {6}, 'team': {6}, 'developing': {7}, 'country': {7}, 'heading': {8}, 'towards': {8}, 'major': {8}, 'phase': {8}, 'development': {8}, 'american': {9}, 'mexican': {9}, 'idli': {10}, 'healthy': {10}, 'breakfast': {10}, 'haleem': {11}, 'yummy': {11}, 'popular': {12}, 'waeather': {12}}\n"
          ]
        }
      ]
    },
    {
      "cell_type": "code",
      "source": [
        "print(data)"
      ],
      "metadata": {
        "colab": {
          "base_uri": "https://localhost:8080/"
        },
        "id": "g1pMfmkwnsaS",
        "outputId": "980aae76-8a46-4c1a-8f44-2409d8e2c038"
      },
      "execution_count": 62,
      "outputs": [
        {
          "output_type": "stream",
          "name": "stdout",
          "text": [
            "{'india': {1, 2}, 'undergone': {1}, 'election': {1}, '2024': {1}, 'going': {2}, 'launch': {2}, 'cricket': {2}, 't20': {2}, 'world': {2}, 'cup': {2}, '2026': {2}}\n"
          ]
        }
      ]
    },
    {
      "cell_type": "code",
      "source": [
        "import pandas as pd\n",
        "# find the maximum document number\n",
        "max_doc = 0\n",
        "for docs in data.values():\n",
        "  for doc in docs:\n",
        "    if doc > max_doc:\n",
        "      max_doc = doc\n",
        "print(max_doc)\n",
        "\n",
        "# collect all the unique words\n",
        "print(data.keys())\n",
        "words = list(data.keys())\n",
        "\n",
        "# create a dataframe with index as words and columns as document no's and initilize with zero's\n",
        "df = pd.DataFrame(0,index=words, columns = range(1,max_doc+1))\n",
        "#df\n",
        "\n",
        "print(data.items())\n",
        "for word, docs in data.items():\n",
        "  for doc in docs:\n",
        "    df.loc[word,doc] = 1\n",
        "\n",
        "print(documents)\n",
        "df"
      ],
      "metadata": {
        "colab": {
          "base_uri": "https://localhost:8080/",
          "height": 1000
        },
        "id": "_OEtITUFnzmB",
        "outputId": "bcc44c9a-3033-40b4-90d2-1008f1962e86"
      },
      "execution_count": 74,
      "outputs": [
        {
          "output_type": "stream",
          "name": "stdout",
          "text": [
            "12\n",
            "dict_keys(['india', 'undergone', 'election', '2024', 'going', 'launch', 'cricket', 't20', 'world', 'cup', '2026', 'maldives', 'president', 'making', 'army', 'base', 'go', 'chennai', 'got', 'highest', 'rainfall', 'year', '20', 'biryani', 'also', 'good', 'hyderabad', 'best', 'famous', 'ipl', 'team', 'developing', 'country', 'heading', 'towards', 'major', 'phase', 'development', 'american', 'mexican', 'idli', 'healthy', 'breakfast', 'haleem', 'yummy', 'popular', 'waeather'])\n",
            "dict_items([('india', {1, 2, 3, 7, 8}), ('undergone', {1}), ('election', {1}), ('2024', {1, 4}), ('going', {2}), ('launch', {2}), ('cricket', {2, 6}), ('t20', {2}), ('world', {2, 5}), ('cup', {2}), ('2026', {2}), ('maldives', {3}), ('president', {9, 3}), ('making', {3}), ('army', {3}), ('base', {3}), ('go', {3}), ('chennai', {4, 12, 6}), ('got', {4}), ('highest', {4}), ('rainfall', {4}), ('year', {4}), ('20', {4}), ('biryani', {4, 5}), ('also', {4}), ('good', {4}), ('hyderabad', {11, 5}), ('best', {5}), ('famous', {6}), ('ipl', {6}), ('team', {6}), ('developing', {7}), ('country', {7}), ('heading', {8}), ('towards', {8}), ('major', {8}), ('phase', {8}), ('development', {8}), ('american', {9}), ('mexican', {9}), ('idli', {10}), ('healthy', {10}), ('breakfast', {10}), ('haleem', {11}), ('yummy', {11}), ('popular', {12}), ('waeather', {12})])\n",
            "{1: 'The India has undergone elections in 2024', 2: 'India is going to launch the cricket t20 world cup in 2026', 3: 'Maldives president is making the india army base to go out', 4: 'Chennai got highest rainfall in the year 2024 after 20 years and its biryani is also good', 5: 'Hyderabad biryani is worlds best', 6: 'Chennai is famous for its cricket ipl team', 7: 'The India is a developing country', 8: 'India is heading towards the major phase of development', 9: 'American president is not against the Mexicans', 10: 'The idli is a healthy breakfast', 11: 'Hyderabad haleem is yummy', 12: 'chennai is popular for its waeather'}\n"
          ]
        },
        {
          "output_type": "execute_result",
          "data": {
            "text/plain": [
              "             1   2   3   4   5   6   7   8   9   10  11  12\n",
              "india         1   1   1   0   0   0   1   1   0   0   0   0\n",
              "undergone     1   0   0   0   0   0   0   0   0   0   0   0\n",
              "election      1   0   0   0   0   0   0   0   0   0   0   0\n",
              "2024          1   0   0   1   0   0   0   0   0   0   0   0\n",
              "going         0   1   0   0   0   0   0   0   0   0   0   0\n",
              "launch        0   1   0   0   0   0   0   0   0   0   0   0\n",
              "cricket       0   1   0   0   0   1   0   0   0   0   0   0\n",
              "t20           0   1   0   0   0   0   0   0   0   0   0   0\n",
              "world         0   1   0   0   1   0   0   0   0   0   0   0\n",
              "cup           0   1   0   0   0   0   0   0   0   0   0   0\n",
              "2026          0   1   0   0   0   0   0   0   0   0   0   0\n",
              "maldives      0   0   1   0   0   0   0   0   0   0   0   0\n",
              "president     0   0   1   0   0   0   0   0   1   0   0   0\n",
              "making        0   0   1   0   0   0   0   0   0   0   0   0\n",
              "army          0   0   1   0   0   0   0   0   0   0   0   0\n",
              "base          0   0   1   0   0   0   0   0   0   0   0   0\n",
              "go            0   0   1   0   0   0   0   0   0   0   0   0\n",
              "chennai       0   0   0   1   0   1   0   0   0   0   0   1\n",
              "got           0   0   0   1   0   0   0   0   0   0   0   0\n",
              "highest       0   0   0   1   0   0   0   0   0   0   0   0\n",
              "rainfall      0   0   0   1   0   0   0   0   0   0   0   0\n",
              "year          0   0   0   1   0   0   0   0   0   0   0   0\n",
              "20            0   0   0   1   0   0   0   0   0   0   0   0\n",
              "biryani       0   0   0   1   1   0   0   0   0   0   0   0\n",
              "also          0   0   0   1   0   0   0   0   0   0   0   0\n",
              "good          0   0   0   1   0   0   0   0   0   0   0   0\n",
              "hyderabad     0   0   0   0   1   0   0   0   0   0   1   0\n",
              "best          0   0   0   0   1   0   0   0   0   0   0   0\n",
              "famous        0   0   0   0   0   1   0   0   0   0   0   0\n",
              "ipl           0   0   0   0   0   1   0   0   0   0   0   0\n",
              "team          0   0   0   0   0   1   0   0   0   0   0   0\n",
              "developing    0   0   0   0   0   0   1   0   0   0   0   0\n",
              "country       0   0   0   0   0   0   1   0   0   0   0   0\n",
              "heading       0   0   0   0   0   0   0   1   0   0   0   0\n",
              "towards       0   0   0   0   0   0   0   1   0   0   0   0\n",
              "major         0   0   0   0   0   0   0   1   0   0   0   0\n",
              "phase         0   0   0   0   0   0   0   1   0   0   0   0\n",
              "development   0   0   0   0   0   0   0   1   0   0   0   0\n",
              "american      0   0   0   0   0   0   0   0   1   0   0   0\n",
              "mexican       0   0   0   0   0   0   0   0   1   0   0   0\n",
              "idli          0   0   0   0   0   0   0   0   0   1   0   0\n",
              "healthy       0   0   0   0   0   0   0   0   0   1   0   0\n",
              "breakfast     0   0   0   0   0   0   0   0   0   1   0   0\n",
              "haleem        0   0   0   0   0   0   0   0   0   0   1   0\n",
              "yummy         0   0   0   0   0   0   0   0   0   0   1   0\n",
              "popular       0   0   0   0   0   0   0   0   0   0   0   1\n",
              "waeather      0   0   0   0   0   0   0   0   0   0   0   1"
            ],
            "text/html": [
              "\n",
              "  <div id=\"df-1858a2c5-e936-42ce-b5d1-1f550df432f4\" class=\"colab-df-container\">\n",
              "    <div>\n",
              "<style scoped>\n",
              "    .dataframe tbody tr th:only-of-type {\n",
              "        vertical-align: middle;\n",
              "    }\n",
              "\n",
              "    .dataframe tbody tr th {\n",
              "        vertical-align: top;\n",
              "    }\n",
              "\n",
              "    .dataframe thead th {\n",
              "        text-align: right;\n",
              "    }\n",
              "</style>\n",
              "<table border=\"1\" class=\"dataframe\">\n",
              "  <thead>\n",
              "    <tr style=\"text-align: right;\">\n",
              "      <th></th>\n",
              "      <th>1</th>\n",
              "      <th>2</th>\n",
              "      <th>3</th>\n",
              "      <th>4</th>\n",
              "      <th>5</th>\n",
              "      <th>6</th>\n",
              "      <th>7</th>\n",
              "      <th>8</th>\n",
              "      <th>9</th>\n",
              "      <th>10</th>\n",
              "      <th>11</th>\n",
              "      <th>12</th>\n",
              "    </tr>\n",
              "  </thead>\n",
              "  <tbody>\n",
              "    <tr>\n",
              "      <th>india</th>\n",
              "      <td>1</td>\n",
              "      <td>1</td>\n",
              "      <td>1</td>\n",
              "      <td>0</td>\n",
              "      <td>0</td>\n",
              "      <td>0</td>\n",
              "      <td>1</td>\n",
              "      <td>1</td>\n",
              "      <td>0</td>\n",
              "      <td>0</td>\n",
              "      <td>0</td>\n",
              "      <td>0</td>\n",
              "    </tr>\n",
              "    <tr>\n",
              "      <th>undergone</th>\n",
              "      <td>1</td>\n",
              "      <td>0</td>\n",
              "      <td>0</td>\n",
              "      <td>0</td>\n",
              "      <td>0</td>\n",
              "      <td>0</td>\n",
              "      <td>0</td>\n",
              "      <td>0</td>\n",
              "      <td>0</td>\n",
              "      <td>0</td>\n",
              "      <td>0</td>\n",
              "      <td>0</td>\n",
              "    </tr>\n",
              "    <tr>\n",
              "      <th>election</th>\n",
              "      <td>1</td>\n",
              "      <td>0</td>\n",
              "      <td>0</td>\n",
              "      <td>0</td>\n",
              "      <td>0</td>\n",
              "      <td>0</td>\n",
              "      <td>0</td>\n",
              "      <td>0</td>\n",
              "      <td>0</td>\n",
              "      <td>0</td>\n",
              "      <td>0</td>\n",
              "      <td>0</td>\n",
              "    </tr>\n",
              "    <tr>\n",
              "      <th>2024</th>\n",
              "      <td>1</td>\n",
              "      <td>0</td>\n",
              "      <td>0</td>\n",
              "      <td>1</td>\n",
              "      <td>0</td>\n",
              "      <td>0</td>\n",
              "      <td>0</td>\n",
              "      <td>0</td>\n",
              "      <td>0</td>\n",
              "      <td>0</td>\n",
              "      <td>0</td>\n",
              "      <td>0</td>\n",
              "    </tr>\n",
              "    <tr>\n",
              "      <th>going</th>\n",
              "      <td>0</td>\n",
              "      <td>1</td>\n",
              "      <td>0</td>\n",
              "      <td>0</td>\n",
              "      <td>0</td>\n",
              "      <td>0</td>\n",
              "      <td>0</td>\n",
              "      <td>0</td>\n",
              "      <td>0</td>\n",
              "      <td>0</td>\n",
              "      <td>0</td>\n",
              "      <td>0</td>\n",
              "    </tr>\n",
              "    <tr>\n",
              "      <th>launch</th>\n",
              "      <td>0</td>\n",
              "      <td>1</td>\n",
              "      <td>0</td>\n",
              "      <td>0</td>\n",
              "      <td>0</td>\n",
              "      <td>0</td>\n",
              "      <td>0</td>\n",
              "      <td>0</td>\n",
              "      <td>0</td>\n",
              "      <td>0</td>\n",
              "      <td>0</td>\n",
              "      <td>0</td>\n",
              "    </tr>\n",
              "    <tr>\n",
              "      <th>cricket</th>\n",
              "      <td>0</td>\n",
              "      <td>1</td>\n",
              "      <td>0</td>\n",
              "      <td>0</td>\n",
              "      <td>0</td>\n",
              "      <td>1</td>\n",
              "      <td>0</td>\n",
              "      <td>0</td>\n",
              "      <td>0</td>\n",
              "      <td>0</td>\n",
              "      <td>0</td>\n",
              "      <td>0</td>\n",
              "    </tr>\n",
              "    <tr>\n",
              "      <th>t20</th>\n",
              "      <td>0</td>\n",
              "      <td>1</td>\n",
              "      <td>0</td>\n",
              "      <td>0</td>\n",
              "      <td>0</td>\n",
              "      <td>0</td>\n",
              "      <td>0</td>\n",
              "      <td>0</td>\n",
              "      <td>0</td>\n",
              "      <td>0</td>\n",
              "      <td>0</td>\n",
              "      <td>0</td>\n",
              "    </tr>\n",
              "    <tr>\n",
              "      <th>world</th>\n",
              "      <td>0</td>\n",
              "      <td>1</td>\n",
              "      <td>0</td>\n",
              "      <td>0</td>\n",
              "      <td>1</td>\n",
              "      <td>0</td>\n",
              "      <td>0</td>\n",
              "      <td>0</td>\n",
              "      <td>0</td>\n",
              "      <td>0</td>\n",
              "      <td>0</td>\n",
              "      <td>0</td>\n",
              "    </tr>\n",
              "    <tr>\n",
              "      <th>cup</th>\n",
              "      <td>0</td>\n",
              "      <td>1</td>\n",
              "      <td>0</td>\n",
              "      <td>0</td>\n",
              "      <td>0</td>\n",
              "      <td>0</td>\n",
              "      <td>0</td>\n",
              "      <td>0</td>\n",
              "      <td>0</td>\n",
              "      <td>0</td>\n",
              "      <td>0</td>\n",
              "      <td>0</td>\n",
              "    </tr>\n",
              "    <tr>\n",
              "      <th>2026</th>\n",
              "      <td>0</td>\n",
              "      <td>1</td>\n",
              "      <td>0</td>\n",
              "      <td>0</td>\n",
              "      <td>0</td>\n",
              "      <td>0</td>\n",
              "      <td>0</td>\n",
              "      <td>0</td>\n",
              "      <td>0</td>\n",
              "      <td>0</td>\n",
              "      <td>0</td>\n",
              "      <td>0</td>\n",
              "    </tr>\n",
              "    <tr>\n",
              "      <th>maldives</th>\n",
              "      <td>0</td>\n",
              "      <td>0</td>\n",
              "      <td>1</td>\n",
              "      <td>0</td>\n",
              "      <td>0</td>\n",
              "      <td>0</td>\n",
              "      <td>0</td>\n",
              "      <td>0</td>\n",
              "      <td>0</td>\n",
              "      <td>0</td>\n",
              "      <td>0</td>\n",
              "      <td>0</td>\n",
              "    </tr>\n",
              "    <tr>\n",
              "      <th>president</th>\n",
              "      <td>0</td>\n",
              "      <td>0</td>\n",
              "      <td>1</td>\n",
              "      <td>0</td>\n",
              "      <td>0</td>\n",
              "      <td>0</td>\n",
              "      <td>0</td>\n",
              "      <td>0</td>\n",
              "      <td>1</td>\n",
              "      <td>0</td>\n",
              "      <td>0</td>\n",
              "      <td>0</td>\n",
              "    </tr>\n",
              "    <tr>\n",
              "      <th>making</th>\n",
              "      <td>0</td>\n",
              "      <td>0</td>\n",
              "      <td>1</td>\n",
              "      <td>0</td>\n",
              "      <td>0</td>\n",
              "      <td>0</td>\n",
              "      <td>0</td>\n",
              "      <td>0</td>\n",
              "      <td>0</td>\n",
              "      <td>0</td>\n",
              "      <td>0</td>\n",
              "      <td>0</td>\n",
              "    </tr>\n",
              "    <tr>\n",
              "      <th>army</th>\n",
              "      <td>0</td>\n",
              "      <td>0</td>\n",
              "      <td>1</td>\n",
              "      <td>0</td>\n",
              "      <td>0</td>\n",
              "      <td>0</td>\n",
              "      <td>0</td>\n",
              "      <td>0</td>\n",
              "      <td>0</td>\n",
              "      <td>0</td>\n",
              "      <td>0</td>\n",
              "      <td>0</td>\n",
              "    </tr>\n",
              "    <tr>\n",
              "      <th>base</th>\n",
              "      <td>0</td>\n",
              "      <td>0</td>\n",
              "      <td>1</td>\n",
              "      <td>0</td>\n",
              "      <td>0</td>\n",
              "      <td>0</td>\n",
              "      <td>0</td>\n",
              "      <td>0</td>\n",
              "      <td>0</td>\n",
              "      <td>0</td>\n",
              "      <td>0</td>\n",
              "      <td>0</td>\n",
              "    </tr>\n",
              "    <tr>\n",
              "      <th>go</th>\n",
              "      <td>0</td>\n",
              "      <td>0</td>\n",
              "      <td>1</td>\n",
              "      <td>0</td>\n",
              "      <td>0</td>\n",
              "      <td>0</td>\n",
              "      <td>0</td>\n",
              "      <td>0</td>\n",
              "      <td>0</td>\n",
              "      <td>0</td>\n",
              "      <td>0</td>\n",
              "      <td>0</td>\n",
              "    </tr>\n",
              "    <tr>\n",
              "      <th>chennai</th>\n",
              "      <td>0</td>\n",
              "      <td>0</td>\n",
              "      <td>0</td>\n",
              "      <td>1</td>\n",
              "      <td>0</td>\n",
              "      <td>1</td>\n",
              "      <td>0</td>\n",
              "      <td>0</td>\n",
              "      <td>0</td>\n",
              "      <td>0</td>\n",
              "      <td>0</td>\n",
              "      <td>1</td>\n",
              "    </tr>\n",
              "    <tr>\n",
              "      <th>got</th>\n",
              "      <td>0</td>\n",
              "      <td>0</td>\n",
              "      <td>0</td>\n",
              "      <td>1</td>\n",
              "      <td>0</td>\n",
              "      <td>0</td>\n",
              "      <td>0</td>\n",
              "      <td>0</td>\n",
              "      <td>0</td>\n",
              "      <td>0</td>\n",
              "      <td>0</td>\n",
              "      <td>0</td>\n",
              "    </tr>\n",
              "    <tr>\n",
              "      <th>highest</th>\n",
              "      <td>0</td>\n",
              "      <td>0</td>\n",
              "      <td>0</td>\n",
              "      <td>1</td>\n",
              "      <td>0</td>\n",
              "      <td>0</td>\n",
              "      <td>0</td>\n",
              "      <td>0</td>\n",
              "      <td>0</td>\n",
              "      <td>0</td>\n",
              "      <td>0</td>\n",
              "      <td>0</td>\n",
              "    </tr>\n",
              "    <tr>\n",
              "      <th>rainfall</th>\n",
              "      <td>0</td>\n",
              "      <td>0</td>\n",
              "      <td>0</td>\n",
              "      <td>1</td>\n",
              "      <td>0</td>\n",
              "      <td>0</td>\n",
              "      <td>0</td>\n",
              "      <td>0</td>\n",
              "      <td>0</td>\n",
              "      <td>0</td>\n",
              "      <td>0</td>\n",
              "      <td>0</td>\n",
              "    </tr>\n",
              "    <tr>\n",
              "      <th>year</th>\n",
              "      <td>0</td>\n",
              "      <td>0</td>\n",
              "      <td>0</td>\n",
              "      <td>1</td>\n",
              "      <td>0</td>\n",
              "      <td>0</td>\n",
              "      <td>0</td>\n",
              "      <td>0</td>\n",
              "      <td>0</td>\n",
              "      <td>0</td>\n",
              "      <td>0</td>\n",
              "      <td>0</td>\n",
              "    </tr>\n",
              "    <tr>\n",
              "      <th>20</th>\n",
              "      <td>0</td>\n",
              "      <td>0</td>\n",
              "      <td>0</td>\n",
              "      <td>1</td>\n",
              "      <td>0</td>\n",
              "      <td>0</td>\n",
              "      <td>0</td>\n",
              "      <td>0</td>\n",
              "      <td>0</td>\n",
              "      <td>0</td>\n",
              "      <td>0</td>\n",
              "      <td>0</td>\n",
              "    </tr>\n",
              "    <tr>\n",
              "      <th>biryani</th>\n",
              "      <td>0</td>\n",
              "      <td>0</td>\n",
              "      <td>0</td>\n",
              "      <td>1</td>\n",
              "      <td>1</td>\n",
              "      <td>0</td>\n",
              "      <td>0</td>\n",
              "      <td>0</td>\n",
              "      <td>0</td>\n",
              "      <td>0</td>\n",
              "      <td>0</td>\n",
              "      <td>0</td>\n",
              "    </tr>\n",
              "    <tr>\n",
              "      <th>also</th>\n",
              "      <td>0</td>\n",
              "      <td>0</td>\n",
              "      <td>0</td>\n",
              "      <td>1</td>\n",
              "      <td>0</td>\n",
              "      <td>0</td>\n",
              "      <td>0</td>\n",
              "      <td>0</td>\n",
              "      <td>0</td>\n",
              "      <td>0</td>\n",
              "      <td>0</td>\n",
              "      <td>0</td>\n",
              "    </tr>\n",
              "    <tr>\n",
              "      <th>good</th>\n",
              "      <td>0</td>\n",
              "      <td>0</td>\n",
              "      <td>0</td>\n",
              "      <td>1</td>\n",
              "      <td>0</td>\n",
              "      <td>0</td>\n",
              "      <td>0</td>\n",
              "      <td>0</td>\n",
              "      <td>0</td>\n",
              "      <td>0</td>\n",
              "      <td>0</td>\n",
              "      <td>0</td>\n",
              "    </tr>\n",
              "    <tr>\n",
              "      <th>hyderabad</th>\n",
              "      <td>0</td>\n",
              "      <td>0</td>\n",
              "      <td>0</td>\n",
              "      <td>0</td>\n",
              "      <td>1</td>\n",
              "      <td>0</td>\n",
              "      <td>0</td>\n",
              "      <td>0</td>\n",
              "      <td>0</td>\n",
              "      <td>0</td>\n",
              "      <td>1</td>\n",
              "      <td>0</td>\n",
              "    </tr>\n",
              "    <tr>\n",
              "      <th>best</th>\n",
              "      <td>0</td>\n",
              "      <td>0</td>\n",
              "      <td>0</td>\n",
              "      <td>0</td>\n",
              "      <td>1</td>\n",
              "      <td>0</td>\n",
              "      <td>0</td>\n",
              "      <td>0</td>\n",
              "      <td>0</td>\n",
              "      <td>0</td>\n",
              "      <td>0</td>\n",
              "      <td>0</td>\n",
              "    </tr>\n",
              "    <tr>\n",
              "      <th>famous</th>\n",
              "      <td>0</td>\n",
              "      <td>0</td>\n",
              "      <td>0</td>\n",
              "      <td>0</td>\n",
              "      <td>0</td>\n",
              "      <td>1</td>\n",
              "      <td>0</td>\n",
              "      <td>0</td>\n",
              "      <td>0</td>\n",
              "      <td>0</td>\n",
              "      <td>0</td>\n",
              "      <td>0</td>\n",
              "    </tr>\n",
              "    <tr>\n",
              "      <th>ipl</th>\n",
              "      <td>0</td>\n",
              "      <td>0</td>\n",
              "      <td>0</td>\n",
              "      <td>0</td>\n",
              "      <td>0</td>\n",
              "      <td>1</td>\n",
              "      <td>0</td>\n",
              "      <td>0</td>\n",
              "      <td>0</td>\n",
              "      <td>0</td>\n",
              "      <td>0</td>\n",
              "      <td>0</td>\n",
              "    </tr>\n",
              "    <tr>\n",
              "      <th>team</th>\n",
              "      <td>0</td>\n",
              "      <td>0</td>\n",
              "      <td>0</td>\n",
              "      <td>0</td>\n",
              "      <td>0</td>\n",
              "      <td>1</td>\n",
              "      <td>0</td>\n",
              "      <td>0</td>\n",
              "      <td>0</td>\n",
              "      <td>0</td>\n",
              "      <td>0</td>\n",
              "      <td>0</td>\n",
              "    </tr>\n",
              "    <tr>\n",
              "      <th>developing</th>\n",
              "      <td>0</td>\n",
              "      <td>0</td>\n",
              "      <td>0</td>\n",
              "      <td>0</td>\n",
              "      <td>0</td>\n",
              "      <td>0</td>\n",
              "      <td>1</td>\n",
              "      <td>0</td>\n",
              "      <td>0</td>\n",
              "      <td>0</td>\n",
              "      <td>0</td>\n",
              "      <td>0</td>\n",
              "    </tr>\n",
              "    <tr>\n",
              "      <th>country</th>\n",
              "      <td>0</td>\n",
              "      <td>0</td>\n",
              "      <td>0</td>\n",
              "      <td>0</td>\n",
              "      <td>0</td>\n",
              "      <td>0</td>\n",
              "      <td>1</td>\n",
              "      <td>0</td>\n",
              "      <td>0</td>\n",
              "      <td>0</td>\n",
              "      <td>0</td>\n",
              "      <td>0</td>\n",
              "    </tr>\n",
              "    <tr>\n",
              "      <th>heading</th>\n",
              "      <td>0</td>\n",
              "      <td>0</td>\n",
              "      <td>0</td>\n",
              "      <td>0</td>\n",
              "      <td>0</td>\n",
              "      <td>0</td>\n",
              "      <td>0</td>\n",
              "      <td>1</td>\n",
              "      <td>0</td>\n",
              "      <td>0</td>\n",
              "      <td>0</td>\n",
              "      <td>0</td>\n",
              "    </tr>\n",
              "    <tr>\n",
              "      <th>towards</th>\n",
              "      <td>0</td>\n",
              "      <td>0</td>\n",
              "      <td>0</td>\n",
              "      <td>0</td>\n",
              "      <td>0</td>\n",
              "      <td>0</td>\n",
              "      <td>0</td>\n",
              "      <td>1</td>\n",
              "      <td>0</td>\n",
              "      <td>0</td>\n",
              "      <td>0</td>\n",
              "      <td>0</td>\n",
              "    </tr>\n",
              "    <tr>\n",
              "      <th>major</th>\n",
              "      <td>0</td>\n",
              "      <td>0</td>\n",
              "      <td>0</td>\n",
              "      <td>0</td>\n",
              "      <td>0</td>\n",
              "      <td>0</td>\n",
              "      <td>0</td>\n",
              "      <td>1</td>\n",
              "      <td>0</td>\n",
              "      <td>0</td>\n",
              "      <td>0</td>\n",
              "      <td>0</td>\n",
              "    </tr>\n",
              "    <tr>\n",
              "      <th>phase</th>\n",
              "      <td>0</td>\n",
              "      <td>0</td>\n",
              "      <td>0</td>\n",
              "      <td>0</td>\n",
              "      <td>0</td>\n",
              "      <td>0</td>\n",
              "      <td>0</td>\n",
              "      <td>1</td>\n",
              "      <td>0</td>\n",
              "      <td>0</td>\n",
              "      <td>0</td>\n",
              "      <td>0</td>\n",
              "    </tr>\n",
              "    <tr>\n",
              "      <th>development</th>\n",
              "      <td>0</td>\n",
              "      <td>0</td>\n",
              "      <td>0</td>\n",
              "      <td>0</td>\n",
              "      <td>0</td>\n",
              "      <td>0</td>\n",
              "      <td>0</td>\n",
              "      <td>1</td>\n",
              "      <td>0</td>\n",
              "      <td>0</td>\n",
              "      <td>0</td>\n",
              "      <td>0</td>\n",
              "    </tr>\n",
              "    <tr>\n",
              "      <th>american</th>\n",
              "      <td>0</td>\n",
              "      <td>0</td>\n",
              "      <td>0</td>\n",
              "      <td>0</td>\n",
              "      <td>0</td>\n",
              "      <td>0</td>\n",
              "      <td>0</td>\n",
              "      <td>0</td>\n",
              "      <td>1</td>\n",
              "      <td>0</td>\n",
              "      <td>0</td>\n",
              "      <td>0</td>\n",
              "    </tr>\n",
              "    <tr>\n",
              "      <th>mexican</th>\n",
              "      <td>0</td>\n",
              "      <td>0</td>\n",
              "      <td>0</td>\n",
              "      <td>0</td>\n",
              "      <td>0</td>\n",
              "      <td>0</td>\n",
              "      <td>0</td>\n",
              "      <td>0</td>\n",
              "      <td>1</td>\n",
              "      <td>0</td>\n",
              "      <td>0</td>\n",
              "      <td>0</td>\n",
              "    </tr>\n",
              "    <tr>\n",
              "      <th>idli</th>\n",
              "      <td>0</td>\n",
              "      <td>0</td>\n",
              "      <td>0</td>\n",
              "      <td>0</td>\n",
              "      <td>0</td>\n",
              "      <td>0</td>\n",
              "      <td>0</td>\n",
              "      <td>0</td>\n",
              "      <td>0</td>\n",
              "      <td>1</td>\n",
              "      <td>0</td>\n",
              "      <td>0</td>\n",
              "    </tr>\n",
              "    <tr>\n",
              "      <th>healthy</th>\n",
              "      <td>0</td>\n",
              "      <td>0</td>\n",
              "      <td>0</td>\n",
              "      <td>0</td>\n",
              "      <td>0</td>\n",
              "      <td>0</td>\n",
              "      <td>0</td>\n",
              "      <td>0</td>\n",
              "      <td>0</td>\n",
              "      <td>1</td>\n",
              "      <td>0</td>\n",
              "      <td>0</td>\n",
              "    </tr>\n",
              "    <tr>\n",
              "      <th>breakfast</th>\n",
              "      <td>0</td>\n",
              "      <td>0</td>\n",
              "      <td>0</td>\n",
              "      <td>0</td>\n",
              "      <td>0</td>\n",
              "      <td>0</td>\n",
              "      <td>0</td>\n",
              "      <td>0</td>\n",
              "      <td>0</td>\n",
              "      <td>1</td>\n",
              "      <td>0</td>\n",
              "      <td>0</td>\n",
              "    </tr>\n",
              "    <tr>\n",
              "      <th>haleem</th>\n",
              "      <td>0</td>\n",
              "      <td>0</td>\n",
              "      <td>0</td>\n",
              "      <td>0</td>\n",
              "      <td>0</td>\n",
              "      <td>0</td>\n",
              "      <td>0</td>\n",
              "      <td>0</td>\n",
              "      <td>0</td>\n",
              "      <td>0</td>\n",
              "      <td>1</td>\n",
              "      <td>0</td>\n",
              "    </tr>\n",
              "    <tr>\n",
              "      <th>yummy</th>\n",
              "      <td>0</td>\n",
              "      <td>0</td>\n",
              "      <td>0</td>\n",
              "      <td>0</td>\n",
              "      <td>0</td>\n",
              "      <td>0</td>\n",
              "      <td>0</td>\n",
              "      <td>0</td>\n",
              "      <td>0</td>\n",
              "      <td>0</td>\n",
              "      <td>1</td>\n",
              "      <td>0</td>\n",
              "    </tr>\n",
              "    <tr>\n",
              "      <th>popular</th>\n",
              "      <td>0</td>\n",
              "      <td>0</td>\n",
              "      <td>0</td>\n",
              "      <td>0</td>\n",
              "      <td>0</td>\n",
              "      <td>0</td>\n",
              "      <td>0</td>\n",
              "      <td>0</td>\n",
              "      <td>0</td>\n",
              "      <td>0</td>\n",
              "      <td>0</td>\n",
              "      <td>1</td>\n",
              "    </tr>\n",
              "    <tr>\n",
              "      <th>waeather</th>\n",
              "      <td>0</td>\n",
              "      <td>0</td>\n",
              "      <td>0</td>\n",
              "      <td>0</td>\n",
              "      <td>0</td>\n",
              "      <td>0</td>\n",
              "      <td>0</td>\n",
              "      <td>0</td>\n",
              "      <td>0</td>\n",
              "      <td>0</td>\n",
              "      <td>0</td>\n",
              "      <td>1</td>\n",
              "    </tr>\n",
              "  </tbody>\n",
              "</table>\n",
              "</div>\n",
              "    <div class=\"colab-df-buttons\">\n",
              "\n",
              "  <div class=\"colab-df-container\">\n",
              "    <button class=\"colab-df-convert\" onclick=\"convertToInteractive('df-1858a2c5-e936-42ce-b5d1-1f550df432f4')\"\n",
              "            title=\"Convert this dataframe to an interactive table.\"\n",
              "            style=\"display:none;\">\n",
              "\n",
              "  <svg xmlns=\"http://www.w3.org/2000/svg\" height=\"24px\" viewBox=\"0 -960 960 960\">\n",
              "    <path d=\"M120-120v-720h720v720H120Zm60-500h600v-160H180v160Zm220 220h160v-160H400v160Zm0 220h160v-160H400v160ZM180-400h160v-160H180v160Zm440 0h160v-160H620v160ZM180-180h160v-160H180v160Zm440 0h160v-160H620v160Z\"/>\n",
              "  </svg>\n",
              "    </button>\n",
              "\n",
              "  <style>\n",
              "    .colab-df-container {\n",
              "      display:flex;\n",
              "      gap: 12px;\n",
              "    }\n",
              "\n",
              "    .colab-df-convert {\n",
              "      background-color: #E8F0FE;\n",
              "      border: none;\n",
              "      border-radius: 50%;\n",
              "      cursor: pointer;\n",
              "      display: none;\n",
              "      fill: #1967D2;\n",
              "      height: 32px;\n",
              "      padding: 0 0 0 0;\n",
              "      width: 32px;\n",
              "    }\n",
              "\n",
              "    .colab-df-convert:hover {\n",
              "      background-color: #E2EBFA;\n",
              "      box-shadow: 0px 1px 2px rgba(60, 64, 67, 0.3), 0px 1px 3px 1px rgba(60, 64, 67, 0.15);\n",
              "      fill: #174EA6;\n",
              "    }\n",
              "\n",
              "    .colab-df-buttons div {\n",
              "      margin-bottom: 4px;\n",
              "    }\n",
              "\n",
              "    [theme=dark] .colab-df-convert {\n",
              "      background-color: #3B4455;\n",
              "      fill: #D2E3FC;\n",
              "    }\n",
              "\n",
              "    [theme=dark] .colab-df-convert:hover {\n",
              "      background-color: #434B5C;\n",
              "      box-shadow: 0px 1px 3px 1px rgba(0, 0, 0, 0.15);\n",
              "      filter: drop-shadow(0px 1px 2px rgba(0, 0, 0, 0.3));\n",
              "      fill: #FFFFFF;\n",
              "    }\n",
              "  </style>\n",
              "\n",
              "    <script>\n",
              "      const buttonEl =\n",
              "        document.querySelector('#df-1858a2c5-e936-42ce-b5d1-1f550df432f4 button.colab-df-convert');\n",
              "      buttonEl.style.display =\n",
              "        google.colab.kernel.accessAllowed ? 'block' : 'none';\n",
              "\n",
              "      async function convertToInteractive(key) {\n",
              "        const element = document.querySelector('#df-1858a2c5-e936-42ce-b5d1-1f550df432f4');\n",
              "        const dataTable =\n",
              "          await google.colab.kernel.invokeFunction('convertToInteractive',\n",
              "                                                    [key], {});\n",
              "        if (!dataTable) return;\n",
              "\n",
              "        const docLinkHtml = 'Like what you see? Visit the ' +\n",
              "          '<a target=\"_blank\" href=https://colab.research.google.com/notebooks/data_table.ipynb>data table notebook</a>'\n",
              "          + ' to learn more about interactive tables.';\n",
              "        element.innerHTML = '';\n",
              "        dataTable['output_type'] = 'display_data';\n",
              "        await google.colab.output.renderOutput(dataTable, element);\n",
              "        const docLink = document.createElement('div');\n",
              "        docLink.innerHTML = docLinkHtml;\n",
              "        element.appendChild(docLink);\n",
              "      }\n",
              "    </script>\n",
              "  </div>\n",
              "\n",
              "\n",
              "<div id=\"df-6869fe9f-c6b8-4622-8b3a-dc26e0af65b3\">\n",
              "  <button class=\"colab-df-quickchart\" onclick=\"quickchart('df-6869fe9f-c6b8-4622-8b3a-dc26e0af65b3')\"\n",
              "            title=\"Suggest charts\"\n",
              "            style=\"display:none;\">\n",
              "\n",
              "<svg xmlns=\"http://www.w3.org/2000/svg\" height=\"24px\"viewBox=\"0 0 24 24\"\n",
              "     width=\"24px\">\n",
              "    <g>\n",
              "        <path d=\"M19 3H5c-1.1 0-2 .9-2 2v14c0 1.1.9 2 2 2h14c1.1 0 2-.9 2-2V5c0-1.1-.9-2-2-2zM9 17H7v-7h2v7zm4 0h-2V7h2v10zm4 0h-2v-4h2v4z\"/>\n",
              "    </g>\n",
              "</svg>\n",
              "  </button>\n",
              "\n",
              "<style>\n",
              "  .colab-df-quickchart {\n",
              "      --bg-color: #E8F0FE;\n",
              "      --fill-color: #1967D2;\n",
              "      --hover-bg-color: #E2EBFA;\n",
              "      --hover-fill-color: #174EA6;\n",
              "      --disabled-fill-color: #AAA;\n",
              "      --disabled-bg-color: #DDD;\n",
              "  }\n",
              "\n",
              "  [theme=dark] .colab-df-quickchart {\n",
              "      --bg-color: #3B4455;\n",
              "      --fill-color: #D2E3FC;\n",
              "      --hover-bg-color: #434B5C;\n",
              "      --hover-fill-color: #FFFFFF;\n",
              "      --disabled-bg-color: #3B4455;\n",
              "      --disabled-fill-color: #666;\n",
              "  }\n",
              "\n",
              "  .colab-df-quickchart {\n",
              "    background-color: var(--bg-color);\n",
              "    border: none;\n",
              "    border-radius: 50%;\n",
              "    cursor: pointer;\n",
              "    display: none;\n",
              "    fill: var(--fill-color);\n",
              "    height: 32px;\n",
              "    padding: 0;\n",
              "    width: 32px;\n",
              "  }\n",
              "\n",
              "  .colab-df-quickchart:hover {\n",
              "    background-color: var(--hover-bg-color);\n",
              "    box-shadow: 0 1px 2px rgba(60, 64, 67, 0.3), 0 1px 3px 1px rgba(60, 64, 67, 0.15);\n",
              "    fill: var(--button-hover-fill-color);\n",
              "  }\n",
              "\n",
              "  .colab-df-quickchart-complete:disabled,\n",
              "  .colab-df-quickchart-complete:disabled:hover {\n",
              "    background-color: var(--disabled-bg-color);\n",
              "    fill: var(--disabled-fill-color);\n",
              "    box-shadow: none;\n",
              "  }\n",
              "\n",
              "  .colab-df-spinner {\n",
              "    border: 2px solid var(--fill-color);\n",
              "    border-color: transparent;\n",
              "    border-bottom-color: var(--fill-color);\n",
              "    animation:\n",
              "      spin 1s steps(1) infinite;\n",
              "  }\n",
              "\n",
              "  @keyframes spin {\n",
              "    0% {\n",
              "      border-color: transparent;\n",
              "      border-bottom-color: var(--fill-color);\n",
              "      border-left-color: var(--fill-color);\n",
              "    }\n",
              "    20% {\n",
              "      border-color: transparent;\n",
              "      border-left-color: var(--fill-color);\n",
              "      border-top-color: var(--fill-color);\n",
              "    }\n",
              "    30% {\n",
              "      border-color: transparent;\n",
              "      border-left-color: var(--fill-color);\n",
              "      border-top-color: var(--fill-color);\n",
              "      border-right-color: var(--fill-color);\n",
              "    }\n",
              "    40% {\n",
              "      border-color: transparent;\n",
              "      border-right-color: var(--fill-color);\n",
              "      border-top-color: var(--fill-color);\n",
              "    }\n",
              "    60% {\n",
              "      border-color: transparent;\n",
              "      border-right-color: var(--fill-color);\n",
              "    }\n",
              "    80% {\n",
              "      border-color: transparent;\n",
              "      border-right-color: var(--fill-color);\n",
              "      border-bottom-color: var(--fill-color);\n",
              "    }\n",
              "    90% {\n",
              "      border-color: transparent;\n",
              "      border-bottom-color: var(--fill-color);\n",
              "    }\n",
              "  }\n",
              "</style>\n",
              "\n",
              "  <script>\n",
              "    async function quickchart(key) {\n",
              "      const quickchartButtonEl =\n",
              "        document.querySelector('#' + key + ' button');\n",
              "      quickchartButtonEl.disabled = true;  // To prevent multiple clicks.\n",
              "      quickchartButtonEl.classList.add('colab-df-spinner');\n",
              "      try {\n",
              "        const charts = await google.colab.kernel.invokeFunction(\n",
              "            'suggestCharts', [key], {});\n",
              "      } catch (error) {\n",
              "        console.error('Error during call to suggestCharts:', error);\n",
              "      }\n",
              "      quickchartButtonEl.classList.remove('colab-df-spinner');\n",
              "      quickchartButtonEl.classList.add('colab-df-quickchart-complete');\n",
              "    }\n",
              "    (() => {\n",
              "      let quickchartButtonEl =\n",
              "        document.querySelector('#df-6869fe9f-c6b8-4622-8b3a-dc26e0af65b3 button');\n",
              "      quickchartButtonEl.style.display =\n",
              "        google.colab.kernel.accessAllowed ? 'block' : 'none';\n",
              "    })();\n",
              "  </script>\n",
              "</div>\n",
              "\n",
              "  <div id=\"id_4d70dd21-1015-42f9-a603-7a90031a7274\">\n",
              "    <style>\n",
              "      .colab-df-generate {\n",
              "        background-color: #E8F0FE;\n",
              "        border: none;\n",
              "        border-radius: 50%;\n",
              "        cursor: pointer;\n",
              "        display: none;\n",
              "        fill: #1967D2;\n",
              "        height: 32px;\n",
              "        padding: 0 0 0 0;\n",
              "        width: 32px;\n",
              "      }\n",
              "\n",
              "      .colab-df-generate:hover {\n",
              "        background-color: #E2EBFA;\n",
              "        box-shadow: 0px 1px 2px rgba(60, 64, 67, 0.3), 0px 1px 3px 1px rgba(60, 64, 67, 0.15);\n",
              "        fill: #174EA6;\n",
              "      }\n",
              "\n",
              "      [theme=dark] .colab-df-generate {\n",
              "        background-color: #3B4455;\n",
              "        fill: #D2E3FC;\n",
              "      }\n",
              "\n",
              "      [theme=dark] .colab-df-generate:hover {\n",
              "        background-color: #434B5C;\n",
              "        box-shadow: 0px 1px 3px 1px rgba(0, 0, 0, 0.15);\n",
              "        filter: drop-shadow(0px 1px 2px rgba(0, 0, 0, 0.3));\n",
              "        fill: #FFFFFF;\n",
              "      }\n",
              "    </style>\n",
              "    <button class=\"colab-df-generate\" onclick=\"generateWithVariable('df')\"\n",
              "            title=\"Generate code using this dataframe.\"\n",
              "            style=\"display:none;\">\n",
              "\n",
              "  <svg xmlns=\"http://www.w3.org/2000/svg\" height=\"24px\"viewBox=\"0 0 24 24\"\n",
              "       width=\"24px\">\n",
              "    <path d=\"M7,19H8.4L18.45,9,17,7.55,7,17.6ZM5,21V16.75L18.45,3.32a2,2,0,0,1,2.83,0l1.4,1.43a1.91,1.91,0,0,1,.58,1.4,1.91,1.91,0,0,1-.58,1.4L9.25,21ZM18.45,9,17,7.55Zm-12,3A5.31,5.31,0,0,0,4.9,8.1,5.31,5.31,0,0,0,1,6.5,5.31,5.31,0,0,0,4.9,4.9,5.31,5.31,0,0,0,6.5,1,5.31,5.31,0,0,0,8.1,4.9,5.31,5.31,0,0,0,12,6.5,5.46,5.46,0,0,0,6.5,12Z\"/>\n",
              "  </svg>\n",
              "    </button>\n",
              "    <script>\n",
              "      (() => {\n",
              "      const buttonEl =\n",
              "        document.querySelector('#id_4d70dd21-1015-42f9-a603-7a90031a7274 button.colab-df-generate');\n",
              "      buttonEl.style.display =\n",
              "        google.colab.kernel.accessAllowed ? 'block' : 'none';\n",
              "\n",
              "      buttonEl.onclick = () => {\n",
              "        google.colab.notebook.generateWithVariable('df');\n",
              "      }\n",
              "      })();\n",
              "    </script>\n",
              "  </div>\n",
              "\n",
              "    </div>\n",
              "  </div>\n"
            ],
            "application/vnd.google.colaboratory.intrinsic+json": {
              "type": "dataframe",
              "variable_name": "df",
              "summary": "{\n  \"name\": \"df\",\n  \"rows\": 47,\n  \"fields\": [\n    {\n      \"column\": 1,\n      \"properties\": {\n        \"dtype\": \"number\",\n        \"std\": 0,\n        \"min\": 0,\n        \"max\": 1,\n        \"num_unique_values\": 2,\n        \"samples\": [\n          0,\n          1\n        ],\n        \"semantic_type\": \"\",\n        \"description\": \"\"\n      }\n    },\n    {\n      \"column\": 2,\n      \"properties\": {\n        \"dtype\": \"number\",\n        \"std\": 0,\n        \"min\": 0,\n        \"max\": 1,\n        \"num_unique_values\": 2,\n        \"samples\": [\n          0,\n          1\n        ],\n        \"semantic_type\": \"\",\n        \"description\": \"\"\n      }\n    },\n    {\n      \"column\": 3,\n      \"properties\": {\n        \"dtype\": \"number\",\n        \"std\": 0,\n        \"min\": 0,\n        \"max\": 1,\n        \"num_unique_values\": 2,\n        \"samples\": [\n          0,\n          1\n        ],\n        \"semantic_type\": \"\",\n        \"description\": \"\"\n      }\n    },\n    {\n      \"column\": 4,\n      \"properties\": {\n        \"dtype\": \"number\",\n        \"std\": 0,\n        \"min\": 0,\n        \"max\": 1,\n        \"num_unique_values\": 2,\n        \"samples\": [\n          1,\n          0\n        ],\n        \"semantic_type\": \"\",\n        \"description\": \"\"\n      }\n    },\n    {\n      \"column\": 5,\n      \"properties\": {\n        \"dtype\": \"number\",\n        \"std\": 0,\n        \"min\": 0,\n        \"max\": 1,\n        \"num_unique_values\": 2,\n        \"samples\": [\n          1,\n          0\n        ],\n        \"semantic_type\": \"\",\n        \"description\": \"\"\n      }\n    },\n    {\n      \"column\": 6,\n      \"properties\": {\n        \"dtype\": \"number\",\n        \"std\": 0,\n        \"min\": 0,\n        \"max\": 1,\n        \"num_unique_values\": 2,\n        \"samples\": [\n          1,\n          0\n        ],\n        \"semantic_type\": \"\",\n        \"description\": \"\"\n      }\n    },\n    {\n      \"column\": 7,\n      \"properties\": {\n        \"dtype\": \"number\",\n        \"std\": 0,\n        \"min\": 0,\n        \"max\": 1,\n        \"num_unique_values\": 2,\n        \"samples\": [\n          0,\n          1\n        ],\n        \"semantic_type\": \"\",\n        \"description\": \"\"\n      }\n    },\n    {\n      \"column\": 8,\n      \"properties\": {\n        \"dtype\": \"number\",\n        \"std\": 0,\n        \"min\": 0,\n        \"max\": 1,\n        \"num_unique_values\": 2,\n        \"samples\": [\n          0,\n          1\n        ],\n        \"semantic_type\": \"\",\n        \"description\": \"\"\n      }\n    },\n    {\n      \"column\": 9,\n      \"properties\": {\n        \"dtype\": \"number\",\n        \"std\": 0,\n        \"min\": 0,\n        \"max\": 1,\n        \"num_unique_values\": 2,\n        \"samples\": [\n          1,\n          0\n        ],\n        \"semantic_type\": \"\",\n        \"description\": \"\"\n      }\n    },\n    {\n      \"column\": 10,\n      \"properties\": {\n        \"dtype\": \"number\",\n        \"std\": 0,\n        \"min\": 0,\n        \"max\": 1,\n        \"num_unique_values\": 2,\n        \"samples\": [\n          1,\n          0\n        ],\n        \"semantic_type\": \"\",\n        \"description\": \"\"\n      }\n    },\n    {\n      \"column\": 11,\n      \"properties\": {\n        \"dtype\": \"number\",\n        \"std\": 0,\n        \"min\": 0,\n        \"max\": 1,\n        \"num_unique_values\": 2,\n        \"samples\": [\n          1,\n          0\n        ],\n        \"semantic_type\": \"\",\n        \"description\": \"\"\n      }\n    },\n    {\n      \"column\": 12,\n      \"properties\": {\n        \"dtype\": \"number\",\n        \"std\": 0,\n        \"min\": 0,\n        \"max\": 1,\n        \"num_unique_values\": 2,\n        \"samples\": [\n          1,\n          0\n        ],\n        \"semantic_type\": \"\",\n        \"description\": \"\"\n      }\n    }\n  ]\n}"
            }
          },
          "metadata": {},
          "execution_count": 74
        }
      ]
    },
    {
      "cell_type": "code",
      "source": [
        "#User Search Query\n",
        "\n",
        "query = \"how is chennai food\""
      ],
      "metadata": {
        "id": "xYzEE_gNnv8F"
      },
      "execution_count": 77,
      "outputs": []
    },
    {
      "cell_type": "code",
      "source": [
        "print(\"Original Query:\",query)\n",
        "query_preprocess = preprocess_text(query)\n",
        "print(\"Preprocessed Query:\", query_preprocess)"
      ],
      "metadata": {
        "colab": {
          "base_uri": "https://localhost:8080/"
        },
        "id": "6ec7MTm3rL5a",
        "outputId": "714b42f4-5a49-4be1-a4a5-01772b517aab"
      },
      "execution_count": 79,
      "outputs": [
        {
          "output_type": "stream",
          "name": "stdout",
          "text": [
            "Original Query: how is chennai food\n",
            "Preprocessed Query: chennai food\n"
          ]
        }
      ]
    },
    {
      "cell_type": "code",
      "source": [
        "# to perform a pattern matching\n",
        "def search(query, index):\n",
        "\n",
        "    # preprocess the user query\n",
        "    query_preprocess = preprocess_text(query)\n",
        "    results = set()\n",
        "\n",
        "    for word in query_preprocess.split(' '):  # iterate thru the words in the user query\n",
        "      #print('Query word:', word)\n",
        "      if word in index:  # find the availability of the qword in the index\n",
        "          # if qword found in index\n",
        "          #print('found in index')\n",
        "          if not results:\n",
        "            # add the docid if there are no docs in results\n",
        "            #print('results is empty, so create')\n",
        "            #print( index[word])\n",
        "            results = index[word]\n",
        "            #print('after filling', results)\n",
        "          else:\n",
        "            # join the docid if there are already docs in results\n",
        "            results = results.union(index[word])\n",
        "      else:\n",
        "          # if qword not found in index\n",
        "          if not results:\n",
        "            results = set()\n",
        "\n",
        "    # finally chk if results is filled and print\n",
        "    print('results:',results)\n",
        "    if results:\n",
        "      for id in results:\n",
        "        print(documents[id])\n",
        "    else:\n",
        "      print(\"No matching results found\")\n"
      ],
      "metadata": {
        "id": "G9xWQdsirdY3"
      },
      "execution_count": 110,
      "outputs": []
    },
    {
      "cell_type": "code",
      "source": [
        "type(index)"
      ],
      "metadata": {
        "colab": {
          "base_uri": "https://localhost:8080/"
        },
        "id": "XH8HU5Y50nPq",
        "outputId": "4ce6dd5f-5785-4059-d6e6-0863f3195322"
      },
      "execution_count": 105,
      "outputs": [
        {
          "output_type": "execute_result",
          "data": {
            "text/plain": [
              "dict"
            ]
          },
          "metadata": {},
          "execution_count": 105
        }
      ]
    },
    {
      "cell_type": "code",
      "source": [
        "query = \"how is chennai food\"\n",
        "search(query,index)"
      ],
      "metadata": {
        "colab": {
          "base_uri": "https://localhost:8080/"
        },
        "id": "w8xDyemitDAe",
        "outputId": "e7bfb0ad-c1a5-43c8-ace0-a84564fe5b44"
      },
      "execution_count": 104,
      "outputs": [
        {
          "output_type": "stream",
          "name": "stdout",
          "text": [
            "Query word: chennai\n",
            "found in index\n",
            "results is empty, so create\n",
            "{4, 12, 6}\n",
            "after filling {4, 12, 6}\n",
            "Query word: food\n",
            "results: {4, 12, 6}\n",
            "Chennai got highest rainfall in the year 2024 after 20 years and its biryani is also good\n",
            "chennai is popular for its waeather\n",
            "Chennai is famous for its cricket ipl team\n"
          ]
        }
      ]
    },
    {
      "cell_type": "code",
      "source": [
        "query = \"how is food\"\n",
        "search(query,index)"
      ],
      "metadata": {
        "colab": {
          "base_uri": "https://localhost:8080/"
        },
        "id": "xEXXIWEF0Q7M",
        "outputId": "82c2b5a3-835a-40b4-e8cd-f0d733491ea3"
      },
      "execution_count": 103,
      "outputs": [
        {
          "output_type": "stream",
          "name": "stdout",
          "text": [
            "Query word: food\n",
            "results: set()\n",
            "No matching results found\n"
          ]
        }
      ]
    },
    {
      "cell_type": "code",
      "source": [
        "print( index['chennai'])"
      ],
      "metadata": {
        "colab": {
          "base_uri": "https://localhost:8080/"
        },
        "id": "B_0105mlzw2p",
        "outputId": "39f4fbf6-9f85-4a03-bc3e-28e4b5ab14a7"
      },
      "execution_count": 98,
      "outputs": [
        {
          "output_type": "stream",
          "name": "stdout",
          "text": [
            "{4, 12, 6}\n"
          ]
        }
      ]
    },
    {
      "cell_type": "code",
      "source": [
        "print( index['india'])"
      ],
      "metadata": {
        "colab": {
          "base_uri": "https://localhost:8080/"
        },
        "id": "_R_kiRDtz_XV",
        "outputId": "1ee6c0ba-faa9-435f-b959-2d4b2da16f2c"
      },
      "execution_count": 99,
      "outputs": [
        {
          "output_type": "stream",
          "name": "stdout",
          "text": [
            "{1, 2, 3, 7, 8}\n"
          ]
        }
      ]
    },
    {
      "cell_type": "code",
      "source": [],
      "metadata": {
        "id": "Z6pahxd0UWLF"
      },
      "execution_count": null,
      "outputs": []
    },
    {
      "cell_type": "code",
      "source": [
        "# print( index['food']) -> this will give error as 'food' is not found in index"
      ],
      "metadata": {
        "colab": {
          "base_uri": "https://localhost:8080/",
          "height": 146
        },
        "id": "fZv3mnf50HMq",
        "outputId": "9789c7c4-520a-4b10-8205-f72de75a36b9"
      },
      "execution_count": 100,
      "outputs": [
        {
          "output_type": "error",
          "ename": "KeyError",
          "evalue": "'food'",
          "traceback": [
            "\u001b[0;31m---------------------------------------------------------------------------\u001b[0m",
            "\u001b[0;31mKeyError\u001b[0m                                  Traceback (most recent call last)",
            "\u001b[0;32m<ipython-input-100-4e76363e004d>\u001b[0m in \u001b[0;36m<cell line: 1>\u001b[0;34m()\u001b[0m\n\u001b[0;32m----> 1\u001b[0;31m \u001b[0mprint\u001b[0m\u001b[0;34m(\u001b[0m \u001b[0mindex\u001b[0m\u001b[0;34m[\u001b[0m\u001b[0;34m'food'\u001b[0m\u001b[0;34m]\u001b[0m\u001b[0;34m)\u001b[0m\u001b[0;34m\u001b[0m\u001b[0;34m\u001b[0m\u001b[0m\n\u001b[0m",
            "\u001b[0;31mKeyError\u001b[0m: 'food'"
          ]
        }
      ]
    },
    {
      "cell_type": "code",
      "source": [
        "query"
      ],
      "metadata": {
        "colab": {
          "base_uri": "https://localhost:8080/",
          "height": 36
        },
        "id": "hL8cI8AjtMjJ",
        "outputId": "f0b4c8a9-fdc8-49c5-bee7-1ea4c7a9f644"
      },
      "execution_count": 83,
      "outputs": [
        {
          "output_type": "execute_result",
          "data": {
            "text/plain": [
              "'how is chennai food'"
            ],
            "application/vnd.google.colaboratory.intrinsic+json": {
              "type": "string"
            }
          },
          "metadata": {},
          "execution_count": 83
        }
      ]
    },
    {
      "cell_type": "code",
      "source": [
        "query = \"T20 world cup\"\n",
        "search(query,index)"
      ],
      "metadata": {
        "colab": {
          "base_uri": "https://localhost:8080/"
        },
        "id": "hlcXGcX-uKOR",
        "outputId": "6df6c74f-1936-4697-a48b-dee7e90db6ca"
      },
      "execution_count": 109,
      "outputs": [
        {
          "output_type": "stream",
          "name": "stdout",
          "text": [
            "results: {2, 5}\n",
            "India is going to launch the cricket t20 world cup in 2026\n",
            "Hyderabad biryani is worlds best\n"
          ]
        }
      ]
    },
    {
      "cell_type": "code",
      "source": [
        "documents"
      ],
      "metadata": {
        "colab": {
          "base_uri": "https://localhost:8080/"
        },
        "id": "K5Uh5SBPtPmI",
        "outputId": "0c7d5dcd-e271-4651-e7db-f879fc3f79a1"
      },
      "execution_count": 86,
      "outputs": [
        {
          "output_type": "execute_result",
          "data": {
            "text/plain": [
              "{1: 'The India has undergone elections in 2024',\n",
              " 2: 'India is going to launch the cricket t20 world cup in 2026',\n",
              " 3: 'Maldives president is making the india army base to go out',\n",
              " 4: 'Chennai got highest rainfall in the year 2024 after 20 years and its biryani is also good',\n",
              " 5: 'Hyderabad biryani is worlds best',\n",
              " 6: 'Chennai is famous for its cricket ipl team',\n",
              " 7: 'The India is a developing country',\n",
              " 8: 'India is heading towards the major phase of development',\n",
              " 9: 'American president is not against the Mexicans',\n",
              " 10: 'The idli is a healthy breakfast',\n",
              " 11: 'Hyderabad haleem is yummy',\n",
              " 12: 'chennai is popular for its waeather'}"
            ]
          },
          "metadata": {},
          "execution_count": 86
        }
      ]
    },
    {
      "cell_type": "code",
      "source": [
        "# to perform a pattern matching for presence of any of the words in the document\n",
        "def search_any(query, index):\n",
        "\n",
        "    # preprocess the user query\n",
        "    query_preprocess = preprocess_text(query)\n",
        "    results = set()\n",
        "\n",
        "    for word in query_preprocess.split(' '):  # iterate thru the words in the user query\n",
        "      if word in index:  # find the availability of the qword in the index\n",
        "          # if qword found in index\n",
        "          if not results:\n",
        "            # add the docid if there are no docs in results\n",
        "            results = index[word]\n",
        "          else:\n",
        "            # join the docid if there are already docs in results\n",
        "            results = results.union(index[word])\n",
        "      else:\n",
        "          # if qword not found in index\n",
        "          if not results:\n",
        "            results = set()\n",
        "\n",
        "    # finally chk if results is filled and print\n",
        "    print('results:',results)\n",
        "    if results:\n",
        "      for id in results:\n",
        "        print(documents[id])\n",
        "    else:\n",
        "      print(\"No matching results found\")\n"
      ],
      "metadata": {
        "id": "m9eAATP4tm0S"
      },
      "execution_count": 111,
      "outputs": []
    },
    {
      "cell_type": "code",
      "source": [
        "# to perform a pattern matching for presence of all of the words in the document\n",
        "def search_all(query, index):\n",
        "\n",
        "    # preprocess the user query\n",
        "    query_preprocess = preprocess_text(query)\n",
        "    results = set()\n",
        "\n",
        "    for word in query_preprocess.split(' '):  # iterate thru the words in the user query\n",
        "      if word in index:  # find the availability of the qword in the index\n",
        "          # if qword found in index\n",
        "          if not results:\n",
        "            # add the docid if there are no docs in results\n",
        "            results = index[word]\n",
        "          else:\n",
        "            # join the docid if there are already docs in results\n",
        "            results = results.intersection(index[word])\n",
        "      else:\n",
        "          # if qword not found in index\n",
        "          #if not results:\n",
        "          results = set()\n",
        "\n",
        "    # finally chk if results is filled and print\n",
        "    print('results:',results)\n",
        "    if results:\n",
        "      for id in results:\n",
        "        print(documents[id])\n",
        "    else:\n",
        "      print(\"No matching results found\")\n"
      ],
      "metadata": {
        "id": "KZFq5AMN5ZwE"
      },
      "execution_count": 123,
      "outputs": []
    },
    {
      "cell_type": "code",
      "source": [
        "query = \"t20 world cup\"\n",
        "search_any(query,index)"
      ],
      "metadata": {
        "colab": {
          "base_uri": "https://localhost:8080/"
        },
        "id": "VLZL_FSG49Bv",
        "outputId": "65ccc25a-f6a9-498f-80d0-0fd6a95cc9bd"
      },
      "execution_count": 112,
      "outputs": [
        {
          "output_type": "stream",
          "name": "stdout",
          "text": [
            "results: {2, 5}\n",
            "India is going to launch the cricket t20 world cup in 2026\n",
            "Hyderabad biryani is worlds best\n"
          ]
        }
      ]
    },
    {
      "cell_type": "code",
      "source": [
        "query = \"t20 world cup\"\n",
        "search_all(query,index)"
      ],
      "metadata": {
        "colab": {
          "base_uri": "https://localhost:8080/"
        },
        "id": "zwvYViQr5raz",
        "outputId": "51e40a96-60d0-4e42-ed83-ceb1dd6e1fd1"
      },
      "execution_count": 124,
      "outputs": [
        {
          "output_type": "stream",
          "name": "stdout",
          "text": [
            "results: {2}\n",
            "India is going to launch the cricket t20 world cup in 2026\n"
          ]
        }
      ]
    },
    {
      "cell_type": "code",
      "source": [
        "query = \"american india\"\n",
        "search_any(query,index)"
      ],
      "metadata": {
        "colab": {
          "base_uri": "https://localhost:8080/"
        },
        "id": "SMpIq-G05DGb",
        "outputId": "fe2b5719-8be8-4ca5-c6d2-2f6fedaa45ae"
      },
      "execution_count": 113,
      "outputs": [
        {
          "output_type": "stream",
          "name": "stdout",
          "text": [
            "results: {1, 2, 3, 7, 8, 9}\n",
            "The India has undergone elections in 2024\n",
            "India is going to launch the cricket t20 world cup in 2026\n",
            "Maldives president is making the india army base to go out\n",
            "The India is a developing country\n",
            "India is heading towards the major phase of development\n",
            "American president is not against the Mexicans\n"
          ]
        }
      ]
    },
    {
      "cell_type": "code",
      "source": [
        "query = \"american india\"\n",
        "search_all(query,index)"
      ],
      "metadata": {
        "colab": {
          "base_uri": "https://localhost:8080/"
        },
        "id": "t6LJnGph5wgx",
        "outputId": "c69d719e-03d0-4300-ec96-c603e0bca058"
      },
      "execution_count": 125,
      "outputs": [
        {
          "output_type": "stream",
          "name": "stdout",
          "text": [
            "results: set()\n",
            "No matching results found\n"
          ]
        }
      ]
    },
    {
      "cell_type": "code",
      "source": [
        "query = \"american mexican\"\n",
        "search_all(query,index)"
      ],
      "metadata": {
        "colab": {
          "base_uri": "https://localhost:8080/"
        },
        "id": "TmgvpFc35Psw",
        "outputId": "11559684-ff1f-4dac-9bcf-83c6fef2ce40"
      },
      "execution_count": 126,
      "outputs": [
        {
          "output_type": "stream",
          "name": "stdout",
          "text": [
            "results: {9}\n",
            "American president is not against the Mexicans\n"
          ]
        }
      ]
    },
    {
      "cell_type": "code",
      "source": [
        "query = \"chennai food\"\n",
        "search_all(query,index)"
      ],
      "metadata": {
        "colab": {
          "base_uri": "https://localhost:8080/"
        },
        "id": "fqNrANEm54gY",
        "outputId": "d55e384a-5f61-44df-a359-3c4d2f25ceed"
      },
      "execution_count": 127,
      "outputs": [
        {
          "output_type": "stream",
          "name": "stdout",
          "text": [
            "results: set()\n",
            "No matching results found\n"
          ]
        }
      ]
    },
    {
      "cell_type": "markdown",
      "source": [
        " #                                          **Flow of Sample Search Engine **"
      ],
      "metadata": {
        "id": "8eaBQlagU-Qm"
      }
    },
    {
      "cell_type": "markdown",
      "source": [
        "![GSE.png](data:image/png;base64,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)"
      ],
      "metadata": {
        "id": "pch8McFgUxgl"
      }
    },
    {
      "cell_type": "code",
      "source": [],
      "metadata": {
        "id": "js0oUUO9587N"
      },
      "execution_count": null,
      "outputs": []
    }
  ]
}