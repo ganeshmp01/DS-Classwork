{
  "nbformat": 4,
  "nbformat_minor": 0,
  "metadata": {
    "colab": {
      "provenance": [],
      "authorship_tag": "ABX9TyPo/g7ejFJhy2dAN18h1Npn",
      "include_colab_link": true
    },
    "kernelspec": {
      "name": "python3",
      "display_name": "Python 3"
    },
    "language_info": {
      "name": "python"
    }
  },
  "cells": [
    {
      "cell_type": "markdown",
      "metadata": {
        "id": "view-in-github",
        "colab_type": "text"
      },
      "source": [
        "<a href=\"https://colab.research.google.com/github/ganeshmp01/DS-Classwork/blob/main/numpy_basics_1.ipynb\" target=\"_parent\"><img src=\"https://colab.research.google.com/assets/colab-badge.svg\" alt=\"Open In Colab\"/></a>"
      ]
    },
    {
      "cell_type": "markdown",
      "source": [
        "### ***#numpy***"
      ],
      "metadata": {
        "id": "xWH7EbxzDG5C"
      }
    },
    {
      "cell_type": "markdown",
      "source": [
        "One dimensional array"
      ],
      "metadata": {
        "id": "qaOAio71EMVp"
      }
    },
    {
      "cell_type": "code",
      "execution_count": null,
      "metadata": {
        "colab": {
          "base_uri": "https://localhost:8080/"
        },
        "id": "ZaNMFEwxDFnO",
        "outputId": "4a3d6da0-3cdd-4b41-9e6f-d689c4dad1a0"
      },
      "outputs": [
        {
          "output_type": "stream",
          "name": "stdout",
          "text": [
            "[1 2 3]\n",
            "The number of dimension of a array is : 1\n"
          ]
        }
      ],
      "source": [
        "import numpy as np\n",
        "a=np.array([1,2,3])\n",
        "print(a)\n",
        "type(a)\n",
        "print(\"The number of dimension of a array is :\", a.ndim)\n"
      ]
    },
    {
      "cell_type": "markdown",
      "source": [
        "Two dimensional array(x ,y)"
      ],
      "metadata": {
        "id": "4azVgJnQESJC"
      }
    },
    {
      "cell_type": "code",
      "source": [
        "import numpy as np\n",
        "B=np.array([\n",
        "    [1,2,3],\n",
        "    [4,5,6]\n",
        "])\n",
        "print(B)\n",
        "print(\"The number of dimension of B array is :\", B.ndim)\n",
        "print(\"The shape of the matrix is \" ,B.shape)\n"
      ],
      "metadata": {
        "colab": {
          "base_uri": "https://localhost:8080/"
        },
        "id": "RwYqKUjcEV1a",
        "outputId": "ffa940b9-1218-4f12-9c06-36c448e6d155"
      },
      "execution_count": null,
      "outputs": [
        {
          "output_type": "stream",
          "name": "stdout",
          "text": [
            "[[1 2 3]\n",
            " [4 5 6]]\n",
            "The number of dimension of B array is : 2\n",
            "The shape of the matrix is  (2, 3)\n"
          ]
        }
      ]
    },
    {
      "cell_type": "markdown",
      "source": [
        "Three dimensional array : bunch of 2 dimensional array  (2X3X3)"
      ],
      "metadata": {
        "id": "ty-XNluiF4Mm"
      }
    },
    {
      "cell_type": "code",
      "source": [
        "import numpy as np\n",
        "c=np.array([\n",
        "    [[1,2,3],\n",
        "     [4,5,6],\n",
        "     [7,8,9]] ,\n",
        "    [[1,3,4],\n",
        "     [2,1,3],\n",
        "     [5,8,2]]\n",
        "])\n",
        "print(c)\n",
        "print(\"The shape of the matrix is \" ,c.shape)\n",
        "print(\"The number of dimension of C array is :\", c.ndim)\n"
      ],
      "metadata": {
        "colab": {
          "base_uri": "https://localhost:8080/"
        },
        "id": "jaJ-u00jF33S",
        "outputId": "12cc692c-c7c4-4f8d-d912-b448c1309495"
      },
      "execution_count": null,
      "outputs": [
        {
          "output_type": "stream",
          "name": "stdout",
          "text": [
            "[[[1 2 3]\n",
            "  [4 5 6]\n",
            "  [7 8 9]]\n",
            "\n",
            " [[1 3 4]\n",
            "  [2 1 3]\n",
            "  [5 8 2]]]\n",
            "The shape of the matrix is  (2, 3, 3)\n",
            "The number of dimension of C array is : 3\n"
          ]
        }
      ]
    },
    {
      "cell_type": "markdown",
      "source": [
        "#Reshaping an array"
      ],
      "metadata": {
        "id": "QMJ7xDzEJ6pd"
      }
    },
    {
      "cell_type": "code",
      "source": [
        "arr_sample = np.array(range(0,16))\n",
        "print(arr_sample)\n",
        "print(\"dimension\",arr_sample.ndim)\n",
        "print(\"shape\",arr_sample.shape)"
      ],
      "metadata": {
        "colab": {
          "base_uri": "https://localhost:8080/"
        },
        "id": "XEmLw7-SJGAH",
        "outputId": "a918cab2-235a-48fa-cc92-d79a75be941e"
      },
      "execution_count": null,
      "outputs": [
        {
          "output_type": "stream",
          "name": "stdout",
          "text": [
            "[ 0  1  2  3  4  5  6  7  8  9 10 11 12 13 14 15]\n",
            "dimension 1\n",
            "shape (16,)\n"
          ]
        }
      ]
    },
    {
      "cell_type": "code",
      "source": [
        "arr_sample1=arr_sample.reshape((4,4))\n",
        "print(arr_sample1)\n",
        "print(\"dimension : \",arr_sample1.ndim)\n",
        "print(\"shape     : \",arr_sample1.shape)"
      ],
      "metadata": {
        "colab": {
          "base_uri": "https://localhost:8080/"
        },
        "id": "-wLAMBicJKIX",
        "outputId": "bd1ae1dc-c251-4146-f625-719ea8c33e67"
      },
      "execution_count": null,
      "outputs": [
        {
          "output_type": "stream",
          "name": "stdout",
          "text": [
            "[[ 0  1  2  3]\n",
            " [ 4  5  6  7]\n",
            " [ 8  9 10 11]\n",
            " [12 13 14 15]]\n",
            "dimension :  2\n",
            "shape     :  (4, 4)\n"
          ]
        }
      ]
    },
    {
      "cell_type": "markdown",
      "source": [
        "**Transpose a matrix( rows to columns)**"
      ],
      "metadata": {
        "id": "PNYJ3XioKss3"
      }
    },
    {
      "cell_type": "code",
      "source": [
        "arr2 = arr_sample1.T\n",
        "print(arr2)"
      ],
      "metadata": {
        "colab": {
          "base_uri": "https://localhost:8080/"
        },
        "id": "lzNL6WnjKkc4",
        "outputId": "36c475ea-9548-471e-99c9-c4a8fb69ffe2"
      },
      "execution_count": null,
      "outputs": [
        {
          "output_type": "stream",
          "name": "stdout",
          "text": [
            "[[ 0  4  8 12]\n",
            " [ 1  5  9 13]\n",
            " [ 2  6 10 14]\n",
            " [ 3  7 11 15]]\n"
          ]
        }
      ]
    },
    {
      "cell_type": "markdown",
      "source": [
        "**Dot product**"
      ],
      "metadata": {
        "id": "O1YWA6y7LJqR"
      }
    },
    {
      "cell_type": "code",
      "source": [
        "a = [[1, 0], [0, 1]]\n",
        "b = [[4, 1], [2, 2]]\n",
        "np.dot(a,b)"
      ],
      "metadata": {
        "colab": {
          "base_uri": "https://localhost:8080/"
        },
        "id": "gtKI7v-WLFKU",
        "outputId": "dc079bd1-de4d-4083-fbd7-94a4c09acf75"
      },
      "execution_count": null,
      "outputs": [
        {
          "output_type": "execute_result",
          "data": {
            "text/plain": [
              "array([[4, 1],\n",
              "       [2, 2]])"
            ]
          },
          "metadata": {},
          "execution_count": 43
        }
      ]
    },
    {
      "cell_type": "code",
      "source": [
        "i=np.eye(3,3)\n",
        "print(i)\n",
        "i.dtype"
      ],
      "metadata": {
        "colab": {
          "base_uri": "https://localhost:8080/"
        },
        "id": "7bEQcPPsLqMs",
        "outputId": "12546304-ceb8-46d3-c405-d699f9326011"
      },
      "execution_count": null,
      "outputs": [
        {
          "output_type": "stream",
          "name": "stdout",
          "text": [
            "[[1. 0. 0.]\n",
            " [0. 1. 0.]\n",
            " [0. 0. 1.]]\n"
          ]
        },
        {
          "output_type": "execute_result",
          "data": {
            "text/plain": [
              "dtype('float64')"
            ]
          },
          "metadata": {},
          "execution_count": 48
        }
      ]
    },
    {
      "cell_type": "markdown",
      "source": [
        "**Type conversion :**\n",
        "U1 - Unicode for a string\n",
        "int - integer data type"
      ],
      "metadata": {
        "id": "NYn5dEYDMpGh"
      }
    },
    {
      "cell_type": "code",
      "source": [
        "x=np.array([\"2\",\"3\",\"4\"])\n",
        "print(x)\n",
        "print(x.dtype)\n",
        "y=x.astype(int)\n",
        "print(y)\n",
        "print(y.dtype)\n"
      ],
      "metadata": {
        "colab": {
          "base_uri": "https://localhost:8080/"
        },
        "id": "BClrPknUMrha",
        "outputId": "6f32e3fe-5c88-4460-ce2d-b71d7ac99b09"
      },
      "execution_count": null,
      "outputs": [
        {
          "output_type": "stream",
          "name": "stdout",
          "text": [
            "['2' '3' '4']\n",
            "<U1\n",
            "[2 3 4]\n",
            "int64\n"
          ]
        }
      ]
    },
    {
      "cell_type": "markdown",
      "source": [
        "## 1D Boolean Indexing in NumPy"
      ],
      "metadata": {
        "id": "iH2DnOXxwMn1"
      }
    },
    {
      "cell_type": "code",
      "source": [
        "import numpy as np\n",
        "\n",
        "# create an array of integers\n",
        "array1 = np.array([1, 2, 4, 9, 11, 16, 18, 22, 26, 31, 33, 47, 51, 52])\n",
        "\n",
        "# create a boolean mask using combined logical operators\n",
        "boolean_mask = (array1 < 10) | (array1 > 40)\n",
        "\n",
        "# apply the boolean mask to the array\n",
        "result = array1[boolean_mask]\n",
        "\n",
        "print(result)\n",
        "\n",
        "# Output: [ 1  2  4  9 47 51 52]"
      ],
      "metadata": {
        "colab": {
          "base_uri": "https://localhost:8080/"
        },
        "id": "KJ-Jz2C2wLjB",
        "outputId": "4de6d27e-2ffa-452a-9f05-29e927b441ea"
      },
      "execution_count": 1,
      "outputs": [
        {
          "output_type": "stream",
          "name": "stdout",
          "text": [
            "[ 1  2  4  9 47 51 52]\n"
          ]
        }
      ]
    },
    {
      "cell_type": "markdown",
      "source": [
        "##2D Boolean indexing in Numpy"
      ],
      "metadata": {
        "id": "i2-8n8K7wpba"
      }
    },
    {
      "cell_type": "code",
      "source": [
        "import numpy as np\n",
        "\n",
        "# create a 2D  array\n",
        "array1 = np.array([[1, 7, 9],\n",
        "                    [14, 19, 21],\n",
        "                    [25, 29, 35]])\n",
        "\n",
        "# create a boolean mask based on the condition\n",
        "# that elements are greater than 9\n",
        "boolean_mask = array1 > 9\n",
        "\n",
        "# select only the elements that satisfy the condition\n",
        "result = array1[boolean_mask]\n",
        "\n",
        "print(result)"
      ],
      "metadata": {
        "colab": {
          "base_uri": "https://localhost:8080/"
        },
        "id": "cfIAgKoowuHO",
        "outputId": "a0ee6c63-d139-4f98-8db1-a7e8da76c566"
      },
      "execution_count": 2,
      "outputs": [
        {
          "output_type": "stream",
          "name": "stdout",
          "text": [
            "[14 19 21 25 29 35]\n"
          ]
        }
      ]
    }
  ]
}