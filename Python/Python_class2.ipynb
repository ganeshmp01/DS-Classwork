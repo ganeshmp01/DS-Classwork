{
  "nbformat": 4,
  "nbformat_minor": 0,
  "metadata": {
    "colab": {
      "provenance": [],
      "authorship_tag": "ABX9TyP1oNxdvFfGzxgC2AaTHThS",
      "include_colab_link": true
    },
    "kernelspec": {
      "name": "python3",
      "display_name": "Python 3"
    },
    "language_info": {
      "name": "python"
    }
  },
  "cells": [
    {
      "cell_type": "markdown",
      "metadata": {
        "id": "view-in-github",
        "colab_type": "text"
      },
      "source": [
        "<a href=\"https://colab.research.google.com/github/ganeshmp01/DS-Classwork/blob/main/Python_class2.ipynb\" target=\"_parent\"><img src=\"https://colab.research.google.com/assets/colab-badge.svg\" alt=\"Open In Colab\"/></a>"
      ]
    },
    {
      "cell_type": "code",
      "execution_count": 1,
      "metadata": {
        "colab": {
          "base_uri": "https://localhost:8080/"
        },
        "id": "W0qJ2opkNeMb",
        "outputId": "d51f14d2-643a-4b78-ab81-559582fa48c4"
      },
      "outputs": [
        {
          "output_type": "execute_result",
          "data": {
            "text/plain": [
              "[2, 4, 6, 8, 1, 3, 5, 7]"
            ]
          },
          "metadata": {},
          "execution_count": 1
        }
      ],
      "source": [
        "lst1=[2,4,6,8]\n",
        "lst2=[1,3,5,7]\n",
        "lst1.extend(lst2)\n",
        "lst1"
      ]
    },
    {
      "cell_type": "code",
      "source": [
        "marks = {\"Physics\":80,\"Math\":90,\"CS\":50}\n",
        "print(list(marks)[0])\n",
        "value=list(marks.values())\n",
        "print(value)"
      ],
      "metadata": {
        "colab": {
          "base_uri": "https://localhost:8080/"
        },
        "id": "O-SYyXFvW6Nx",
        "outputId": "33aa3ba0-6cad-4b55-e5f4-2e2f454b5761"
      },
      "execution_count": 22,
      "outputs": [
        {
          "output_type": "stream",
          "name": "stdout",
          "text": [
            "Physics\n",
            "[80, 90, 50]\n"
          ]
        }
      ]
    },
    {
      "cell_type": "code",
      "source": [],
      "metadata": {
        "id": "B8A4deSaju17"
      },
      "execution_count": null,
      "outputs": []
    },
    {
      "cell_type": "code",
      "source": [
        "mark =int(input(\"Enter the mark:\"))\n",
        "if mark > 80 and mark < 90:\n",
        "  print(\"The grade is A\")\n",
        "elif mark >=90:\n",
        "  print(\"The grade is S\")\n",
        "elif mark >= 50 and mark < 80:\n",
        "  print(\"The grade is B\")\n",
        "else:\n",
        "  print(\"Fail\")"
      ],
      "metadata": {
        "colab": {
          "base_uri": "https://localhost:8080/"
        },
        "id": "-dgunEFAnEAR",
        "outputId": "b441ce7e-0986-4b30-8a7e-7665d8b975b5"
      },
      "execution_count": 71,
      "outputs": [
        {
          "output_type": "stream",
          "name": "stdout",
          "text": [
            "Enter the mark:92\n",
            "The grade is S\n"
          ]
        }
      ]
    },
    {
      "cell_type": "markdown",
      "source": [],
      "metadata": {
        "id": "XJKOG2bxnCd4"
      }
    },
    {
      "cell_type": "code",
      "source": [],
      "metadata": {
        "id": "7L5G6RisjvJF"
      },
      "execution_count": null,
      "outputs": []
    },
    {
      "cell_type": "code",
      "source": [],
      "metadata": {
        "id": "9oMCl2SYjvMe"
      },
      "execution_count": null,
      "outputs": []
    },
    {
      "cell_type": "code",
      "source": [],
      "metadata": {
        "id": "oLtQylcbjvSG"
      },
      "execution_count": null,
      "outputs": []
    }
  ]
}