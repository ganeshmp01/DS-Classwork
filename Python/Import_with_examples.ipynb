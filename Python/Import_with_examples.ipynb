{
  "nbformat": 4,
  "nbformat_minor": 0,
  "metadata": {
    "colab": {
      "provenance": [],
      "authorship_tag": "ABX9TyOZgB9mkoJltPMShWvQiImI",
      "include_colab_link": true
    },
    "kernelspec": {
      "name": "python3",
      "display_name": "Python 3"
    },
    "language_info": {
      "name": "python"
    }
  },
  "cells": [
    {
      "cell_type": "markdown",
      "metadata": {
        "id": "view-in-github",
        "colab_type": "text"
      },
      "source": [
        "<a href=\"https://colab.research.google.com/github/ganeshmp01/DS-Classwork/blob/main/Python/Import_with_examples.ipynb\" target=\"_parent\"><img src=\"https://colab.research.google.com/assets/colab-badge.svg\" alt=\"Open In Colab\"/></a>"
      ]
    },
    {
      "cell_type": "code",
      "execution_count": null,
      "metadata": {
        "id": "R87VGH4w5u4E"
      },
      "outputs": [],
      "source": [
        "package - collection of modules(numpy,pandas)\n",
        "module - collection of functions(json, math,calendar,os)\n",
        "function - set of code to run a limited functionality when it's called(print(),sorted(),copy())\n",
        "\n",
        "import math\n",
        "\n",
        "math.sqrt(16)\n",
        "\n",
        "dir(math) --- this will show all the functions present inside the math module\n",
        "\n",
        "book = { \"bob\" : 9897893 , \"Ganesh\" : 87638274 , \"Krishna\" : 78967265}\n",
        "book\n",
        "import json\n",
        "s=json.dumps(book)   ###dumps(dumping the dictionary called book as a string)\n",
        "\n",
        "with open(\"c:/ganesh/python/book.txt\",\"w\") as f  ## write a file called book.txt using the file \"s\"\n",
        "     f.write(s)\n",
        "\n",
        "f=open(\"C:/ganesh/python/book.txt\",\"r\") # reading a file from the given path\n",
        "s=f.read()\n",
        "\n",
        "import json\n",
        "book=json.loads(s)  # loading a string a data from the file s in to a dictionary named book.\n",
        "book\n",
        "\n",
        "for person in book:\n",
        "   print(book[person])\n"
      ]
    },
    {
      "cell_type": "code",
      "source": [
        "import calendar\n",
        "s=calendar.month(1988,5)\n",
        "print(s)"
      ],
      "metadata": {
        "colab": {
          "base_uri": "https://localhost:8080/"
        },
        "id": "RPh_TPTJ6Bq5",
        "outputId": "4cf5f9af-f4f1-4b86-c1e3-73414a97890e"
      },
      "execution_count": 1,
      "outputs": [
        {
          "output_type": "stream",
          "name": "stdout",
          "text": [
            "      May 1988\n",
            "Mo Tu We Th Fr Sa Su\n",
            "                   1\n",
            " 2  3  4  5  6  7  8\n",
            " 9 10 11 12 13 14 15\n",
            "16 17 18 19 20 21 22\n",
            "23 24 25 26 27 28 29\n",
            "30 31\n",
            "\n"
          ]
        }
      ]
    }
  ]
}