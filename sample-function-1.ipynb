{
 "cells": [
  {
   "cell_type": "code",
   "execution_count": 1,
   "id": "561616a9",
   "metadata": {
    "_cell_guid": "b1076dfc-b9ad-4769-8c92-a6c4dae69d19",
    "_uuid": "8f2839f25d086af736a60e9eeb907d3b93b6e0e5",
    "execution": {
     "iopub.execute_input": "2023-10-26T12:19:13.803137Z",
     "iopub.status.busy": "2023-10-26T12:19:13.802745Z",
     "iopub.status.idle": "2023-10-26T12:19:14.249661Z",
     "shell.execute_reply": "2023-10-26T12:19:14.248370Z"
    },
    "papermill": {
     "duration": 0.454613,
     "end_time": "2023-10-26T12:19:14.252787",
     "exception": false,
     "start_time": "2023-10-26T12:19:13.798174",
     "status": "completed"
    },
    "tags": []
   },
   "outputs": [],
   "source": [
    "# This Python 3 environment comes with many helpful analytics libraries installed\n",
    "# It is defined by the kaggle/python Docker image: https://github.com/kaggle/docker-python\n",
    "# For example, here's several helpful packages to load\n",
    "\n",
    "import numpy as np # linear algebra\n",
    "import pandas as pd # data processing, CSV file I/O (e.g. pd.read_csv)\n",
    "\n",
    "# Input data files are available in the read-only \"../input/\" directory\n",
    "# For example, running this (by clicking run or pressing Shift+Enter) will list all files under the input directory\n",
    "\n",
    "import os\n",
    "for dirname, _, filenames in os.walk('/kaggle/input'):\n",
    "    for filename in filenames:\n",
    "        print(os.path.join(dirname, filename))\n",
    "\n",
    "# You can write up to 20GB to the current directory (/kaggle/working/) that gets preserved as output when you create a version using \"Save & Run All\" \n",
    "# You can also write temporary files to /kaggle/temp/, but they won't be saved outside of the current session"
   ]
  },
  {
   "cell_type": "code",
   "execution_count": 2,
   "id": "158e2757",
   "metadata": {
    "execution": {
     "iopub.execute_input": "2023-10-26T12:19:14.261924Z",
     "iopub.status.busy": "2023-10-26T12:19:14.259593Z",
     "iopub.status.idle": "2023-10-26T12:19:14.266915Z",
     "shell.execute_reply": "2023-10-26T12:19:14.265785Z"
    },
    "papermill": {
     "duration": 0.014128,
     "end_time": "2023-10-26T12:19:14.269765",
     "exception": false,
     "start_time": "2023-10-26T12:19:14.255637",
     "status": "completed"
    },
    "tags": []
   },
   "outputs": [],
   "source": [
    "def add(a,b):\n",
    "    sum = a+b\n",
    "    return sum\n"
   ]
  },
  {
   "cell_type": "code",
   "execution_count": 3,
   "id": "c0b5e43f",
   "metadata": {
    "execution": {
     "iopub.execute_input": "2023-10-26T12:19:14.276338Z",
     "iopub.status.busy": "2023-10-26T12:19:14.275968Z",
     "iopub.status.idle": "2023-10-26T12:19:14.284191Z",
     "shell.execute_reply": "2023-10-26T12:19:14.283113Z"
    },
    "papermill": {
     "duration": 0.015038,
     "end_time": "2023-10-26T12:19:14.287492",
     "exception": false,
     "start_time": "2023-10-26T12:19:14.272454",
     "status": "completed"
    },
    "tags": []
   },
   "outputs": [
    {
     "data": {
      "text/plain": [
       "3"
      ]
     },
     "execution_count": 3,
     "metadata": {},
     "output_type": "execute_result"
    }
   ],
   "source": [
    "add(1,2)"
   ]
  },
  {
   "cell_type": "code",
   "execution_count": 4,
   "id": "d2bf66ed",
   "metadata": {
    "execution": {
     "iopub.execute_input": "2023-10-26T12:19:14.295139Z",
     "iopub.status.busy": "2023-10-26T12:19:14.294403Z",
     "iopub.status.idle": "2023-10-26T12:19:14.301818Z",
     "shell.execute_reply": "2023-10-26T12:19:14.300511Z"
    },
    "papermill": {
     "duration": 0.014749,
     "end_time": "2023-10-26T12:19:14.305019",
     "exception": false,
     "start_time": "2023-10-26T12:19:14.290270",
     "status": "completed"
    },
    "tags": []
   },
   "outputs": [
    {
     "name": "stdout",
     "output_type": "stream",
     "text": [
      "This total is inside the function,local 11\n",
      "This total is outside the function,global 0\n"
     ]
    }
   ],
   "source": [
    "total=0\n",
    "def sum(a,b):\n",
    "    total=a+b\n",
    "    print(\"This total is inside the function,local\", total)\n",
    "    return total\n",
    "    \n",
    "    \n",
    "n=sum(5,6)\n",
    "print(\"This total is outside the function,global\", total)\n"
   ]
  }
 ],
 "metadata": {
  "kernelspec": {
   "display_name": "Python 3",
   "language": "python",
   "name": "python3"
  },
  "language_info": {
   "codemirror_mode": {
    "name": "ipython",
    "version": 3
   },
   "file_extension": ".py",
   "mimetype": "text/x-python",
   "name": "python",
   "nbconvert_exporter": "python",
   "pygments_lexer": "ipython3",
   "version": "3.10.12"
  },
  "papermill": {
   "default_parameters": {},
   "duration": 4.690788,
   "end_time": "2023-10-26T12:19:14.828082",
   "environment_variables": {},
   "exception": null,
   "input_path": "__notebook__.ipynb",
   "output_path": "__notebook__.ipynb",
   "parameters": {},
   "start_time": "2023-10-26T12:19:10.137294",
   "version": "2.4.0"
  }
 },
 "nbformat": 4,
 "nbformat_minor": 5
}
